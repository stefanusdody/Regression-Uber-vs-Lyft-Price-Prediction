{
 "cells": [
  {
   "cell_type": "markdown",
   "id": "1f30cbb9",
   "metadata": {},
   "source": [
    "# Introduction"
   ]
  },
  {
   "cell_type": "markdown",
   "id": "eddfb17e",
   "metadata": {},
   "source": [
    "#### Dataset"
   ]
  },
  {
   "cell_type": "markdown",
   "id": "cdb47ae9",
   "metadata": {},
   "source": [
    "Dataset merupakan kumpulan data untuk layanan Uber dan Lyft."
   ]
  },
  {
   "cell_type": "markdown",
   "id": "bc3fa6a0",
   "metadata": {},
   "source": [
    "#### Sumber Dataset"
   ]
  },
  {
   "cell_type": "markdown",
   "id": "f73d4783",
   "metadata": {},
   "source": [
    "Sumber asli dataset berasal dari kaggle : https://www.kaggle.com/brllrb/uber-and-lyft-dataset-boston-ma"
   ]
  },
  {
   "cell_type": "markdown",
   "id": "58d1342b",
   "metadata": {},
   "source": [
    "#### Objective "
   ]
  },
  {
   "cell_type": "markdown",
   "id": "e9ec3064",
   "metadata": {},
   "source": [
    "Objective yang ingin diperoleh adalah memprediksi harga layanan dengan menggunakan regresi "
   ]
  },
  {
   "cell_type": "markdown",
   "id": "b86371e9",
   "metadata": {},
   "source": [
    "# 2. Import Pustaka"
   ]
  },
  {
   "cell_type": "code",
   "execution_count": null,
   "id": "981c6a15",
   "metadata": {},
   "outputs": [],
   "source": [
    "import pandas as pd\n",
    "import numpy as np\n",
    "import matplotlib.pyplot as plt\n",
    "import seaborn as sns\n",
    "\n",
    "## for feature slection\n",
    "from sklearn.feature_selection import SelectFromModel\n",
    "\n",
    "#pre-processing\n",
    "from sklearn.preprocessing import StandardScaler\n",
    "from sklearn.model_selection import train_test_split \n",
    "\n",
    "# Model Regression\n",
    "from sklearn.linear_model import LinearRegression\n",
    "from sklearn import linear_model\n",
    "from sklearn.linear_model import Ridge\n",
    "\n",
    "# for matrics evaluation\n",
    "from sklearn.metrics import recall_score, accuracy_score, precision_score, f1_score\n",
    "from sklearn.metrics import confusion_matrix\n",
    "from sklearn.metrics import classification_report\n",
    "from sklearn.metrics import roc_curve,auc\n",
    "from sklearn.metrics import roc_auc_score\n",
    "\n",
    "%matplotlib inline"
   ]
  },
  {
   "cell_type": "markdown",
   "id": "97ecefa6",
   "metadata": {},
   "source": [
    "# 3. Data Loading "
   ]
  },
  {
   "cell_type": "code",
   "execution_count": 2,
   "id": "e57e893b",
   "metadata": {},
   "outputs": [],
   "source": [
    "dataset = pd.read_csv('rideshare_kaggle.csv')"
   ]
  },
  {
   "cell_type": "markdown",
   "id": "0aa9b0a7",
   "metadata": {},
   "source": [
    "#### Melihat 5 data teratas "
   ]
  },
  {
   "cell_type": "code",
   "execution_count": 3,
   "id": "9448a9ef",
   "metadata": {},
   "outputs": [
    {
     "data": {
      "text/html": [
       "<div>\n",
       "<style scoped>\n",
       "    .dataframe tbody tr th:only-of-type {\n",
       "        vertical-align: middle;\n",
       "    }\n",
       "\n",
       "    .dataframe tbody tr th {\n",
       "        vertical-align: top;\n",
       "    }\n",
       "\n",
       "    .dataframe thead th {\n",
       "        text-align: right;\n",
       "    }\n",
       "</style>\n",
       "<table border=\"1\" class=\"dataframe\">\n",
       "  <thead>\n",
       "    <tr style=\"text-align: right;\">\n",
       "      <th></th>\n",
       "      <th>id</th>\n",
       "      <th>timestamp</th>\n",
       "      <th>hour</th>\n",
       "      <th>day</th>\n",
       "      <th>month</th>\n",
       "      <th>datetime</th>\n",
       "      <th>timezone</th>\n",
       "      <th>source</th>\n",
       "      <th>destination</th>\n",
       "      <th>cab_type</th>\n",
       "      <th>...</th>\n",
       "      <th>precipIntensityMax</th>\n",
       "      <th>uvIndexTime</th>\n",
       "      <th>temperatureMin</th>\n",
       "      <th>temperatureMinTime</th>\n",
       "      <th>temperatureMax</th>\n",
       "      <th>temperatureMaxTime</th>\n",
       "      <th>apparentTemperatureMin</th>\n",
       "      <th>apparentTemperatureMinTime</th>\n",
       "      <th>apparentTemperatureMax</th>\n",
       "      <th>apparentTemperatureMaxTime</th>\n",
       "    </tr>\n",
       "  </thead>\n",
       "  <tbody>\n",
       "    <tr>\n",
       "      <th>0</th>\n",
       "      <td>424553bb-7174-41ea-aeb4-fe06d4f4b9d7</td>\n",
       "      <td>1.544953e+09</td>\n",
       "      <td>9</td>\n",
       "      <td>16</td>\n",
       "      <td>12</td>\n",
       "      <td>2018-12-16 09:30:07</td>\n",
       "      <td>America/New_York</td>\n",
       "      <td>Haymarket Square</td>\n",
       "      <td>North Station</td>\n",
       "      <td>Lyft</td>\n",
       "      <td>...</td>\n",
       "      <td>0.1276</td>\n",
       "      <td>1544979600</td>\n",
       "      <td>39.89</td>\n",
       "      <td>1545012000</td>\n",
       "      <td>43.68</td>\n",
       "      <td>1544968800</td>\n",
       "      <td>33.73</td>\n",
       "      <td>1545012000</td>\n",
       "      <td>38.07</td>\n",
       "      <td>1544958000</td>\n",
       "    </tr>\n",
       "    <tr>\n",
       "      <th>1</th>\n",
       "      <td>4bd23055-6827-41c6-b23b-3c491f24e74d</td>\n",
       "      <td>1.543284e+09</td>\n",
       "      <td>2</td>\n",
       "      <td>27</td>\n",
       "      <td>11</td>\n",
       "      <td>2018-11-27 02:00:23</td>\n",
       "      <td>America/New_York</td>\n",
       "      <td>Haymarket Square</td>\n",
       "      <td>North Station</td>\n",
       "      <td>Lyft</td>\n",
       "      <td>...</td>\n",
       "      <td>0.1300</td>\n",
       "      <td>1543251600</td>\n",
       "      <td>40.49</td>\n",
       "      <td>1543233600</td>\n",
       "      <td>47.30</td>\n",
       "      <td>1543251600</td>\n",
       "      <td>36.20</td>\n",
       "      <td>1543291200</td>\n",
       "      <td>43.92</td>\n",
       "      <td>1543251600</td>\n",
       "    </tr>\n",
       "    <tr>\n",
       "      <th>2</th>\n",
       "      <td>981a3613-77af-4620-a42a-0c0866077d1e</td>\n",
       "      <td>1.543367e+09</td>\n",
       "      <td>1</td>\n",
       "      <td>28</td>\n",
       "      <td>11</td>\n",
       "      <td>2018-11-28 01:00:22</td>\n",
       "      <td>America/New_York</td>\n",
       "      <td>Haymarket Square</td>\n",
       "      <td>North Station</td>\n",
       "      <td>Lyft</td>\n",
       "      <td>...</td>\n",
       "      <td>0.1064</td>\n",
       "      <td>1543338000</td>\n",
       "      <td>35.36</td>\n",
       "      <td>1543377600</td>\n",
       "      <td>47.55</td>\n",
       "      <td>1543320000</td>\n",
       "      <td>31.04</td>\n",
       "      <td>1543377600</td>\n",
       "      <td>44.12</td>\n",
       "      <td>1543320000</td>\n",
       "    </tr>\n",
       "    <tr>\n",
       "      <th>3</th>\n",
       "      <td>c2d88af2-d278-4bfd-a8d0-29ca77cc5512</td>\n",
       "      <td>1.543554e+09</td>\n",
       "      <td>4</td>\n",
       "      <td>30</td>\n",
       "      <td>11</td>\n",
       "      <td>2018-11-30 04:53:02</td>\n",
       "      <td>America/New_York</td>\n",
       "      <td>Haymarket Square</td>\n",
       "      <td>North Station</td>\n",
       "      <td>Lyft</td>\n",
       "      <td>...</td>\n",
       "      <td>0.0000</td>\n",
       "      <td>1543507200</td>\n",
       "      <td>34.67</td>\n",
       "      <td>1543550400</td>\n",
       "      <td>45.03</td>\n",
       "      <td>1543510800</td>\n",
       "      <td>30.30</td>\n",
       "      <td>1543550400</td>\n",
       "      <td>38.53</td>\n",
       "      <td>1543510800</td>\n",
       "    </tr>\n",
       "    <tr>\n",
       "      <th>4</th>\n",
       "      <td>e0126e1f-8ca9-4f2e-82b3-50505a09db9a</td>\n",
       "      <td>1.543463e+09</td>\n",
       "      <td>3</td>\n",
       "      <td>29</td>\n",
       "      <td>11</td>\n",
       "      <td>2018-11-29 03:49:20</td>\n",
       "      <td>America/New_York</td>\n",
       "      <td>Haymarket Square</td>\n",
       "      <td>North Station</td>\n",
       "      <td>Lyft</td>\n",
       "      <td>...</td>\n",
       "      <td>0.0001</td>\n",
       "      <td>1543420800</td>\n",
       "      <td>33.10</td>\n",
       "      <td>1543402800</td>\n",
       "      <td>42.18</td>\n",
       "      <td>1543420800</td>\n",
       "      <td>29.11</td>\n",
       "      <td>1543392000</td>\n",
       "      <td>35.75</td>\n",
       "      <td>1543420800</td>\n",
       "    </tr>\n",
       "  </tbody>\n",
       "</table>\n",
       "<p>5 rows × 57 columns</p>\n",
       "</div>"
      ],
      "text/plain": [
       "                                     id     timestamp  hour  day  month  \\\n",
       "0  424553bb-7174-41ea-aeb4-fe06d4f4b9d7  1.544953e+09     9   16     12   \n",
       "1  4bd23055-6827-41c6-b23b-3c491f24e74d  1.543284e+09     2   27     11   \n",
       "2  981a3613-77af-4620-a42a-0c0866077d1e  1.543367e+09     1   28     11   \n",
       "3  c2d88af2-d278-4bfd-a8d0-29ca77cc5512  1.543554e+09     4   30     11   \n",
       "4  e0126e1f-8ca9-4f2e-82b3-50505a09db9a  1.543463e+09     3   29     11   \n",
       "\n",
       "              datetime          timezone            source    destination  \\\n",
       "0  2018-12-16 09:30:07  America/New_York  Haymarket Square  North Station   \n",
       "1  2018-11-27 02:00:23  America/New_York  Haymarket Square  North Station   \n",
       "2  2018-11-28 01:00:22  America/New_York  Haymarket Square  North Station   \n",
       "3  2018-11-30 04:53:02  America/New_York  Haymarket Square  North Station   \n",
       "4  2018-11-29 03:49:20  America/New_York  Haymarket Square  North Station   \n",
       "\n",
       "  cab_type  ... precipIntensityMax uvIndexTime  temperatureMin  \\\n",
       "0     Lyft  ...             0.1276  1544979600           39.89   \n",
       "1     Lyft  ...             0.1300  1543251600           40.49   \n",
       "2     Lyft  ...             0.1064  1543338000           35.36   \n",
       "3     Lyft  ...             0.0000  1543507200           34.67   \n",
       "4     Lyft  ...             0.0001  1543420800           33.10   \n",
       "\n",
       "   temperatureMinTime  temperatureMax  temperatureMaxTime  \\\n",
       "0          1545012000           43.68          1544968800   \n",
       "1          1543233600           47.30          1543251600   \n",
       "2          1543377600           47.55          1543320000   \n",
       "3          1543550400           45.03          1543510800   \n",
       "4          1543402800           42.18          1543420800   \n",
       "\n",
       "   apparentTemperatureMin  apparentTemperatureMinTime  apparentTemperatureMax  \\\n",
       "0                   33.73                  1545012000                   38.07   \n",
       "1                   36.20                  1543291200                   43.92   \n",
       "2                   31.04                  1543377600                   44.12   \n",
       "3                   30.30                  1543550400                   38.53   \n",
       "4                   29.11                  1543392000                   35.75   \n",
       "\n",
       "  apparentTemperatureMaxTime  \n",
       "0                 1544958000  \n",
       "1                 1543251600  \n",
       "2                 1543320000  \n",
       "3                 1543510800  \n",
       "4                 1543420800  \n",
       "\n",
       "[5 rows x 57 columns]"
      ]
     },
     "execution_count": 3,
     "metadata": {},
     "output_type": "execute_result"
    }
   ],
   "source": [
    "dataset.head()"
   ]
  },
  {
   "cell_type": "markdown",
   "id": "900d4e50",
   "metadata": {},
   "source": [
    "#### Melihat 5 data terbawah "
   ]
  },
  {
   "cell_type": "code",
   "execution_count": 4,
   "id": "eaf5aa90",
   "metadata": {},
   "outputs": [
    {
     "data": {
      "text/html": [
       "<div>\n",
       "<style scoped>\n",
       "    .dataframe tbody tr th:only-of-type {\n",
       "        vertical-align: middle;\n",
       "    }\n",
       "\n",
       "    .dataframe tbody tr th {\n",
       "        vertical-align: top;\n",
       "    }\n",
       "\n",
       "    .dataframe thead th {\n",
       "        text-align: right;\n",
       "    }\n",
       "</style>\n",
       "<table border=\"1\" class=\"dataframe\">\n",
       "  <thead>\n",
       "    <tr style=\"text-align: right;\">\n",
       "      <th></th>\n",
       "      <th>id</th>\n",
       "      <th>timestamp</th>\n",
       "      <th>hour</th>\n",
       "      <th>day</th>\n",
       "      <th>month</th>\n",
       "      <th>datetime</th>\n",
       "      <th>timezone</th>\n",
       "      <th>source</th>\n",
       "      <th>destination</th>\n",
       "      <th>cab_type</th>\n",
       "      <th>...</th>\n",
       "      <th>precipIntensityMax</th>\n",
       "      <th>uvIndexTime</th>\n",
       "      <th>temperatureMin</th>\n",
       "      <th>temperatureMinTime</th>\n",
       "      <th>temperatureMax</th>\n",
       "      <th>temperatureMaxTime</th>\n",
       "      <th>apparentTemperatureMin</th>\n",
       "      <th>apparentTemperatureMinTime</th>\n",
       "      <th>apparentTemperatureMax</th>\n",
       "      <th>apparentTemperatureMaxTime</th>\n",
       "    </tr>\n",
       "  </thead>\n",
       "  <tbody>\n",
       "    <tr>\n",
       "      <th>693066</th>\n",
       "      <td>616d3611-1820-450a-9845-a9ff304a4842</td>\n",
       "      <td>1.543708e+09</td>\n",
       "      <td>23</td>\n",
       "      <td>1</td>\n",
       "      <td>12</td>\n",
       "      <td>2018-12-01 23:53:05</td>\n",
       "      <td>America/New_York</td>\n",
       "      <td>West End</td>\n",
       "      <td>North End</td>\n",
       "      <td>Uber</td>\n",
       "      <td>...</td>\n",
       "      <td>0.0</td>\n",
       "      <td>1543683600</td>\n",
       "      <td>31.42</td>\n",
       "      <td>1543658400</td>\n",
       "      <td>44.76</td>\n",
       "      <td>1543690800</td>\n",
       "      <td>27.77</td>\n",
       "      <td>1543658400</td>\n",
       "      <td>44.09</td>\n",
       "      <td>1543690800</td>\n",
       "    </tr>\n",
       "    <tr>\n",
       "      <th>693067</th>\n",
       "      <td>633a3fc3-1f86-4b9e-9d48-2b7132112341</td>\n",
       "      <td>1.543708e+09</td>\n",
       "      <td>23</td>\n",
       "      <td>1</td>\n",
       "      <td>12</td>\n",
       "      <td>2018-12-01 23:53:05</td>\n",
       "      <td>America/New_York</td>\n",
       "      <td>West End</td>\n",
       "      <td>North End</td>\n",
       "      <td>Uber</td>\n",
       "      <td>...</td>\n",
       "      <td>0.0</td>\n",
       "      <td>1543683600</td>\n",
       "      <td>31.42</td>\n",
       "      <td>1543658400</td>\n",
       "      <td>44.76</td>\n",
       "      <td>1543690800</td>\n",
       "      <td>27.77</td>\n",
       "      <td>1543658400</td>\n",
       "      <td>44.09</td>\n",
       "      <td>1543690800</td>\n",
       "    </tr>\n",
       "    <tr>\n",
       "      <th>693068</th>\n",
       "      <td>64d451d0-639f-47a4-9b7c-6fd92fbd264f</td>\n",
       "      <td>1.543708e+09</td>\n",
       "      <td>23</td>\n",
       "      <td>1</td>\n",
       "      <td>12</td>\n",
       "      <td>2018-12-01 23:53:05</td>\n",
       "      <td>America/New_York</td>\n",
       "      <td>West End</td>\n",
       "      <td>North End</td>\n",
       "      <td>Uber</td>\n",
       "      <td>...</td>\n",
       "      <td>0.0</td>\n",
       "      <td>1543683600</td>\n",
       "      <td>31.42</td>\n",
       "      <td>1543658400</td>\n",
       "      <td>44.76</td>\n",
       "      <td>1543690800</td>\n",
       "      <td>27.77</td>\n",
       "      <td>1543658400</td>\n",
       "      <td>44.09</td>\n",
       "      <td>1543690800</td>\n",
       "    </tr>\n",
       "    <tr>\n",
       "      <th>693069</th>\n",
       "      <td>727e5f07-a96b-4ad1-a2c7-9abc3ad55b4e</td>\n",
       "      <td>1.543708e+09</td>\n",
       "      <td>23</td>\n",
       "      <td>1</td>\n",
       "      <td>12</td>\n",
       "      <td>2018-12-01 23:53:05</td>\n",
       "      <td>America/New_York</td>\n",
       "      <td>West End</td>\n",
       "      <td>North End</td>\n",
       "      <td>Uber</td>\n",
       "      <td>...</td>\n",
       "      <td>0.0</td>\n",
       "      <td>1543683600</td>\n",
       "      <td>31.42</td>\n",
       "      <td>1543658400</td>\n",
       "      <td>44.76</td>\n",
       "      <td>1543690800</td>\n",
       "      <td>27.77</td>\n",
       "      <td>1543658400</td>\n",
       "      <td>44.09</td>\n",
       "      <td>1543690800</td>\n",
       "    </tr>\n",
       "    <tr>\n",
       "      <th>693070</th>\n",
       "      <td>e7fdc087-fe86-40a5-a3c3-3b2a8badcbda</td>\n",
       "      <td>1.543708e+09</td>\n",
       "      <td>23</td>\n",
       "      <td>1</td>\n",
       "      <td>12</td>\n",
       "      <td>2018-12-01 23:53:05</td>\n",
       "      <td>America/New_York</td>\n",
       "      <td>West End</td>\n",
       "      <td>North End</td>\n",
       "      <td>Uber</td>\n",
       "      <td>...</td>\n",
       "      <td>0.0</td>\n",
       "      <td>1543683600</td>\n",
       "      <td>31.42</td>\n",
       "      <td>1543658400</td>\n",
       "      <td>44.76</td>\n",
       "      <td>1543690800</td>\n",
       "      <td>27.77</td>\n",
       "      <td>1543658400</td>\n",
       "      <td>44.09</td>\n",
       "      <td>1543690800</td>\n",
       "    </tr>\n",
       "  </tbody>\n",
       "</table>\n",
       "<p>5 rows × 57 columns</p>\n",
       "</div>"
      ],
      "text/plain": [
       "                                          id     timestamp  hour  day  month  \\\n",
       "693066  616d3611-1820-450a-9845-a9ff304a4842  1.543708e+09    23    1     12   \n",
       "693067  633a3fc3-1f86-4b9e-9d48-2b7132112341  1.543708e+09    23    1     12   \n",
       "693068  64d451d0-639f-47a4-9b7c-6fd92fbd264f  1.543708e+09    23    1     12   \n",
       "693069  727e5f07-a96b-4ad1-a2c7-9abc3ad55b4e  1.543708e+09    23    1     12   \n",
       "693070  e7fdc087-fe86-40a5-a3c3-3b2a8badcbda  1.543708e+09    23    1     12   \n",
       "\n",
       "                   datetime          timezone    source destination cab_type  \\\n",
       "693066  2018-12-01 23:53:05  America/New_York  West End   North End     Uber   \n",
       "693067  2018-12-01 23:53:05  America/New_York  West End   North End     Uber   \n",
       "693068  2018-12-01 23:53:05  America/New_York  West End   North End     Uber   \n",
       "693069  2018-12-01 23:53:05  America/New_York  West End   North End     Uber   \n",
       "693070  2018-12-01 23:53:05  America/New_York  West End   North End     Uber   \n",
       "\n",
       "        ... precipIntensityMax uvIndexTime  temperatureMin  \\\n",
       "693066  ...                0.0  1543683600           31.42   \n",
       "693067  ...                0.0  1543683600           31.42   \n",
       "693068  ...                0.0  1543683600           31.42   \n",
       "693069  ...                0.0  1543683600           31.42   \n",
       "693070  ...                0.0  1543683600           31.42   \n",
       "\n",
       "        temperatureMinTime  temperatureMax  temperatureMaxTime  \\\n",
       "693066          1543658400           44.76          1543690800   \n",
       "693067          1543658400           44.76          1543690800   \n",
       "693068          1543658400           44.76          1543690800   \n",
       "693069          1543658400           44.76          1543690800   \n",
       "693070          1543658400           44.76          1543690800   \n",
       "\n",
       "        apparentTemperatureMin  apparentTemperatureMinTime  \\\n",
       "693066                   27.77                  1543658400   \n",
       "693067                   27.77                  1543658400   \n",
       "693068                   27.77                  1543658400   \n",
       "693069                   27.77                  1543658400   \n",
       "693070                   27.77                  1543658400   \n",
       "\n",
       "        apparentTemperatureMax apparentTemperatureMaxTime  \n",
       "693066                   44.09                 1543690800  \n",
       "693067                   44.09                 1543690800  \n",
       "693068                   44.09                 1543690800  \n",
       "693069                   44.09                 1543690800  \n",
       "693070                   44.09                 1543690800  \n",
       "\n",
       "[5 rows x 57 columns]"
      ]
     },
     "execution_count": 4,
     "metadata": {},
     "output_type": "execute_result"
    }
   ],
   "source": [
    "dataset.tail()"
   ]
  },
  {
   "cell_type": "markdown",
   "id": "37fe934a",
   "metadata": {},
   "source": [
    "#### Melihat nilai statistika dari dataset"
   ]
  },
  {
   "cell_type": "code",
   "execution_count": 5,
   "id": "4fafa6cf",
   "metadata": {},
   "outputs": [
    {
     "data": {
      "text/html": [
       "<div>\n",
       "<style scoped>\n",
       "    .dataframe tbody tr th:only-of-type {\n",
       "        vertical-align: middle;\n",
       "    }\n",
       "\n",
       "    .dataframe tbody tr th {\n",
       "        vertical-align: top;\n",
       "    }\n",
       "\n",
       "    .dataframe thead th {\n",
       "        text-align: right;\n",
       "    }\n",
       "</style>\n",
       "<table border=\"1\" class=\"dataframe\">\n",
       "  <thead>\n",
       "    <tr style=\"text-align: right;\">\n",
       "      <th></th>\n",
       "      <th>timestamp</th>\n",
       "      <th>hour</th>\n",
       "      <th>day</th>\n",
       "      <th>month</th>\n",
       "      <th>price</th>\n",
       "      <th>distance</th>\n",
       "      <th>surge_multiplier</th>\n",
       "      <th>latitude</th>\n",
       "      <th>longitude</th>\n",
       "      <th>temperature</th>\n",
       "      <th>...</th>\n",
       "      <th>precipIntensityMax</th>\n",
       "      <th>uvIndexTime</th>\n",
       "      <th>temperatureMin</th>\n",
       "      <th>temperatureMinTime</th>\n",
       "      <th>temperatureMax</th>\n",
       "      <th>temperatureMaxTime</th>\n",
       "      <th>apparentTemperatureMin</th>\n",
       "      <th>apparentTemperatureMinTime</th>\n",
       "      <th>apparentTemperatureMax</th>\n",
       "      <th>apparentTemperatureMaxTime</th>\n",
       "    </tr>\n",
       "  </thead>\n",
       "  <tbody>\n",
       "    <tr>\n",
       "      <th>count</th>\n",
       "      <td>6.930710e+05</td>\n",
       "      <td>693071.000000</td>\n",
       "      <td>693071.000000</td>\n",
       "      <td>693071.000000</td>\n",
       "      <td>637976.000000</td>\n",
       "      <td>693071.000000</td>\n",
       "      <td>693071.000000</td>\n",
       "      <td>693071.000000</td>\n",
       "      <td>693071.000000</td>\n",
       "      <td>693071.000000</td>\n",
       "      <td>...</td>\n",
       "      <td>693071.000000</td>\n",
       "      <td>6.930710e+05</td>\n",
       "      <td>693071.000000</td>\n",
       "      <td>6.930710e+05</td>\n",
       "      <td>693071.000000</td>\n",
       "      <td>6.930710e+05</td>\n",
       "      <td>693071.000000</td>\n",
       "      <td>6.930710e+05</td>\n",
       "      <td>693071.000000</td>\n",
       "      <td>6.930710e+05</td>\n",
       "    </tr>\n",
       "    <tr>\n",
       "      <th>mean</th>\n",
       "      <td>1.544046e+09</td>\n",
       "      <td>11.619137</td>\n",
       "      <td>17.794365</td>\n",
       "      <td>11.586684</td>\n",
       "      <td>16.545125</td>\n",
       "      <td>2.189430</td>\n",
       "      <td>1.013870</td>\n",
       "      <td>42.338172</td>\n",
       "      <td>-71.066151</td>\n",
       "      <td>39.584388</td>\n",
       "      <td>...</td>\n",
       "      <td>0.037374</td>\n",
       "      <td>1.544044e+09</td>\n",
       "      <td>33.457774</td>\n",
       "      <td>1.544042e+09</td>\n",
       "      <td>45.261313</td>\n",
       "      <td>1.544047e+09</td>\n",
       "      <td>29.731002</td>\n",
       "      <td>1.544048e+09</td>\n",
       "      <td>41.997343</td>\n",
       "      <td>1.544048e+09</td>\n",
       "    </tr>\n",
       "    <tr>\n",
       "      <th>std</th>\n",
       "      <td>6.891925e+05</td>\n",
       "      <td>6.948114</td>\n",
       "      <td>9.982286</td>\n",
       "      <td>0.492429</td>\n",
       "      <td>9.324359</td>\n",
       "      <td>1.138937</td>\n",
       "      <td>0.091641</td>\n",
       "      <td>0.047840</td>\n",
       "      <td>0.020302</td>\n",
       "      <td>6.726084</td>\n",
       "      <td>...</td>\n",
       "      <td>0.055214</td>\n",
       "      <td>6.912028e+05</td>\n",
       "      <td>6.467224</td>\n",
       "      <td>6.901954e+05</td>\n",
       "      <td>5.645046</td>\n",
       "      <td>6.901353e+05</td>\n",
       "      <td>7.110494</td>\n",
       "      <td>6.871862e+05</td>\n",
       "      <td>6.936841</td>\n",
       "      <td>6.910777e+05</td>\n",
       "    </tr>\n",
       "    <tr>\n",
       "      <th>min</th>\n",
       "      <td>1.543204e+09</td>\n",
       "      <td>0.000000</td>\n",
       "      <td>1.000000</td>\n",
       "      <td>11.000000</td>\n",
       "      <td>2.500000</td>\n",
       "      <td>0.020000</td>\n",
       "      <td>1.000000</td>\n",
       "      <td>42.214800</td>\n",
       "      <td>-71.105400</td>\n",
       "      <td>18.910000</td>\n",
       "      <td>...</td>\n",
       "      <td>0.000000</td>\n",
       "      <td>1.543162e+09</td>\n",
       "      <td>15.630000</td>\n",
       "      <td>1.543122e+09</td>\n",
       "      <td>33.510000</td>\n",
       "      <td>1.543154e+09</td>\n",
       "      <td>11.810000</td>\n",
       "      <td>1.543136e+09</td>\n",
       "      <td>28.950000</td>\n",
       "      <td>1.543187e+09</td>\n",
       "    </tr>\n",
       "    <tr>\n",
       "      <th>25%</th>\n",
       "      <td>1.543444e+09</td>\n",
       "      <td>6.000000</td>\n",
       "      <td>13.000000</td>\n",
       "      <td>11.000000</td>\n",
       "      <td>9.000000</td>\n",
       "      <td>1.280000</td>\n",
       "      <td>1.000000</td>\n",
       "      <td>42.350300</td>\n",
       "      <td>-71.081000</td>\n",
       "      <td>36.450000</td>\n",
       "      <td>...</td>\n",
       "      <td>0.000000</td>\n",
       "      <td>1.543421e+09</td>\n",
       "      <td>30.170000</td>\n",
       "      <td>1.543399e+09</td>\n",
       "      <td>42.570000</td>\n",
       "      <td>1.543439e+09</td>\n",
       "      <td>27.760000</td>\n",
       "      <td>1.543399e+09</td>\n",
       "      <td>36.570000</td>\n",
       "      <td>1.543439e+09</td>\n",
       "    </tr>\n",
       "    <tr>\n",
       "      <th>50%</th>\n",
       "      <td>1.543737e+09</td>\n",
       "      <td>12.000000</td>\n",
       "      <td>17.000000</td>\n",
       "      <td>12.000000</td>\n",
       "      <td>13.500000</td>\n",
       "      <td>2.160000</td>\n",
       "      <td>1.000000</td>\n",
       "      <td>42.351900</td>\n",
       "      <td>-71.063100</td>\n",
       "      <td>40.490000</td>\n",
       "      <td>...</td>\n",
       "      <td>0.000400</td>\n",
       "      <td>1.543770e+09</td>\n",
       "      <td>34.240000</td>\n",
       "      <td>1.543727e+09</td>\n",
       "      <td>44.680000</td>\n",
       "      <td>1.543788e+09</td>\n",
       "      <td>30.130000</td>\n",
       "      <td>1.543745e+09</td>\n",
       "      <td>40.950000</td>\n",
       "      <td>1.543788e+09</td>\n",
       "    </tr>\n",
       "    <tr>\n",
       "      <th>75%</th>\n",
       "      <td>1.544828e+09</td>\n",
       "      <td>18.000000</td>\n",
       "      <td>28.000000</td>\n",
       "      <td>12.000000</td>\n",
       "      <td>22.500000</td>\n",
       "      <td>2.920000</td>\n",
       "      <td>1.000000</td>\n",
       "      <td>42.364700</td>\n",
       "      <td>-71.054200</td>\n",
       "      <td>43.580000</td>\n",
       "      <td>...</td>\n",
       "      <td>0.091600</td>\n",
       "      <td>1.544807e+09</td>\n",
       "      <td>38.880000</td>\n",
       "      <td>1.544789e+09</td>\n",
       "      <td>46.910000</td>\n",
       "      <td>1.544814e+09</td>\n",
       "      <td>35.710000</td>\n",
       "      <td>1.544789e+09</td>\n",
       "      <td>44.120000</td>\n",
       "      <td>1.544818e+09</td>\n",
       "    </tr>\n",
       "    <tr>\n",
       "      <th>max</th>\n",
       "      <td>1.545161e+09</td>\n",
       "      <td>23.000000</td>\n",
       "      <td>30.000000</td>\n",
       "      <td>12.000000</td>\n",
       "      <td>97.500000</td>\n",
       "      <td>7.860000</td>\n",
       "      <td>3.000000</td>\n",
       "      <td>42.366100</td>\n",
       "      <td>-71.033000</td>\n",
       "      <td>57.220000</td>\n",
       "      <td>...</td>\n",
       "      <td>0.145900</td>\n",
       "      <td>1.545152e+09</td>\n",
       "      <td>43.100000</td>\n",
       "      <td>1.545192e+09</td>\n",
       "      <td>57.870000</td>\n",
       "      <td>1.545109e+09</td>\n",
       "      <td>40.050000</td>\n",
       "      <td>1.545134e+09</td>\n",
       "      <td>57.200000</td>\n",
       "      <td>1.545109e+09</td>\n",
       "    </tr>\n",
       "  </tbody>\n",
       "</table>\n",
       "<p>8 rows × 46 columns</p>\n",
       "</div>"
      ],
      "text/plain": [
       "          timestamp           hour            day          month  \\\n",
       "count  6.930710e+05  693071.000000  693071.000000  693071.000000   \n",
       "mean   1.544046e+09      11.619137      17.794365      11.586684   \n",
       "std    6.891925e+05       6.948114       9.982286       0.492429   \n",
       "min    1.543204e+09       0.000000       1.000000      11.000000   \n",
       "25%    1.543444e+09       6.000000      13.000000      11.000000   \n",
       "50%    1.543737e+09      12.000000      17.000000      12.000000   \n",
       "75%    1.544828e+09      18.000000      28.000000      12.000000   \n",
       "max    1.545161e+09      23.000000      30.000000      12.000000   \n",
       "\n",
       "               price       distance  surge_multiplier       latitude  \\\n",
       "count  637976.000000  693071.000000     693071.000000  693071.000000   \n",
       "mean       16.545125       2.189430          1.013870      42.338172   \n",
       "std         9.324359       1.138937          0.091641       0.047840   \n",
       "min         2.500000       0.020000          1.000000      42.214800   \n",
       "25%         9.000000       1.280000          1.000000      42.350300   \n",
       "50%        13.500000       2.160000          1.000000      42.351900   \n",
       "75%        22.500000       2.920000          1.000000      42.364700   \n",
       "max        97.500000       7.860000          3.000000      42.366100   \n",
       "\n",
       "           longitude    temperature  ...  precipIntensityMax   uvIndexTime  \\\n",
       "count  693071.000000  693071.000000  ...       693071.000000  6.930710e+05   \n",
       "mean      -71.066151      39.584388  ...            0.037374  1.544044e+09   \n",
       "std         0.020302       6.726084  ...            0.055214  6.912028e+05   \n",
       "min       -71.105400      18.910000  ...            0.000000  1.543162e+09   \n",
       "25%       -71.081000      36.450000  ...            0.000000  1.543421e+09   \n",
       "50%       -71.063100      40.490000  ...            0.000400  1.543770e+09   \n",
       "75%       -71.054200      43.580000  ...            0.091600  1.544807e+09   \n",
       "max       -71.033000      57.220000  ...            0.145900  1.545152e+09   \n",
       "\n",
       "       temperatureMin  temperatureMinTime  temperatureMax  temperatureMaxTime  \\\n",
       "count   693071.000000        6.930710e+05   693071.000000        6.930710e+05   \n",
       "mean        33.457774        1.544042e+09       45.261313        1.544047e+09   \n",
       "std          6.467224        6.901954e+05        5.645046        6.901353e+05   \n",
       "min         15.630000        1.543122e+09       33.510000        1.543154e+09   \n",
       "25%         30.170000        1.543399e+09       42.570000        1.543439e+09   \n",
       "50%         34.240000        1.543727e+09       44.680000        1.543788e+09   \n",
       "75%         38.880000        1.544789e+09       46.910000        1.544814e+09   \n",
       "max         43.100000        1.545192e+09       57.870000        1.545109e+09   \n",
       "\n",
       "       apparentTemperatureMin  apparentTemperatureMinTime  \\\n",
       "count           693071.000000                6.930710e+05   \n",
       "mean                29.731002                1.544048e+09   \n",
       "std                  7.110494                6.871862e+05   \n",
       "min                 11.810000                1.543136e+09   \n",
       "25%                 27.760000                1.543399e+09   \n",
       "50%                 30.130000                1.543745e+09   \n",
       "75%                 35.710000                1.544789e+09   \n",
       "max                 40.050000                1.545134e+09   \n",
       "\n",
       "       apparentTemperatureMax  apparentTemperatureMaxTime  \n",
       "count           693071.000000                6.930710e+05  \n",
       "mean                41.997343                1.544048e+09  \n",
       "std                  6.936841                6.910777e+05  \n",
       "min                 28.950000                1.543187e+09  \n",
       "25%                 36.570000                1.543439e+09  \n",
       "50%                 40.950000                1.543788e+09  \n",
       "75%                 44.120000                1.544818e+09  \n",
       "max                 57.200000                1.545109e+09  \n",
       "\n",
       "[8 rows x 46 columns]"
      ]
     },
     "execution_count": 5,
     "metadata": {},
     "output_type": "execute_result"
    }
   ],
   "source": [
    "dataset.describe()"
   ]
  },
  {
   "cell_type": "markdown",
   "id": "3bc13e50",
   "metadata": {},
   "source": [
    "#### Melihat Informasi mengenai dataset"
   ]
  },
  {
   "cell_type": "code",
   "execution_count": 6,
   "id": "1aef3f6c",
   "metadata": {},
   "outputs": [
    {
     "name": "stdout",
     "output_type": "stream",
     "text": [
      "<class 'pandas.core.frame.DataFrame'>\n",
      "RangeIndex: 693071 entries, 0 to 693070\n",
      "Data columns (total 57 columns):\n",
      " #   Column                       Non-Null Count   Dtype  \n",
      "---  ------                       --------------   -----  \n",
      " 0   id                           693071 non-null  object \n",
      " 1   timestamp                    693071 non-null  float64\n",
      " 2   hour                         693071 non-null  int64  \n",
      " 3   day                          693071 non-null  int64  \n",
      " 4   month                        693071 non-null  int64  \n",
      " 5   datetime                     693071 non-null  object \n",
      " 6   timezone                     693071 non-null  object \n",
      " 7   source                       693071 non-null  object \n",
      " 8   destination                  693071 non-null  object \n",
      " 9   cab_type                     693071 non-null  object \n",
      " 10  product_id                   693071 non-null  object \n",
      " 11  name                         693071 non-null  object \n",
      " 12  price                        637976 non-null  float64\n",
      " 13  distance                     693071 non-null  float64\n",
      " 14  surge_multiplier             693071 non-null  float64\n",
      " 15  latitude                     693071 non-null  float64\n",
      " 16  longitude                    693071 non-null  float64\n",
      " 17  temperature                  693071 non-null  float64\n",
      " 18  apparentTemperature          693071 non-null  float64\n",
      " 19  short_summary                693071 non-null  object \n",
      " 20  long_summary                 693071 non-null  object \n",
      " 21  precipIntensity              693071 non-null  float64\n",
      " 22  precipProbability            693071 non-null  float64\n",
      " 23  humidity                     693071 non-null  float64\n",
      " 24  windSpeed                    693071 non-null  float64\n",
      " 25  windGust                     693071 non-null  float64\n",
      " 26  windGustTime                 693071 non-null  int64  \n",
      " 27  visibility                   693071 non-null  float64\n",
      " 28  temperatureHigh              693071 non-null  float64\n",
      " 29  temperatureHighTime          693071 non-null  int64  \n",
      " 30  temperatureLow               693071 non-null  float64\n",
      " 31  temperatureLowTime           693071 non-null  int64  \n",
      " 32  apparentTemperatureHigh      693071 non-null  float64\n",
      " 33  apparentTemperatureHighTime  693071 non-null  int64  \n",
      " 34  apparentTemperatureLow       693071 non-null  float64\n",
      " 35  apparentTemperatureLowTime   693071 non-null  int64  \n",
      " 36  icon                         693071 non-null  object \n",
      " 37  dewPoint                     693071 non-null  float64\n",
      " 38  pressure                     693071 non-null  float64\n",
      " 39  windBearing                  693071 non-null  int64  \n",
      " 40  cloudCover                   693071 non-null  float64\n",
      " 41  uvIndex                      693071 non-null  int64  \n",
      " 42  visibility.1                 693071 non-null  float64\n",
      " 43  ozone                        693071 non-null  float64\n",
      " 44  sunriseTime                  693071 non-null  int64  \n",
      " 45  sunsetTime                   693071 non-null  int64  \n",
      " 46  moonPhase                    693071 non-null  float64\n",
      " 47  precipIntensityMax           693071 non-null  float64\n",
      " 48  uvIndexTime                  693071 non-null  int64  \n",
      " 49  temperatureMin               693071 non-null  float64\n",
      " 50  temperatureMinTime           693071 non-null  int64  \n",
      " 51  temperatureMax               693071 non-null  float64\n",
      " 52  temperatureMaxTime           693071 non-null  int64  \n",
      " 53  apparentTemperatureMin       693071 non-null  float64\n",
      " 54  apparentTemperatureMinTime   693071 non-null  int64  \n",
      " 55  apparentTemperatureMax       693071 non-null  float64\n",
      " 56  apparentTemperatureMaxTime   693071 non-null  int64  \n",
      "dtypes: float64(29), int64(17), object(11)\n",
      "memory usage: 301.4+ MB\n"
     ]
    }
   ],
   "source": [
    "dataset.info()"
   ]
  },
  {
   "cell_type": "markdown",
   "id": "9c7326ae",
   "metadata": {},
   "source": [
    "#### Melihat shape dari dataset "
   ]
  },
  {
   "cell_type": "code",
   "execution_count": 7,
   "id": "809dd099",
   "metadata": {},
   "outputs": [
    {
     "data": {
      "text/plain": [
       "(693071, 57)"
      ]
     },
     "execution_count": 7,
     "metadata": {},
     "output_type": "execute_result"
    }
   ],
   "source": [
    "dataset.shape"
   ]
  },
  {
   "cell_type": "markdown",
   "id": "f644eab4",
   "metadata": {},
   "source": [
    "dataset terdiri atas 57 columns dan 693071 rows"
   ]
  },
  {
   "cell_type": "markdown",
   "id": "88651c8b",
   "metadata": {},
   "source": [
    "# 4. Data Preprocessing"
   ]
  },
  {
   "cell_type": "markdown",
   "id": "708519ac",
   "metadata": {},
   "source": [
    "#### Melakukan pemilihan dataset"
   ]
  },
  {
   "cell_type": "code",
   "execution_count": 8,
   "id": "f98beb1a",
   "metadata": {},
   "outputs": [
    {
     "data": {
      "text/html": [
       "<div>\n",
       "<style scoped>\n",
       "    .dataframe tbody tr th:only-of-type {\n",
       "        vertical-align: middle;\n",
       "    }\n",
       "\n",
       "    .dataframe tbody tr th {\n",
       "        vertical-align: top;\n",
       "    }\n",
       "\n",
       "    .dataframe thead th {\n",
       "        text-align: right;\n",
       "    }\n",
       "</style>\n",
       "<table border=\"1\" class=\"dataframe\">\n",
       "  <thead>\n",
       "    <tr style=\"text-align: right;\">\n",
       "      <th></th>\n",
       "      <th>hour</th>\n",
       "      <th>source</th>\n",
       "      <th>destination</th>\n",
       "      <th>cab_type</th>\n",
       "      <th>name</th>\n",
       "      <th>distance</th>\n",
       "      <th>price</th>\n",
       "    </tr>\n",
       "  </thead>\n",
       "  <tbody>\n",
       "    <tr>\n",
       "      <th>0</th>\n",
       "      <td>9</td>\n",
       "      <td>Haymarket Square</td>\n",
       "      <td>North Station</td>\n",
       "      <td>Lyft</td>\n",
       "      <td>Shared</td>\n",
       "      <td>0.44</td>\n",
       "      <td>5.0</td>\n",
       "    </tr>\n",
       "    <tr>\n",
       "      <th>1</th>\n",
       "      <td>2</td>\n",
       "      <td>Haymarket Square</td>\n",
       "      <td>North Station</td>\n",
       "      <td>Lyft</td>\n",
       "      <td>Lux</td>\n",
       "      <td>0.44</td>\n",
       "      <td>11.0</td>\n",
       "    </tr>\n",
       "    <tr>\n",
       "      <th>2</th>\n",
       "      <td>1</td>\n",
       "      <td>Haymarket Square</td>\n",
       "      <td>North Station</td>\n",
       "      <td>Lyft</td>\n",
       "      <td>Lyft</td>\n",
       "      <td>0.44</td>\n",
       "      <td>7.0</td>\n",
       "    </tr>\n",
       "    <tr>\n",
       "      <th>3</th>\n",
       "      <td>4</td>\n",
       "      <td>Haymarket Square</td>\n",
       "      <td>North Station</td>\n",
       "      <td>Lyft</td>\n",
       "      <td>Lux Black XL</td>\n",
       "      <td>0.44</td>\n",
       "      <td>26.0</td>\n",
       "    </tr>\n",
       "    <tr>\n",
       "      <th>4</th>\n",
       "      <td>3</td>\n",
       "      <td>Haymarket Square</td>\n",
       "      <td>North Station</td>\n",
       "      <td>Lyft</td>\n",
       "      <td>Lyft XL</td>\n",
       "      <td>0.44</td>\n",
       "      <td>9.0</td>\n",
       "    </tr>\n",
       "  </tbody>\n",
       "</table>\n",
       "</div>"
      ],
      "text/plain": [
       "   hour            source    destination cab_type          name  distance  \\\n",
       "0     9  Haymarket Square  North Station     Lyft        Shared      0.44   \n",
       "1     2  Haymarket Square  North Station     Lyft           Lux      0.44   \n",
       "2     1  Haymarket Square  North Station     Lyft          Lyft      0.44   \n",
       "3     4  Haymarket Square  North Station     Lyft  Lux Black XL      0.44   \n",
       "4     3  Haymarket Square  North Station     Lyft       Lyft XL      0.44   \n",
       "\n",
       "   price  \n",
       "0    5.0  \n",
       "1   11.0  \n",
       "2    7.0  \n",
       "3   26.0  \n",
       "4    9.0  "
      ]
     },
     "execution_count": 8,
     "metadata": {},
     "output_type": "execute_result"
    }
   ],
   "source": [
    "cols_to_use = ['hour', 'source', 'destination', 'cab_type', 'name', 'distance', 'price']\n",
    "dataset = dataset[cols_to_use]\n",
    "dataset.head()"
   ]
  },
  {
   "cell_type": "markdown",
   "id": "3ce3d117",
   "metadata": {},
   "source": [
    "memilih variabel 'hour', 'source', 'destination', 'cab_type', 'name', 'distance' karena kemungkinan memiliki pengaruh dalam melakukan prediksi variabel 'price' "
   ]
  },
  {
   "cell_type": "markdown",
   "id": "a6798ed7",
   "metadata": {},
   "source": [
    "# 5. Explorasi Data"
   ]
  },
  {
   "cell_type": "code",
   "execution_count": 9,
   "id": "670447e5",
   "metadata": {},
   "outputs": [
    {
     "data": {
      "image/png": "[encoded data removed]",
      "text/plain": [
       "<Figure size 1440x576 with 2 Axes>"
      ]
     },
     "metadata": {
      "needs_background": "light"
     },
     "output_type": "display_data"
    }
   ],
   "source": [
    "plt.figure(figsize=(20,8))\n",
    "sns.heatmap(dataset.corr(), annot=True);"
   ]
  },
  {
   "cell_type": "markdown",
   "id": "0dee42c6",
   "metadata": {},
   "source": [
    "Dari visualisasi terlihat bahwa Variabel Distance memiliki korelasi terbesar terhadap variabel price yaitu sebesar 0.35"
   ]
  },
  {
   "cell_type": "code",
   "execution_count": 10,
   "id": "5327e84b",
   "metadata": {},
   "outputs": [
    {
     "data": {
      "image/png": "[encoded data removed]",
      "text/plain": [
       "<Figure size 1440x576 with 1 Axes>"
      ]
     },
     "metadata": {
      "needs_background": "light"
     },
     "output_type": "display_data"
    }
   ],
   "source": [
    "plt.figure(figsize=(20,8))\n",
    "sns.barplot(x='destination',y='price',data=dataset);"
   ]
  },
  {
   "cell_type": "code",
   "execution_count": 11,
   "id": "b26a60bb",
   "metadata": {},
   "outputs": [
    {
     "data": {
      "text/plain": [
       "18.942136691053392"
      ]
     },
     "execution_count": 11,
     "metadata": {},
     "output_type": "execute_result"
    }
   ],
   "source": [
    "dataset[dataset['destination'] == 'Boston University']['price'].mean()"
   ]
  },
  {
   "cell_type": "code",
   "execution_count": 12,
   "id": "71ed76aa",
   "metadata": {},
   "outputs": [
    {
     "data": {
      "text/plain": [
       "18.046279893711247"
      ]
     },
     "execution_count": 12,
     "metadata": {},
     "output_type": "execute_result"
    }
   ],
   "source": [
    "dataset[dataset['destination'] == 'Financial District']['price'].mean()"
   ]
  },
  {
   "cell_type": "code",
   "execution_count": 13,
   "id": "5f934ca2",
   "metadata": {},
   "outputs": [
    {
     "data": {
      "text/plain": [
       "18.146418763871647"
      ]
     },
     "execution_count": 13,
     "metadata": {},
     "output_type": "execute_result"
    }
   ],
   "source": [
    "dataset[dataset['destination'] == 'Fenway']['price'].mean()"
   ]
  },
  {
   "cell_type": "markdown",
   "id": "e3042986",
   "metadata": {},
   "source": [
    "Dari hasil visualisasi terlihat bahwa price rata-rata tertinggi adalah untuk tempat tujuan 'Boston University', 'Fenway'  dan 'Financial District'"
   ]
  },
  {
   "cell_type": "code",
   "execution_count": 14,
   "id": "83201e5a",
   "metadata": {},
   "outputs": [
    {
     "data": {
      "image/png": "[encoded data removed]",
      "text/plain": [
       "<Figure size 1440x576 with 1 Axes>"
      ]
     },
     "metadata": {
      "needs_background": "light"
     },
     "output_type": "display_data"
    }
   ],
   "source": [
    "plt.figure(figsize=(20,8))\n",
    "sns.barplot(x='source',y='price',data=dataset);"
   ]
  },
  {
   "cell_type": "code",
   "execution_count": 15,
   "id": "46dba34b",
   "metadata": {},
   "outputs": [
    {
     "data": {
      "text/plain": [
       "18.85303355149327"
      ]
     },
     "execution_count": 15,
     "metadata": {},
     "output_type": "execute_result"
    }
   ],
   "source": [
    "dataset[dataset['source'] == 'Boston University']['price'].mean()"
   ]
  },
  {
   "cell_type": "code",
   "execution_count": 16,
   "id": "78559781",
   "metadata": {},
   "outputs": [
    {
     "data": {
      "text/plain": [
       "18.3794906519204"
      ]
     },
     "execution_count": 16,
     "metadata": {},
     "output_type": "execute_result"
    }
   ],
   "source": [
    "dataset[dataset['source'] == 'Fenway']['price'].mean()"
   ]
  },
  {
   "cell_type": "code",
   "execution_count": 17,
   "id": "b1571fd6",
   "metadata": {},
   "outputs": [
    {
     "data": {
      "text/plain": [
       "18.181371662638153"
      ]
     },
     "execution_count": 17,
     "metadata": {},
     "output_type": "execute_result"
    }
   ],
   "source": [
    "dataset[dataset['source'] == 'Financial District']['price'].mean()"
   ]
  },
  {
   "cell_type": "markdown",
   "id": "0decf505",
   "metadata": {},
   "source": [
    "Dari hasil visualisasi terlihat bahwa price rata-rata tertinggi adalah untuk keberangkatan dari 'Boston University', 'Fenway'  dan 'Financial District'"
   ]
  },
  {
   "cell_type": "code",
   "execution_count": 18,
   "id": "8ca7ca06",
   "metadata": {},
   "outputs": [
    {
     "data": {
      "image/png": "[encoded data removed]",
      "text/plain": [
       "<Figure size 1440x576 with 1 Axes>"
      ]
     },
     "metadata": {
      "needs_background": "light"
     },
     "output_type": "display_data"
    }
   ],
   "source": [
    "plt.figure(figsize=(20,8))\n",
    "sns.barplot(x='name',y='price',data=dataset);"
   ]
  },
  {
   "cell_type": "code",
   "execution_count": 19,
   "id": "1846782e",
   "metadata": {},
   "outputs": [
    {
     "data": {
      "text/plain": [
       "30.286763104399594"
      ]
     },
     "execution_count": 19,
     "metadata": {},
     "output_type": "execute_result"
    }
   ],
   "source": [
    "dataset[dataset['name'] == 'Black SUV']['price'].mean()"
   ]
  },
  {
   "cell_type": "code",
   "execution_count": 20,
   "id": "2677e700",
   "metadata": {},
   "outputs": [
    {
     "data": {
      "text/plain": [
       "32.32408607397287"
      ]
     },
     "execution_count": 20,
     "metadata": {},
     "output_type": "execute_result"
    }
   ],
   "source": [
    "dataset[dataset['name'] == 'Lux Black XL']['price'].mean()"
   ]
  },
  {
   "cell_type": "markdown",
   "id": "af5cbf7d",
   "metadata": {},
   "source": [
    "Dari hasil visualisasi terlihat bahwa price rata-rata tertinggi adalah untuk layanan 'Black SUV' dan 'Lux Black XL' "
   ]
  },
  {
   "cell_type": "markdown",
   "id": "bf5bdff4",
   "metadata": {},
   "source": [
    "#### Melakukan proses get_dummies"
   ]
  },
  {
   "cell_type": "code",
   "execution_count": 21,
   "id": "44c95fd9",
   "metadata": {},
   "outputs": [
    {
     "data": {
      "text/html": [
       "<div>\n",
       "<style scoped>\n",
       "    .dataframe tbody tr th:only-of-type {\n",
       "        vertical-align: middle;\n",
       "    }\n",
       "\n",
       "    .dataframe tbody tr th {\n",
       "        vertical-align: top;\n",
       "    }\n",
       "\n",
       "    .dataframe thead th {\n",
       "        text-align: right;\n",
       "    }\n",
       "</style>\n",
       "<table border=\"1\" class=\"dataframe\">\n",
       "  <thead>\n",
       "    <tr style=\"text-align: right;\">\n",
       "      <th></th>\n",
       "      <th>hour</th>\n",
       "      <th>distance</th>\n",
       "      <th>price</th>\n",
       "      <th>source_Beacon Hill</th>\n",
       "      <th>source_Boston University</th>\n",
       "      <th>source_Fenway</th>\n",
       "      <th>source_Financial District</th>\n",
       "      <th>source_Haymarket Square</th>\n",
       "      <th>source_North End</th>\n",
       "      <th>source_North Station</th>\n",
       "      <th>...</th>\n",
       "      <th>name_Lux Black</th>\n",
       "      <th>name_Lux Black XL</th>\n",
       "      <th>name_Lyft</th>\n",
       "      <th>name_Lyft XL</th>\n",
       "      <th>name_Shared</th>\n",
       "      <th>name_Taxi</th>\n",
       "      <th>name_UberPool</th>\n",
       "      <th>name_UberX</th>\n",
       "      <th>name_UberXL</th>\n",
       "      <th>name_WAV</th>\n",
       "    </tr>\n",
       "  </thead>\n",
       "  <tbody>\n",
       "    <tr>\n",
       "      <th>0</th>\n",
       "      <td>9</td>\n",
       "      <td>0.44</td>\n",
       "      <td>5.0</td>\n",
       "      <td>0</td>\n",
       "      <td>0</td>\n",
       "      <td>0</td>\n",
       "      <td>0</td>\n",
       "      <td>1</td>\n",
       "      <td>0</td>\n",
       "      <td>0</td>\n",
       "      <td>...</td>\n",
       "      <td>0</td>\n",
       "      <td>0</td>\n",
       "      <td>0</td>\n",
       "      <td>0</td>\n",
       "      <td>1</td>\n",
       "      <td>0</td>\n",
       "      <td>0</td>\n",
       "      <td>0</td>\n",
       "      <td>0</td>\n",
       "      <td>0</td>\n",
       "    </tr>\n",
       "    <tr>\n",
       "      <th>1</th>\n",
       "      <td>2</td>\n",
       "      <td>0.44</td>\n",
       "      <td>11.0</td>\n",
       "      <td>0</td>\n",
       "      <td>0</td>\n",
       "      <td>0</td>\n",
       "      <td>0</td>\n",
       "      <td>1</td>\n",
       "      <td>0</td>\n",
       "      <td>0</td>\n",
       "      <td>...</td>\n",
       "      <td>0</td>\n",
       "      <td>0</td>\n",
       "      <td>0</td>\n",
       "      <td>0</td>\n",
       "      <td>0</td>\n",
       "      <td>0</td>\n",
       "      <td>0</td>\n",
       "      <td>0</td>\n",
       "      <td>0</td>\n",
       "      <td>0</td>\n",
       "    </tr>\n",
       "    <tr>\n",
       "      <th>2</th>\n",
       "      <td>1</td>\n",
       "      <td>0.44</td>\n",
       "      <td>7.0</td>\n",
       "      <td>0</td>\n",
       "      <td>0</td>\n",
       "      <td>0</td>\n",
       "      <td>0</td>\n",
       "      <td>1</td>\n",
       "      <td>0</td>\n",
       "      <td>0</td>\n",
       "      <td>...</td>\n",
       "      <td>0</td>\n",
       "      <td>0</td>\n",
       "      <td>1</td>\n",
       "      <td>0</td>\n",
       "      <td>0</td>\n",
       "      <td>0</td>\n",
       "      <td>0</td>\n",
       "      <td>0</td>\n",
       "      <td>0</td>\n",
       "      <td>0</td>\n",
       "    </tr>\n",
       "    <tr>\n",
       "      <th>3</th>\n",
       "      <td>4</td>\n",
       "      <td>0.44</td>\n",
       "      <td>26.0</td>\n",
       "      <td>0</td>\n",
       "      <td>0</td>\n",
       "      <td>0</td>\n",
       "      <td>0</td>\n",
       "      <td>1</td>\n",
       "      <td>0</td>\n",
       "      <td>0</td>\n",
       "      <td>...</td>\n",
       "      <td>0</td>\n",
       "      <td>1</td>\n",
       "      <td>0</td>\n",
       "      <td>0</td>\n",
       "      <td>0</td>\n",
       "      <td>0</td>\n",
       "      <td>0</td>\n",
       "      <td>0</td>\n",
       "      <td>0</td>\n",
       "      <td>0</td>\n",
       "    </tr>\n",
       "    <tr>\n",
       "      <th>4</th>\n",
       "      <td>3</td>\n",
       "      <td>0.44</td>\n",
       "      <td>9.0</td>\n",
       "      <td>0</td>\n",
       "      <td>0</td>\n",
       "      <td>0</td>\n",
       "      <td>0</td>\n",
       "      <td>1</td>\n",
       "      <td>0</td>\n",
       "      <td>0</td>\n",
       "      <td>...</td>\n",
       "      <td>0</td>\n",
       "      <td>0</td>\n",
       "      <td>0</td>\n",
       "      <td>1</td>\n",
       "      <td>0</td>\n",
       "      <td>0</td>\n",
       "      <td>0</td>\n",
       "      <td>0</td>\n",
       "      <td>0</td>\n",
       "      <td>0</td>\n",
       "    </tr>\n",
       "  </tbody>\n",
       "</table>\n",
       "<p>5 rows × 38 columns</p>\n",
       "</div>"
      ],
      "text/plain": [
       "   hour  distance  price  source_Beacon Hill  source_Boston University  \\\n",
       "0     9      0.44    5.0                   0                         0   \n",
       "1     2      0.44   11.0                   0                         0   \n",
       "2     1      0.44    7.0                   0                         0   \n",
       "3     4      0.44   26.0                   0                         0   \n",
       "4     3      0.44    9.0                   0                         0   \n",
       "\n",
       "   source_Fenway  source_Financial District  source_Haymarket Square  \\\n",
       "0              0                          0                        1   \n",
       "1              0                          0                        1   \n",
       "2              0                          0                        1   \n",
       "3              0                          0                        1   \n",
       "4              0                          0                        1   \n",
       "\n",
       "   source_North End  source_North Station  ...  name_Lux Black  \\\n",
       "0                 0                     0  ...               0   \n",
       "1                 0                     0  ...               0   \n",
       "2                 0                     0  ...               0   \n",
       "3                 0                     0  ...               0   \n",
       "4                 0                     0  ...               0   \n",
       "\n",
       "   name_Lux Black XL  name_Lyft  name_Lyft XL  name_Shared  name_Taxi  \\\n",
       "0                  0          0             0            1          0   \n",
       "1                  0          0             0            0          0   \n",
       "2                  0          1             0            0          0   \n",
       "3                  1          0             0            0          0   \n",
       "4                  0          0             1            0          0   \n",
       "\n",
       "   name_UberPool  name_UberX  name_UberXL  name_WAV  \n",
       "0              0           0            0         0  \n",
       "1              0           0            0         0  \n",
       "2              0           0            0         0  \n",
       "3              0           0            0         0  \n",
       "4              0           0            0         0  \n",
       "\n",
       "[5 rows x 38 columns]"
      ]
     },
     "execution_count": 21,
     "metadata": {},
     "output_type": "execute_result"
    }
   ],
   "source": [
    "dataset = pd.get_dummies(dataset, drop_first=True)\n",
    "dataset.head()"
   ]
  },
  {
   "cell_type": "markdown",
   "id": "2c5b21a0",
   "metadata": {},
   "source": [
    "pada proses ini merubah variabel categorical yaitu variabel 'source', 'destination', 'cab_type', 'name' menjadi numeric"
   ]
  },
  {
   "cell_type": "markdown",
   "id": "490ca954",
   "metadata": {},
   "source": [
    "# 6. Data Cleaning"
   ]
  },
  {
   "cell_type": "markdown",
   "id": "6baa68ee",
   "metadata": {},
   "source": [
    "#### Melihat missing data"
   ]
  },
  {
   "cell_type": "code",
   "execution_count": 22,
   "id": "f891a8fc",
   "metadata": {},
   "outputs": [
    {
     "data": {
      "text/plain": [
       "(693071, 38)"
      ]
     },
     "execution_count": 22,
     "metadata": {},
     "output_type": "execute_result"
    }
   ],
   "source": [
    "dataset.shape"
   ]
  },
  {
   "cell_type": "code",
   "execution_count": 23,
   "id": "8fd3f68a",
   "metadata": {},
   "outputs": [
    {
     "data": {
      "text/plain": [
       "hour                                       0\n",
       "distance                                   0\n",
       "price                                  55095\n",
       "source_Beacon Hill                         0\n",
       "source_Boston University                   0\n",
       "source_Fenway                              0\n",
       "source_Financial District                  0\n",
       "source_Haymarket Square                    0\n",
       "source_North End                           0\n",
       "source_North Station                       0\n",
       "source_Northeastern University             0\n",
       "source_South Station                       0\n",
       "source_Theatre District                    0\n",
       "source_West End                            0\n",
       "destination_Beacon Hill                    0\n",
       "destination_Boston University              0\n",
       "destination_Fenway                         0\n",
       "destination_Financial District             0\n",
       "destination_Haymarket Square               0\n",
       "destination_North End                      0\n",
       "destination_North Station                  0\n",
       "destination_Northeastern University        0\n",
       "destination_South Station                  0\n",
       "destination_Theatre District               0\n",
       "destination_West End                       0\n",
       "cab_type_Uber                              0\n",
       "name_Black SUV                             0\n",
       "name_Lux                                   0\n",
       "name_Lux Black                             0\n",
       "name_Lux Black XL                          0\n",
       "name_Lyft                                  0\n",
       "name_Lyft XL                               0\n",
       "name_Shared                                0\n",
       "name_Taxi                                  0\n",
       "name_UberPool                              0\n",
       "name_UberX                                 0\n",
       "name_UberXL                                0\n",
       "name_WAV                                   0\n",
       "dtype: int64"
      ]
     },
     "execution_count": 23,
     "metadata": {},
     "output_type": "execute_result"
    }
   ],
   "source": [
    "dataset.isna().sum()"
   ]
  },
  {
   "cell_type": "markdown",
   "id": "79b50726",
   "metadata": {},
   "source": [
    "terlihat bahwa terdapat 55095 missing values pada variabel price"
   ]
  },
  {
   "cell_type": "code",
   "execution_count": 24,
   "id": "f8fd4d43",
   "metadata": {},
   "outputs": [
    {
     "data": {
      "text/plain": [
       "hour                                   0\n",
       "distance                               0\n",
       "price                                  0\n",
       "source_Beacon Hill                     0\n",
       "source_Boston University               0\n",
       "source_Fenway                          0\n",
       "source_Financial District              0\n",
       "source_Haymarket Square                0\n",
       "source_North End                       0\n",
       "source_North Station                   0\n",
       "source_Northeastern University         0\n",
       "source_South Station                   0\n",
       "source_Theatre District                0\n",
       "source_West End                        0\n",
       "destination_Beacon Hill                0\n",
       "destination_Boston University          0\n",
       "destination_Fenway                     0\n",
       "destination_Financial District         0\n",
       "destination_Haymarket Square           0\n",
       "destination_North End                  0\n",
       "destination_North Station              0\n",
       "destination_Northeastern University    0\n",
       "destination_South Station              0\n",
       "destination_Theatre District           0\n",
       "destination_West End                   0\n",
       "cab_type_Uber                          0\n",
       "name_Black SUV                         0\n",
       "name_Lux                               0\n",
       "name_Lux Black                         0\n",
       "name_Lux Black XL                      0\n",
       "name_Lyft                              0\n",
       "name_Lyft XL                           0\n",
       "name_Shared                            0\n",
       "name_Taxi                              0\n",
       "name_UberPool                          0\n",
       "name_UberX                             0\n",
       "name_UberXL                            0\n",
       "name_WAV                               0\n",
       "dtype: int64"
      ]
     },
     "execution_count": 24,
     "metadata": {},
     "output_type": "execute_result"
    }
   ],
   "source": [
    "dataset.dropna(inplace=True)\n",
    "dataset.isna().sum()"
   ]
  },
  {
   "cell_type": "markdown",
   "id": "849e517d",
   "metadata": {},
   "source": [
    "melakukan proses dropna atau menghapus rows dalam mengatasi missing values variabel price, hal tersebut dilakukan karena variabel value merupakan variabel dependent"
   ]
  },
  {
   "cell_type": "markdown",
   "id": "87596bc5",
   "metadata": {},
   "source": [
    "# 7. Pendefinisian Model"
   ]
  },
  {
   "cell_type": "markdown",
   "id": "f0edc843",
   "metadata": {},
   "source": [
    "#### Melakukan pendefinisian variabel independent(X) dan variabel dependent (y)"
   ]
  },
  {
   "cell_type": "code",
   "execution_count": 26,
   "id": "f8ce83bd",
   "metadata": {},
   "outputs": [],
   "source": [
    "X = dataset.drop(['price'], axis=1)\n",
    "y = dataset['price']"
   ]
  },
  {
   "cell_type": "markdown",
   "id": "6a82edd0",
   "metadata": {},
   "source": [
    "# 8. Pelatihan Model"
   ]
  },
  {
   "cell_type": "markdown",
   "id": "c02590ac",
   "metadata": {},
   "source": [
    "#### Melakukan Split data"
   ]
  },
  {
   "cell_type": "code",
   "execution_count": 27,
   "id": "09f794d3",
   "metadata": {},
   "outputs": [],
   "source": [
    "X_train, X_val, y_train, y_val = train_test_split(X, y, test_size=0.3, random_state=42)"
   ]
  },
  {
   "cell_type": "markdown",
   "id": "a2242a60",
   "metadata": {},
   "source": [
    "membagi data training sebesar 0.7 dan data test sebesar 0.3 dengan random state 42"
   ]
  },
  {
   "cell_type": "markdown",
   "id": "bd5b1e24",
   "metadata": {},
   "source": [
    "#### Melakukan Standarisasi Data"
   ]
  },
  {
   "cell_type": "code",
   "execution_count": 28,
   "id": "53a43055",
   "metadata": {},
   "outputs": [],
   "source": [
    "scaler = StandardScaler()\n",
    "scaler.fit(X_train)\n",
    "X_train_trf = scaler.transform(X_train) "
   ]
  },
  {
   "cell_type": "markdown",
   "id": "e332a1fb",
   "metadata": {},
   "source": [
    "#### Create model and train (Linear Regression)"
   ]
  },
  {
   "cell_type": "code",
   "execution_count": 29,
   "id": "1cacc4b8",
   "metadata": {},
   "outputs": [
    {
     "name": "stdout",
     "output_type": "stream",
     "text": [
      "CPU times: user 2.37 s, sys: 162 ms, total: 2.54 s\n",
      "Wall time: 1.59 s\n"
     ]
    },
    {
     "data": {
      "text/plain": [
       "LinearRegression()"
      ]
     },
     "execution_count": 29,
     "metadata": {},
     "output_type": "execute_result"
    }
   ],
   "source": [
    "linear_reg = LinearRegression(fit_intercept=True)\n",
    "\n",
    "%time linear_reg.fit(X_train_trf, y_train)"
   ]
  },
  {
   "cell_type": "markdown",
   "id": "1c5415dc",
   "metadata": {},
   "source": [
    "#### Create model and train (Lasso Regression)"
   ]
  },
  {
   "cell_type": "code",
   "execution_count": 30,
   "id": "d739e656",
   "metadata": {},
   "outputs": [
    {
     "name": "stdout",
     "output_type": "stream",
     "text": [
      "CPU times: user 9.46 s, sys: 123 ms, total: 9.59 s\n",
      "Wall time: 5.32 s\n"
     ]
    },
    {
     "data": {
      "text/plain": [
       "Lasso(alpha=0.001, max_iter=100, tol=0.01)"
      ]
     },
     "execution_count": 30,
     "metadata": {},
     "output_type": "execute_result"
    }
   ],
   "source": [
    "lasso_reg = linear_model.Lasso(alpha=0.001, max_iter=100, tol=0.01)\n",
    "\n",
    "%time lasso_reg.fit(X_train_trf, y_train)"
   ]
  },
  {
   "cell_type": "markdown",
   "id": "f724b893",
   "metadata": {},
   "source": [
    "#### Create model and train (Ridge Regression)"
   ]
  },
  {
   "cell_type": "code",
   "execution_count": 31,
   "id": "92893874",
   "metadata": {},
   "outputs": [
    {
     "name": "stdout",
     "output_type": "stream",
     "text": [
      "CPU times: user 706 ms, sys: 30.5 ms, total: 736 ms\n",
      "Wall time: 448 ms\n"
     ]
    },
    {
     "data": {
      "text/plain": [
       "Ridge(alpha=0.1, max_iter=1000)"
      ]
     },
     "execution_count": 31,
     "metadata": {},
     "output_type": "execute_result"
    }
   ],
   "source": [
    "ridge_reg = Ridge(alpha=0.1, max_iter=1000, tol=0.001)\n",
    "\n",
    "%time ridge_reg.fit(X_train_trf, y_train)"
   ]
  },
  {
   "cell_type": "markdown",
   "id": "96c5f814",
   "metadata": {},
   "source": [
    "# 9. Evaluasi Model"
   ]
  },
  {
   "cell_type": "markdown",
   "id": "993543d1",
   "metadata": {},
   "source": [
    "#### Melakukan standarisasi X_val"
   ]
  },
  {
   "cell_type": "code",
   "execution_count": 33,
   "id": "a4fc9e55",
   "metadata": {},
   "outputs": [],
   "source": [
    "X_val_trf = scaler.transform(X_val)"
   ]
  },
  {
   "cell_type": "markdown",
   "id": "618a8b0c",
   "metadata": {},
   "source": [
    "#### Linear Regression"
   ]
  },
  {
   "cell_type": "code",
   "execution_count": 34,
   "id": "adb8d3d4",
   "metadata": {},
   "outputs": [
    {
     "name": "stdout",
     "output_type": "stream",
     "text": [
      "CPU times: user 46.3 ms, sys: 2.53 ms, total: 48.8 ms\n",
      "Wall time: 37.4 ms\n"
     ]
    }
   ],
   "source": [
    "%time y_preds = linear_reg.predict(X_val_trf)"
   ]
  },
  {
   "cell_type": "code",
   "execution_count": 35,
   "id": "d01ab9ba",
   "metadata": {},
   "outputs": [
    {
     "data": {
      "text/plain": [
       "0.8941213312927654"
      ]
     },
     "execution_count": 35,
     "metadata": {},
     "output_type": "execute_result"
    }
   ],
   "source": [
    "linear_reg.score(X_val_trf, y_val)"
   ]
  },
  {
   "cell_type": "code",
   "execution_count": 36,
   "id": "d311ab98",
   "metadata": {},
   "outputs": [
    {
     "data": {
      "text/plain": [
       "0.8948200585206538"
      ]
     },
     "execution_count": 36,
     "metadata": {},
     "output_type": "execute_result"
    }
   ],
   "source": [
    "linear_reg.score(X_train_trf, y_train)"
   ]
  },
  {
   "cell_type": "code",
   "execution_count": 37,
   "id": "bf6c1b82",
   "metadata": {},
   "outputs": [
    {
     "name": "stdout",
     "output_type": "stream",
     "text": [
      "R2_score :  0.89\n",
      "MAE: 1.93\n",
      "MSE: 9.24\n",
      "RMSE: 3.04\n"
     ]
    }
   ],
   "source": [
    "R2_score_lin = r2_score(y_val, y_preds)\n",
    "print(f'R2_score : {R2_score_lin: .2f}')\n",
    "\n",
    "MAE = mean_absolute_error(y_val, y_preds)\n",
    "print(f'MAE: {MAE:.2f}')\n",
    "\n",
    "MSE = mean_squared_error(y_val, y_preds)\n",
    "print(f'MSE: {MSE:.2f}') \n",
    "\n",
    "RMSE = np.sqrt(mean_squared_error(y_val, y_preds))\n",
    "print(f'RMSE: {RMSE:.2f}')"
   ]
  },
  {
   "cell_type": "markdown",
   "id": "1c8e479c",
   "metadata": {},
   "source": [
    "#### Lasso Regression"
   ]
  },
  {
   "cell_type": "code",
   "execution_count": 38,
   "id": "724a4dee",
   "metadata": {},
   "outputs": [
    {
     "name": "stdout",
     "output_type": "stream",
     "text": [
      "CPU times: user 37.1 ms, sys: 1.82 ms, total: 38.9 ms\n",
      "Wall time: 56.3 ms\n"
     ]
    }
   ],
   "source": [
    "%time y_preds_lasso = lasso_reg.predict(X_val_trf)"
   ]
  },
  {
   "cell_type": "code",
   "execution_count": 39,
   "id": "3a92f901",
   "metadata": {},
   "outputs": [
    {
     "data": {
      "text/plain": [
       "0.8941184028749916"
      ]
     },
     "execution_count": 39,
     "metadata": {},
     "output_type": "execute_result"
    }
   ],
   "source": [
    "lasso_reg.score(X_val_trf, y_val)"
   ]
  },
  {
   "cell_type": "code",
   "execution_count": 40,
   "id": "251ae908",
   "metadata": {},
   "outputs": [
    {
     "data": {
      "text/plain": [
       "0.8948190941027814"
      ]
     },
     "execution_count": 40,
     "metadata": {},
     "output_type": "execute_result"
    }
   ],
   "source": [
    "lasso_reg.score(X_train_trf, y_train)"
   ]
  },
  {
   "cell_type": "code",
   "execution_count": 41,
   "id": "c97fac43",
   "metadata": {},
   "outputs": [
    {
     "name": "stdout",
     "output_type": "stream",
     "text": [
      "R2_score :  0.89\n",
      "MAE_lasso: 1.93\n",
      "MSE_lasso: 9.24\n",
      "RMSE_lasso: 3.04\n"
     ]
    }
   ],
   "source": [
    "R2_score_lasso = r2_score(y_val, y_preds_lasso)\n",
    "print(f'R2_score : {R2_score_lasso: .2f}')\n",
    "\n",
    "MAE_lasso = mean_absolute_error(y_val, y_preds_lasso)\n",
    "print(f'MAE_lasso: {MAE_lasso:.2f}')\n",
    "\n",
    "MSE_lasso = mean_squared_error(y_val, y_preds_lasso)\n",
    "print(f'MSE_lasso: {MSE_lasso:.2f}') \n",
    "\n",
    "RMSE_lasso = np.sqrt(mean_squared_error(y_val, y_preds_lasso))\n",
    "print(f'RMSE_lasso: {RMSE_lasso:.2f}')"
   ]
  },
  {
   "cell_type": "markdown",
   "id": "15a9970b",
   "metadata": {},
   "source": [
    "#### Ridge Regression"
   ]
  },
  {
   "cell_type": "code",
   "execution_count": 42,
   "id": "12eda5b7",
   "metadata": {},
   "outputs": [
    {
     "name": "stdout",
     "output_type": "stream",
     "text": [
      "CPU times: user 45.3 ms, sys: 2.25 ms, total: 47.5 ms\n",
      "Wall time: 45.3 ms\n"
     ]
    }
   ],
   "source": [
    "%time y_preds_ridge = ridge_reg.predict(X_val_trf)"
   ]
  },
  {
   "cell_type": "code",
   "execution_count": 43,
   "id": "ce5536d5",
   "metadata": {},
   "outputs": [
    {
     "data": {
      "text/plain": [
       "0.8941227131309657"
      ]
     },
     "execution_count": 43,
     "metadata": {},
     "output_type": "execute_result"
    }
   ],
   "source": [
    "ridge_reg.score(X_val_trf, y_val)"
   ]
  },
  {
   "cell_type": "code",
   "execution_count": 44,
   "id": "34e31664",
   "metadata": {},
   "outputs": [
    {
     "data": {
      "text/plain": [
       "0.8948202171541643"
      ]
     },
     "execution_count": 44,
     "metadata": {},
     "output_type": "execute_result"
    }
   ],
   "source": [
    "ridge_reg.score(X_train_trf, y_train)"
   ]
  },
  {
   "cell_type": "code",
   "execution_count": 45,
   "id": "dcad8d73",
   "metadata": {},
   "outputs": [
    {
     "name": "stdout",
     "output_type": "stream",
     "text": [
      "R2_score :  0.89\n",
      "MAE_ridge: 1.93\n",
      "MSE_ridge: 9.24\n",
      "RMSE_ridge: 3.04\n"
     ]
    }
   ],
   "source": [
    "R2_score_ridge = r2_score(y_val, y_preds_ridge)\n",
    "print(f'R2_score : {R2_score_ridge: .2f}')\n",
    "\n",
    "MAE_ridge = mean_absolute_error(y_val, y_preds_ridge)\n",
    "print(f'MAE_ridge: {MAE_ridge:.2f}')\n",
    "\n",
    "MSE_ridge = mean_squared_error(y_val, y_preds_ridge)\n",
    "print(f'MSE_ridge: {MSE_ridge:.2f}') \n",
    "\n",
    "RMSE_ridge = np.sqrt(mean_squared_error(y_val, y_preds_ridge))\n",
    "print(f'RMSE_ridge: {RMSE_ridge:.2f}')"
   ]
  },
  {
   "cell_type": "code",
   "execution_count": 46,
   "id": "841b73d4",
   "metadata": {},
   "outputs": [],
   "source": [
    "model = pd.Series(['Linear Regression', 'Lasso', 'Ridge'])"
   ]
  },
  {
   "cell_type": "code",
   "execution_count": 47,
   "id": "bb7ab69f",
   "metadata": {},
   "outputs": [],
   "source": [
    "R2_score = pd.Series([R2_score_lin, R2_score_lasso, R2_score_ridge ])\n",
    "MAE_score = pd.Series([MAE, MAE_lasso, MAE_ridge ])\n",
    "MSE_score = pd.Series([MSE, MSE_lasso, MSE_ridge ])\n",
    "RMSE_score = pd.Series([RMSE, RMSE_lasso, RMSE_ridge ])"
   ]
  },
  {
   "cell_type": "code",
   "execution_count": 48,
   "id": "c43ae39f",
   "metadata": {},
   "outputs": [
    {
     "data": {
      "text/html": [
       "<div>\n",
       "<style scoped>\n",
       "    .dataframe tbody tr th:only-of-type {\n",
       "        vertical-align: middle;\n",
       "    }\n",
       "\n",
       "    .dataframe tbody tr th {\n",
       "        vertical-align: top;\n",
       "    }\n",
       "\n",
       "    .dataframe thead th {\n",
       "        text-align: right;\n",
       "    }\n",
       "</style>\n",
       "<table border=\"1\" class=\"dataframe\">\n",
       "  <thead>\n",
       "    <tr style=\"text-align: right;\">\n",
       "      <th></th>\n",
       "      <th>Regression</th>\n",
       "      <th>R2_score</th>\n",
       "      <th>MAE_score</th>\n",
       "      <th>MSE_score</th>\n",
       "      <th>RMSE_score</th>\n",
       "    </tr>\n",
       "  </thead>\n",
       "  <tbody>\n",
       "    <tr>\n",
       "      <th>0</th>\n",
       "      <td>Linear Regression</td>\n",
       "      <td>0.894121</td>\n",
       "      <td>1.928783</td>\n",
       "      <td>9.236609</td>\n",
       "      <td>3.039179</td>\n",
       "    </tr>\n",
       "    <tr>\n",
       "      <th>1</th>\n",
       "      <td>Lasso</td>\n",
       "      <td>0.894118</td>\n",
       "      <td>1.928479</td>\n",
       "      <td>9.236865</td>\n",
       "      <td>3.039221</td>\n",
       "    </tr>\n",
       "    <tr>\n",
       "      <th>2</th>\n",
       "      <td>Ridge</td>\n",
       "      <td>0.894123</td>\n",
       "      <td>1.928649</td>\n",
       "      <td>9.236489</td>\n",
       "      <td>3.039159</td>\n",
       "    </tr>\n",
       "  </tbody>\n",
       "</table>\n",
       "</div>"
      ],
      "text/plain": [
       "          Regression  R2_score  MAE_score  MSE_score  RMSE_score\n",
       "0  Linear Regression  0.894121   1.928783   9.236609    3.039179\n",
       "1              Lasso  0.894118   1.928479   9.236865    3.039221\n",
       "2              Ridge  0.894123   1.928649   9.236489    3.039159"
      ]
     },
     "execution_count": 48,
     "metadata": {},
     "output_type": "execute_result"
    }
   ],
   "source": [
    "choose_regression = pd.DataFrame({'Regression': model, 'R2_score': R2_score, 'MAE_score': MAE_score, 'MSE_score': MSE_score, 'RMSE_score': RMSE_score})\n",
    "choose_regression"
   ]
  },
  {
   "cell_type": "markdown",
   "id": "e69fcc3e",
   "metadata": {},
   "source": [
    "Dari hasil perbandingan model terlihat bahwa ketiga model memiliki Mean Absolute Error relatif yang sama sebesar 1.93 namun dikarenakan waktu training lebih cepat dari model Linear Regression dam Lasso Regression maka diputuskan untuk menggunakan model Ridge Regression "
   ]
  },
  {
   "cell_type": "markdown",
   "id": "799261a0",
   "metadata": {},
   "source": [
    "# 10. Model Inference"
   ]
  },
  {
   "cell_type": "markdown",
   "id": "4894cc9f",
   "metadata": {},
   "source": [
    "#### Mencoba prediksi dengan data X"
   ]
  },
  {
   "cell_type": "code",
   "execution_count": 49,
   "id": "54524127",
   "metadata": {},
   "outputs": [
    {
     "data": {
      "text/plain": [
       "array([14.63826698, 17.84367668, 15.62287536, ..., 17.7056867 ,\n",
       "       23.46863896, 17.4163329 ])"
      ]
     },
     "execution_count": 49,
     "metadata": {},
     "output_type": "execute_result"
    }
   ],
   "source": [
    "y_preds = ridge_reg.predict(X)\n",
    "y_preds"
   ]
  },
  {
   "cell_type": "markdown",
   "id": "b84c10cd",
   "metadata": {},
   "source": [
    "#### Menambahkan dataframe"
   ]
  },
  {
   "cell_type": "code",
   "execution_count": 50,
   "id": "600cb6f9",
   "metadata": {},
   "outputs": [],
   "source": [
    "dataset['predicted'] = y_preds"
   ]
  },
  {
   "cell_type": "markdown",
   "id": "a186b59c",
   "metadata": {},
   "source": [
    "#### Melakukan Plotting"
   ]
  },
  {
   "cell_type": "code",
   "execution_count": 51,
   "id": "ae01635c",
   "metadata": {},
   "outputs": [
    {
     "data": {
      "text/plain": [
       "array([12.56347234, 11.28822169,  6.72333873, ..., 18.02313534,\n",
       "        9.3594871 ,  7.14531535])"
      ]
     },
     "execution_count": 51,
     "metadata": {},
     "output_type": "execute_result"
    }
   ],
   "source": [
    "y_preds_val = ridge_reg.predict(X_val_trf)\n",
    "y_preds_val"
   ]
  },
  {
   "cell_type": "code",
   "execution_count": 52,
   "id": "ed932add",
   "metadata": {},
   "outputs": [
    {
     "data": {
      "image/png": "[encoded data removed]",
      "text/plain": [
       "<Figure size 432x288 with 1 Axes>"
      ]
     },
     "metadata": {
      "needs_background": "light"
     },
     "output_type": "display_data"
    }
   ],
   "source": [
    "plt.scatter(y_val,y_preds_val);"
   ]
  },
  {
   "cell_type": "code",
   "execution_count": 53,
   "id": "3c585f73",
   "metadata": {},
   "outputs": [
    {
     "data": {
      "image/png": "[encoded data removed]",
      "text/plain": [
       "<Figure size 432x288 with 1 Axes>"
      ]
     },
     "metadata": {
      "needs_background": "light"
     },
     "output_type": "display_data"
    }
   ],
   "source": [
    "dataset[['price', 'predicted']].plot(alpha=0.5);"
   ]
  },
  {
   "cell_type": "markdown",
   "id": "7e58b541",
   "metadata": {},
   "source": [
    "# 11. Kesimpulan"
   ]
  },
  {
   "cell_type": "markdown",
   "id": "3fa410e2",
   "metadata": {},
   "source": [
    "### 11.1 Model Analysis"
   ]
  },
  {
   "cell_type": "code",
   "execution_count": 54,
   "id": "8522d060",
   "metadata": {},
   "outputs": [],
   "source": [
    "params = pd.Series(ridge_reg.coef_, index=X.columns)"
   ]
  },
  {
   "cell_type": "code",
   "execution_count": 55,
   "id": "b7bb513f",
   "metadata": {},
   "outputs": [
    {
     "data": {
      "text/html": [
       "<div>\n",
       "<style scoped>\n",
       "    .dataframe tbody tr th:only-of-type {\n",
       "        vertical-align: middle;\n",
       "    }\n",
       "\n",
       "    .dataframe tbody tr th {\n",
       "        vertical-align: top;\n",
       "    }\n",
       "\n",
       "    .dataframe thead th {\n",
       "        text-align: right;\n",
       "    }\n",
       "</style>\n",
       "<table border=\"1\" class=\"dataframe\">\n",
       "  <thead>\n",
       "    <tr style=\"text-align: right;\">\n",
       "      <th></th>\n",
       "      <th>Coeff</th>\n",
       "    </tr>\n",
       "  </thead>\n",
       "  <tbody>\n",
       "    <tr>\n",
       "      <th>hour</th>\n",
       "      <td>-0.0</td>\n",
       "    </tr>\n",
       "    <tr>\n",
       "      <th>distance</th>\n",
       "      <td>3.0</td>\n",
       "    </tr>\n",
       "    <tr>\n",
       "      <th>source_Beacon Hill</th>\n",
       "      <td>-0.0</td>\n",
       "    </tr>\n",
       "    <tr>\n",
       "      <th>source_Boston University</th>\n",
       "      <td>-0.0</td>\n",
       "    </tr>\n",
       "    <tr>\n",
       "      <th>source_Fenway</th>\n",
       "      <td>-0.0</td>\n",
       "    </tr>\n",
       "    <tr>\n",
       "      <th>source_Financial District</th>\n",
       "      <td>0.0</td>\n",
       "    </tr>\n",
       "    <tr>\n",
       "      <th>source_Haymarket Square</th>\n",
       "      <td>0.0</td>\n",
       "    </tr>\n",
       "    <tr>\n",
       "      <th>source_North End</th>\n",
       "      <td>0.0</td>\n",
       "    </tr>\n",
       "    <tr>\n",
       "      <th>source_North Station</th>\n",
       "      <td>-0.0</td>\n",
       "    </tr>\n",
       "    <tr>\n",
       "      <th>source_Northeastern University</th>\n",
       "      <td>-0.0</td>\n",
       "    </tr>\n",
       "    <tr>\n",
       "      <th>source_South Station</th>\n",
       "      <td>0.0</td>\n",
       "    </tr>\n",
       "    <tr>\n",
       "      <th>source_Theatre District</th>\n",
       "      <td>0.0</td>\n",
       "    </tr>\n",
       "    <tr>\n",
       "      <th>source_West End</th>\n",
       "      <td>-0.0</td>\n",
       "    </tr>\n",
       "    <tr>\n",
       "      <th>destination_Beacon Hill</th>\n",
       "      <td>-0.0</td>\n",
       "    </tr>\n",
       "    <tr>\n",
       "      <th>destination_Boston University</th>\n",
       "      <td>0.0</td>\n",
       "    </tr>\n",
       "    <tr>\n",
       "      <th>destination_Fenway</th>\n",
       "      <td>-0.0</td>\n",
       "    </tr>\n",
       "    <tr>\n",
       "      <th>destination_Financial District</th>\n",
       "      <td>0.0</td>\n",
       "    </tr>\n",
       "    <tr>\n",
       "      <th>destination_Haymarket Square</th>\n",
       "      <td>0.0</td>\n",
       "    </tr>\n",
       "    <tr>\n",
       "      <th>destination_North End</th>\n",
       "      <td>0.0</td>\n",
       "    </tr>\n",
       "    <tr>\n",
       "      <th>destination_North Station</th>\n",
       "      <td>0.0</td>\n",
       "    </tr>\n",
       "    <tr>\n",
       "      <th>destination_Northeastern University</th>\n",
       "      <td>0.0</td>\n",
       "    </tr>\n",
       "    <tr>\n",
       "      <th>destination_South Station</th>\n",
       "      <td>0.0</td>\n",
       "    </tr>\n",
       "    <tr>\n",
       "      <th>destination_Theatre District</th>\n",
       "      <td>0.0</td>\n",
       "    </tr>\n",
       "    <tr>\n",
       "      <th>destination_West End</th>\n",
       "      <td>-0.0</td>\n",
       "    </tr>\n",
       "    <tr>\n",
       "      <th>cab_type_Uber</th>\n",
       "      <td>1.0</td>\n",
       "    </tr>\n",
       "    <tr>\n",
       "      <th>name_Black SUV</th>\n",
       "      <td>3.0</td>\n",
       "    </tr>\n",
       "    <tr>\n",
       "      <th>name_Lux</th>\n",
       "      <td>-0.0</td>\n",
       "    </tr>\n",
       "    <tr>\n",
       "      <th>name_Lux Black</th>\n",
       "      <td>1.0</td>\n",
       "    </tr>\n",
       "    <tr>\n",
       "      <th>name_Lux Black XL</th>\n",
       "      <td>4.0</td>\n",
       "    </tr>\n",
       "    <tr>\n",
       "      <th>name_Lyft</th>\n",
       "      <td>-2.0</td>\n",
       "    </tr>\n",
       "    <tr>\n",
       "      <th>name_Lyft XL</th>\n",
       "      <td>-1.0</td>\n",
       "    </tr>\n",
       "    <tr>\n",
       "      <th>name_Shared</th>\n",
       "      <td>-3.0</td>\n",
       "    </tr>\n",
       "    <tr>\n",
       "      <th>name_Taxi</th>\n",
       "      <td>0.0</td>\n",
       "    </tr>\n",
       "    <tr>\n",
       "      <th>name_UberPool</th>\n",
       "      <td>-3.0</td>\n",
       "    </tr>\n",
       "    <tr>\n",
       "      <th>name_UberX</th>\n",
       "      <td>-3.0</td>\n",
       "    </tr>\n",
       "    <tr>\n",
       "      <th>name_UberXL</th>\n",
       "      <td>-1.0</td>\n",
       "    </tr>\n",
       "    <tr>\n",
       "      <th>name_WAV</th>\n",
       "      <td>-3.0</td>\n",
       "    </tr>\n",
       "  </tbody>\n",
       "</table>\n",
       "</div>"
      ],
      "text/plain": [
       "                                     Coeff\n",
       "hour                                  -0.0\n",
       "distance                               3.0\n",
       "source_Beacon Hill                    -0.0\n",
       "source_Boston University              -0.0\n",
       "source_Fenway                         -0.0\n",
       "source_Financial District              0.0\n",
       "source_Haymarket Square                0.0\n",
       "source_North End                       0.0\n",
       "source_North Station                  -0.0\n",
       "source_Northeastern University        -0.0\n",
       "source_South Station                   0.0\n",
       "source_Theatre District                0.0\n",
       "source_West End                       -0.0\n",
       "destination_Beacon Hill               -0.0\n",
       "destination_Boston University          0.0\n",
       "destination_Fenway                    -0.0\n",
       "destination_Financial District         0.0\n",
       "destination_Haymarket Square           0.0\n",
       "destination_North End                  0.0\n",
       "destination_North Station              0.0\n",
       "destination_Northeastern University    0.0\n",
       "destination_South Station              0.0\n",
       "destination_Theatre District           0.0\n",
       "destination_West End                  -0.0\n",
       "cab_type_Uber                          1.0\n",
       "name_Black SUV                         3.0\n",
       "name_Lux                              -0.0\n",
       "name_Lux Black                         1.0\n",
       "name_Lux Black XL                      4.0\n",
       "name_Lyft                             -2.0\n",
       "name_Lyft XL                          -1.0\n",
       "name_Shared                           -3.0\n",
       "name_Taxi                              0.0\n",
       "name_UberPool                         -3.0\n",
       "name_UberX                            -3.0\n",
       "name_UberXL                           -1.0\n",
       "name_WAV                              -3.0"
      ]
     },
     "execution_count": 55,
     "metadata": {},
     "output_type": "execute_result"
    }
   ],
   "source": [
    "analisis = pd.DataFrame(params.round(0),X.columns,columns=['Coeff'])\n",
    "analisis"
   ]
  },
  {
   "cell_type": "markdown",
   "id": "5dfb912a",
   "metadata": {},
   "source": [
    "#### Model Analysis :\n",
    "\n",
    "Dengan menggunakan Model Ridge Regression terdapat beberapa variabel yang memiliki relasi positif terhadap varibel price, yaitu:\n",
    "\n",
    "* Dengan memegang semua fitur lainnya tetap, peningkatan rata-rata 1 unit variabel distance dikaitkan dengan peningkatan total 3 unit variabel price.\n",
    "\n",
    "* Dengan memegang semua fitur lainnya tetap, peningkatan rata-rata 1 unit  variabel cab_type_Uber dikaitkan dengan peningkatan total 1 unit variabel price.\n",
    "\n",
    "* Dengan memegang semua fitur lainnya tetap, peningkatan rata-rata 1 unit  variabel name_Black SUV dikaitkan dengan peningkatan total 3 unit variabel price.\n",
    "\n",
    "* Dengan memegang semua fitur lainnya tetap, peningkatan rata-rata 1 unit  variabel name_Lux Black dikaitkan dengan peningkatan total 1 unit variabel price.\n",
    "\n",
    "* Dengan memegang semua fitur lainnya tetap, peningkatan rata-rata 1 unit  variabel name_Lux Black XL dikaitkan dengan peningkatan total 4 unit variabel price."
   ]
  },
  {
   "cell_type": "markdown",
   "id": "08abae02",
   "metadata": {},
   "source": [
    "### 11.2 Overall Analysis"
   ]
  },
  {
   "cell_type": "markdown",
   "id": "1472938b",
   "metadata": {},
   "source": [
    "Analisa secara keseluruhan:\n",
    "* Dataset merupakan kumpulan data untuk layanan Uber dan Lyft.\n",
    "* Objective yang ingin didapat adalah memprediksi variabel price\n",
    "* Secara keseluruhan dataset terdiri dari 57 columns dan 693071 rows\n",
    "* Dalam data preprocessing dilakukan pemilihan variabel 'hour', 'source', 'destination', 'cab_type', 'name', 'distance' karena kemungkinan memiliki pengaruh dalam melakukan prediksi variabel 'price'\n",
    "* Dari explorasi data dapat terlihat bahwa:\n",
    "    * Dari visualisasi terlihat bahwa Variabel Distance memiliki korelasi terbesar terhadap variabel price yaitu sebesar 0.35\n",
    "    * Dari hasil visualisasi terlihat bahwa price rata-rata tertinggi adalah untuk tempat tujuan 'Boston University', 'Fenway' dan 'Financial District'\n",
    "    * Dari hasil visualisasi terlihat bahwa price rata-rata tertinggi adalah untuk keberangkatan dari 'Boston University', 'Fenway' dan 'Financial District'\n",
    "    * Dari hasil visualisasi terlihat bahwa price rata-rata tertinggi adalah untuk layanan 'Black SUV' dan 'Lux Black XL'\n",
    "* Melakukan proses get dummies untuk mengubah variabel categorical yaitu variabel 'source', 'destination', 'cab_type', 'name' menjadi numeric\n",
    "* Dalam proses data cleaning terlihat bahwa terdapat 55095 missing values pada variabel price, dan untuk mengatasi missing values tersebut dilakukan proses dropna atau menghapus rows dalam mengatasi missing values variabel price, hal tersebut dilakukan karena variabel value merupakan variabel dependent\n",
    "* Menggunakan model Regression Karena Objective yang ingin dicapai adalah melakukan prediksi terhadap variabel price, untuk itu kita akan coba menggunakan Linear Regression, Lasso Regression, dan Ridge Regression dan membandingkan performa dari ketiga model tersebut\n",
    "* Dalam melakukan split data dilakukan dengan membagi data training sebesar 0.7 dan data test sebesar 0.3 dengan random state 42\n",
    "* Dari hasil perbandingan model terlihat bahwa ketiga model memiliki Mean Absolute Error relatif yang sama sebesar 1.93 namun dikarenakan waktu training lebih cepat dari model Linear Regression dam Lasso Regression maka diputuskan untuk menggunakan model Ridge Regression \n",
    "* Dari hasil prediksi variabel price dengan menggunakan model Ridge Regression didapatkan hasil R2_score :  0.89, MAE_ridge: 1.93, MSE_ridge: 9.24, RMSE_ridge: 3.04"
   ]
  },
  {
   "cell_type": "code",
   "execution_count": null,
   "id": "0ba077d7",
   "metadata": {},
   "outputs": [],
   "source": []
  }
 ],
 "metadata": {
  "kernelspec": {
   "display_name": "Python 3 (ipykernel)",
   "language": "python",
   "name": "python3"
  },
  "language_info": {
   "codemirror_mode": {
    "name": "ipython",
    "version": 3
   },
   "file_extension": ".py",
   "mimetype": "text/x-python",
   "name": "python",
   "nbconvert_exporter": "python",
   "pygments_lexer": "ipython3",
   "version": "3.9.6"
  }
 },
 "nbformat": 4,
 "nbformat_minor": 5
}
