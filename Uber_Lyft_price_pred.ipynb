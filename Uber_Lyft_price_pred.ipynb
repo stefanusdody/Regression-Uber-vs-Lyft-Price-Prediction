{
  "nbformat": 4,
  "nbformat_minor": 5,
  "metadata": {
    "kernelspec": {
      "display_name": "Python 3 (ipykernel)",
      "language": "python",
      "name": "python3"
    },
    "language_info": {
      "codemirror_mode": {
        "name": "ipython",
        "version": 3
      },
      "file_extension": ".py",
      "mimetype": "text/x-python",
      "name": "python",
      "nbconvert_exporter": "python",
      "pygments_lexer": "ipython3",
      "version": "3.9.6"
    },
    "colab": {
      "name": "Uber_Lyft_price_pred.ipynb",
      "provenance": [],
      "collapsed_sections": [
        "5dfb912a"
      ]
    }
  },
  "cells": [
    {
      "cell_type": "markdown",
      "metadata": {
        "id": "1f30cbb9"
      },
      "source": [
        "# Introduction"
      ],
      "id": "1f30cbb9"
    },
    {
      "cell_type": "markdown",
      "metadata": {
        "id": "eddfb17e"
      },
      "source": [
        "#### Dataset"
      ],
      "id": "eddfb17e"
    },
    {
      "cell_type": "markdown",
      "metadata": {
        "id": "cdb47ae9"
      },
      "source": [
        "Dataset merupakan kumpulan data untuk layanan Uber dan Lyft dari tanggal 11-26-2018 sampai dengan 12-18-2018"
      ],
      "id": "cdb47ae9"
    },
    {
      "cell_type": "markdown",
      "metadata": {
        "id": "bc3fa6a0"
      },
      "source": [
        "#### Sumber Dataset"
      ],
      "id": "bc3fa6a0"
    },
    {
      "cell_type": "markdown",
      "metadata": {
        "id": "f73d4783"
      },
      "source": [
        "Sumber asli dataset berasal dari kaggle : https://www.kaggle.com/brllrb/uber-and-lyft-dataset-boston-ma"
      ],
      "id": "f73d4783"
    },
    {
      "cell_type": "markdown",
      "metadata": {
        "id": "58d1342b"
      },
      "source": [
        "#### Objective "
      ],
      "id": "58d1342b"
    },
    {
      "cell_type": "markdown",
      "metadata": {
        "id": "e9ec3064"
      },
      "source": [
        "Objective yang ingin diperoleh adalah memprediksi harga layanan dengan menggunakan regresi "
      ],
      "id": "e9ec3064"
    },
    {
      "cell_type": "markdown",
      "metadata": {
        "id": "b86371e9"
      },
      "source": [
        "# 2. Import Pustaka"
      ],
      "id": "b86371e9"
    },
    {
      "cell_type": "code",
      "metadata": {
        "id": "981c6a15"
      },
      "source": [
        "import pandas as pd\n",
        "import numpy as np\n",
        "import matplotlib.pyplot as plt\n",
        "import seaborn as sns\n",
        "\n",
        "## for feature slection\n",
        "from sklearn.ensemble import RandomForestRegressor\n",
        "\n",
        "#pre-processing\n",
        "from sklearn.preprocessing import StandardScaler\n",
        "from sklearn.model_selection import train_test_split \n",
        "\n",
        "# Model Regression\n",
        "from sklearn.linear_model import LinearRegression\n",
        "from sklearn import linear_model\n",
        "from sklearn.linear_model import Ridge\n",
        "\n",
        "# for matrics evaluation\n",
        "from sklearn.metrics import r2_score, mean_absolute_error, mean_squared_error\n",
        "\n",
        "%matplotlib inline"
      ],
      "id": "981c6a15",
      "execution_count": 1,
      "outputs": []
    },
    {
      "cell_type": "code",
      "metadata": {
        "colab": {
          "base_uri": "https://localhost:8080/"
        },
        "id": "sbP6NomgjSIN",
        "outputId": "b55ee73a-024c-483f-81f6-ecf3aeeb82c0"
      },
      "source": [
        "from google.colab import drive\n",
        "drive.mount('/content/drive')"
      ],
      "id": "sbP6NomgjSIN",
      "execution_count": 2,
      "outputs": [
        {
          "output_type": "stream",
          "name": "stdout",
          "text": [
            "Drive already mounted at /content/drive; to attempt to forcibly remount, call drive.mount(\"/content/drive\", force_remount=True).\n"
          ]
        }
      ]
    },
    {
      "cell_type": "markdown",
      "metadata": {
        "id": "97ecefa6"
      },
      "source": [
        "# 3. Data Loading "
      ],
      "id": "97ecefa6"
    },
    {
      "cell_type": "code",
      "metadata": {
        "id": "e57e893b"
      },
      "source": [
        "df = pd.read_csv('/content/drive/MyDrive/dataset/rideshare_kaggle.csv')"
      ],
      "id": "e57e893b",
      "execution_count": 3,
      "outputs": []
    },
    {
      "cell_type": "markdown",
      "metadata": {
        "id": "0aa9b0a7"
      },
      "source": [
        "#### Melihat 5 data teratas "
      ],
      "id": "0aa9b0a7"
    },
    {
      "cell_type": "code",
      "metadata": {
        "colab": {
          "base_uri": "https://localhost:8080/",
          "height": 479
        },
        "id": "9448a9ef",
        "outputId": "1d98642e-cc89-4e92-bb26-326371543446"
      },
      "source": [
        "df.head()"
      ],
      "id": "9448a9ef",
      "execution_count": 4,
      "outputs": [
        {
          "output_type": "execute_result",
          "data": {
            "text/html": [
              "<div>\n",
              "<style scoped>\n",
              "    .dataframe tbody tr th:only-of-type {\n",
              "        vertical-align: middle;\n",
              "    }\n",
              "\n",
              "    .dataframe tbody tr th {\n",
              "        vertical-align: top;\n",
              "    }\n",
              "\n",
              "    .dataframe thead th {\n",
              "        text-align: right;\n",
              "    }\n",
              "</style>\n",
              "<table border=\"1\" class=\"dataframe\">\n",
              "  <thead>\n",
              "    <tr style=\"text-align: right;\">\n",
              "      <th></th>\n",
              "      <th>id</th>\n",
              "      <th>timestamp</th>\n",
              "      <th>hour</th>\n",
              "      <th>day</th>\n",
              "      <th>month</th>\n",
              "      <th>datetime</th>\n",
              "      <th>timezone</th>\n",
              "      <th>source</th>\n",
              "      <th>destination</th>\n",
              "      <th>cab_type</th>\n",
              "      <th>product_id</th>\n",
              "      <th>name</th>\n",
              "      <th>price</th>\n",
              "      <th>distance</th>\n",
              "      <th>surge_multiplier</th>\n",
              "      <th>latitude</th>\n",
              "      <th>longitude</th>\n",
              "      <th>temperature</th>\n",
              "      <th>apparentTemperature</th>\n",
              "      <th>short_summary</th>\n",
              "      <th>long_summary</th>\n",
              "      <th>precipIntensity</th>\n",
              "      <th>precipProbability</th>\n",
              "      <th>humidity</th>\n",
              "      <th>windSpeed</th>\n",
              "      <th>windGust</th>\n",
              "      <th>windGustTime</th>\n",
              "      <th>visibility</th>\n",
              "      <th>temperatureHigh</th>\n",
              "      <th>temperatureHighTime</th>\n",
              "      <th>temperatureLow</th>\n",
              "      <th>temperatureLowTime</th>\n",
              "      <th>apparentTemperatureHigh</th>\n",
              "      <th>apparentTemperatureHighTime</th>\n",
              "      <th>apparentTemperatureLow</th>\n",
              "      <th>apparentTemperatureLowTime</th>\n",
              "      <th>icon</th>\n",
              "      <th>dewPoint</th>\n",
              "      <th>pressure</th>\n",
              "      <th>windBearing</th>\n",
              "      <th>cloudCover</th>\n",
              "      <th>uvIndex</th>\n",
              "      <th>visibility.1</th>\n",
              "      <th>ozone</th>\n",
              "      <th>sunriseTime</th>\n",
              "      <th>sunsetTime</th>\n",
              "      <th>moonPhase</th>\n",
              "      <th>precipIntensityMax</th>\n",
              "      <th>uvIndexTime</th>\n",
              "      <th>temperatureMin</th>\n",
              "      <th>temperatureMinTime</th>\n",
              "      <th>temperatureMax</th>\n",
              "      <th>temperatureMaxTime</th>\n",
              "      <th>apparentTemperatureMin</th>\n",
              "      <th>apparentTemperatureMinTime</th>\n",
              "      <th>apparentTemperatureMax</th>\n",
              "      <th>apparentTemperatureMaxTime</th>\n",
              "    </tr>\n",
              "  </thead>\n",
              "  <tbody>\n",
              "    <tr>\n",
              "      <th>0</th>\n",
              "      <td>424553bb-7174-41ea-aeb4-fe06d4f4b9d7</td>\n",
              "      <td>1.544953e+09</td>\n",
              "      <td>9</td>\n",
              "      <td>16</td>\n",
              "      <td>12</td>\n",
              "      <td>2018-12-16 09:30:07</td>\n",
              "      <td>America/New_York</td>\n",
              "      <td>Haymarket Square</td>\n",
              "      <td>North Station</td>\n",
              "      <td>Lyft</td>\n",
              "      <td>lyft_line</td>\n",
              "      <td>Shared</td>\n",
              "      <td>5.0</td>\n",
              "      <td>0.44</td>\n",
              "      <td>1.0</td>\n",
              "      <td>42.2148</td>\n",
              "      <td>-71.033</td>\n",
              "      <td>42.34</td>\n",
              "      <td>37.12</td>\n",
              "      <td>Mostly Cloudy</td>\n",
              "      <td>Rain throughout the day.</td>\n",
              "      <td>0.0000</td>\n",
              "      <td>0.0</td>\n",
              "      <td>0.68</td>\n",
              "      <td>8.66</td>\n",
              "      <td>9.17</td>\n",
              "      <td>1545015600</td>\n",
              "      <td>10.000</td>\n",
              "      <td>43.68</td>\n",
              "      <td>1544968800</td>\n",
              "      <td>34.19</td>\n",
              "      <td>1545048000</td>\n",
              "      <td>37.95</td>\n",
              "      <td>1544968800</td>\n",
              "      <td>27.39</td>\n",
              "      <td>1545044400</td>\n",
              "      <td>partly-cloudy-night</td>\n",
              "      <td>32.70</td>\n",
              "      <td>1021.98</td>\n",
              "      <td>57</td>\n",
              "      <td>0.72</td>\n",
              "      <td>0</td>\n",
              "      <td>10.000</td>\n",
              "      <td>303.8</td>\n",
              "      <td>1544962084</td>\n",
              "      <td>1544994864</td>\n",
              "      <td>0.30</td>\n",
              "      <td>0.1276</td>\n",
              "      <td>1544979600</td>\n",
              "      <td>39.89</td>\n",
              "      <td>1545012000</td>\n",
              "      <td>43.68</td>\n",
              "      <td>1544968800</td>\n",
              "      <td>33.73</td>\n",
              "      <td>1545012000</td>\n",
              "      <td>38.07</td>\n",
              "      <td>1544958000</td>\n",
              "    </tr>\n",
              "    <tr>\n",
              "      <th>1</th>\n",
              "      <td>4bd23055-6827-41c6-b23b-3c491f24e74d</td>\n",
              "      <td>1.543284e+09</td>\n",
              "      <td>2</td>\n",
              "      <td>27</td>\n",
              "      <td>11</td>\n",
              "      <td>2018-11-27 02:00:23</td>\n",
              "      <td>America/New_York</td>\n",
              "      <td>Haymarket Square</td>\n",
              "      <td>North Station</td>\n",
              "      <td>Lyft</td>\n",
              "      <td>lyft_premier</td>\n",
              "      <td>Lux</td>\n",
              "      <td>11.0</td>\n",
              "      <td>0.44</td>\n",
              "      <td>1.0</td>\n",
              "      <td>42.2148</td>\n",
              "      <td>-71.033</td>\n",
              "      <td>43.58</td>\n",
              "      <td>37.35</td>\n",
              "      <td>Rain</td>\n",
              "      <td>Rain until morning, starting again in the eve...</td>\n",
              "      <td>0.1299</td>\n",
              "      <td>1.0</td>\n",
              "      <td>0.94</td>\n",
              "      <td>11.98</td>\n",
              "      <td>11.98</td>\n",
              "      <td>1543291200</td>\n",
              "      <td>4.786</td>\n",
              "      <td>47.30</td>\n",
              "      <td>1543251600</td>\n",
              "      <td>42.10</td>\n",
              "      <td>1543298400</td>\n",
              "      <td>43.92</td>\n",
              "      <td>1543251600</td>\n",
              "      <td>36.20</td>\n",
              "      <td>1543291200</td>\n",
              "      <td>rain</td>\n",
              "      <td>41.83</td>\n",
              "      <td>1003.97</td>\n",
              "      <td>90</td>\n",
              "      <td>1.00</td>\n",
              "      <td>0</td>\n",
              "      <td>4.786</td>\n",
              "      <td>291.1</td>\n",
              "      <td>1543232969</td>\n",
              "      <td>1543266992</td>\n",
              "      <td>0.64</td>\n",
              "      <td>0.1300</td>\n",
              "      <td>1543251600</td>\n",
              "      <td>40.49</td>\n",
              "      <td>1543233600</td>\n",
              "      <td>47.30</td>\n",
              "      <td>1543251600</td>\n",
              "      <td>36.20</td>\n",
              "      <td>1543291200</td>\n",
              "      <td>43.92</td>\n",
              "      <td>1543251600</td>\n",
              "    </tr>\n",
              "    <tr>\n",
              "      <th>2</th>\n",
              "      <td>981a3613-77af-4620-a42a-0c0866077d1e</td>\n",
              "      <td>1.543367e+09</td>\n",
              "      <td>1</td>\n",
              "      <td>28</td>\n",
              "      <td>11</td>\n",
              "      <td>2018-11-28 01:00:22</td>\n",
              "      <td>America/New_York</td>\n",
              "      <td>Haymarket Square</td>\n",
              "      <td>North Station</td>\n",
              "      <td>Lyft</td>\n",
              "      <td>lyft</td>\n",
              "      <td>Lyft</td>\n",
              "      <td>7.0</td>\n",
              "      <td>0.44</td>\n",
              "      <td>1.0</td>\n",
              "      <td>42.2148</td>\n",
              "      <td>-71.033</td>\n",
              "      <td>38.33</td>\n",
              "      <td>32.93</td>\n",
              "      <td>Clear</td>\n",
              "      <td>Light rain in the morning.</td>\n",
              "      <td>0.0000</td>\n",
              "      <td>0.0</td>\n",
              "      <td>0.75</td>\n",
              "      <td>7.33</td>\n",
              "      <td>7.33</td>\n",
              "      <td>1543334400</td>\n",
              "      <td>10.000</td>\n",
              "      <td>47.55</td>\n",
              "      <td>1543320000</td>\n",
              "      <td>33.10</td>\n",
              "      <td>1543402800</td>\n",
              "      <td>44.12</td>\n",
              "      <td>1543320000</td>\n",
              "      <td>29.11</td>\n",
              "      <td>1543392000</td>\n",
              "      <td>clear-night</td>\n",
              "      <td>31.10</td>\n",
              "      <td>992.28</td>\n",
              "      <td>240</td>\n",
              "      <td>0.03</td>\n",
              "      <td>0</td>\n",
              "      <td>10.000</td>\n",
              "      <td>315.7</td>\n",
              "      <td>1543319437</td>\n",
              "      <td>1543353364</td>\n",
              "      <td>0.68</td>\n",
              "      <td>0.1064</td>\n",
              "      <td>1543338000</td>\n",
              "      <td>35.36</td>\n",
              "      <td>1543377600</td>\n",
              "      <td>47.55</td>\n",
              "      <td>1543320000</td>\n",
              "      <td>31.04</td>\n",
              "      <td>1543377600</td>\n",
              "      <td>44.12</td>\n",
              "      <td>1543320000</td>\n",
              "    </tr>\n",
              "    <tr>\n",
              "      <th>3</th>\n",
              "      <td>c2d88af2-d278-4bfd-a8d0-29ca77cc5512</td>\n",
              "      <td>1.543554e+09</td>\n",
              "      <td>4</td>\n",
              "      <td>30</td>\n",
              "      <td>11</td>\n",
              "      <td>2018-11-30 04:53:02</td>\n",
              "      <td>America/New_York</td>\n",
              "      <td>Haymarket Square</td>\n",
              "      <td>North Station</td>\n",
              "      <td>Lyft</td>\n",
              "      <td>lyft_luxsuv</td>\n",
              "      <td>Lux Black XL</td>\n",
              "      <td>26.0</td>\n",
              "      <td>0.44</td>\n",
              "      <td>1.0</td>\n",
              "      <td>42.2148</td>\n",
              "      <td>-71.033</td>\n",
              "      <td>34.38</td>\n",
              "      <td>29.63</td>\n",
              "      <td>Clear</td>\n",
              "      <td>Partly cloudy throughout the day.</td>\n",
              "      <td>0.0000</td>\n",
              "      <td>0.0</td>\n",
              "      <td>0.73</td>\n",
              "      <td>5.28</td>\n",
              "      <td>5.28</td>\n",
              "      <td>1543514400</td>\n",
              "      <td>10.000</td>\n",
              "      <td>45.03</td>\n",
              "      <td>1543510800</td>\n",
              "      <td>28.90</td>\n",
              "      <td>1543579200</td>\n",
              "      <td>38.53</td>\n",
              "      <td>1543510800</td>\n",
              "      <td>26.20</td>\n",
              "      <td>1543575600</td>\n",
              "      <td>clear-night</td>\n",
              "      <td>26.64</td>\n",
              "      <td>1013.73</td>\n",
              "      <td>310</td>\n",
              "      <td>0.00</td>\n",
              "      <td>0</td>\n",
              "      <td>10.000</td>\n",
              "      <td>291.1</td>\n",
              "      <td>1543492370</td>\n",
              "      <td>1543526114</td>\n",
              "      <td>0.75</td>\n",
              "      <td>0.0000</td>\n",
              "      <td>1543507200</td>\n",
              "      <td>34.67</td>\n",
              "      <td>1543550400</td>\n",
              "      <td>45.03</td>\n",
              "      <td>1543510800</td>\n",
              "      <td>30.30</td>\n",
              "      <td>1543550400</td>\n",
              "      <td>38.53</td>\n",
              "      <td>1543510800</td>\n",
              "    </tr>\n",
              "    <tr>\n",
              "      <th>4</th>\n",
              "      <td>e0126e1f-8ca9-4f2e-82b3-50505a09db9a</td>\n",
              "      <td>1.543463e+09</td>\n",
              "      <td>3</td>\n",
              "      <td>29</td>\n",
              "      <td>11</td>\n",
              "      <td>2018-11-29 03:49:20</td>\n",
              "      <td>America/New_York</td>\n",
              "      <td>Haymarket Square</td>\n",
              "      <td>North Station</td>\n",
              "      <td>Lyft</td>\n",
              "      <td>lyft_plus</td>\n",
              "      <td>Lyft XL</td>\n",
              "      <td>9.0</td>\n",
              "      <td>0.44</td>\n",
              "      <td>1.0</td>\n",
              "      <td>42.2148</td>\n",
              "      <td>-71.033</td>\n",
              "      <td>37.44</td>\n",
              "      <td>30.88</td>\n",
              "      <td>Partly Cloudy</td>\n",
              "      <td>Mostly cloudy throughout the day.</td>\n",
              "      <td>0.0000</td>\n",
              "      <td>0.0</td>\n",
              "      <td>0.70</td>\n",
              "      <td>9.14</td>\n",
              "      <td>9.14</td>\n",
              "      <td>1543446000</td>\n",
              "      <td>10.000</td>\n",
              "      <td>42.18</td>\n",
              "      <td>1543420800</td>\n",
              "      <td>36.71</td>\n",
              "      <td>1543478400</td>\n",
              "      <td>35.75</td>\n",
              "      <td>1543420800</td>\n",
              "      <td>30.29</td>\n",
              "      <td>1543460400</td>\n",
              "      <td>partly-cloudy-night</td>\n",
              "      <td>28.61</td>\n",
              "      <td>998.36</td>\n",
              "      <td>303</td>\n",
              "      <td>0.44</td>\n",
              "      <td>0</td>\n",
              "      <td>10.000</td>\n",
              "      <td>347.7</td>\n",
              "      <td>1543405904</td>\n",
              "      <td>1543439738</td>\n",
              "      <td>0.72</td>\n",
              "      <td>0.0001</td>\n",
              "      <td>1543420800</td>\n",
              "      <td>33.10</td>\n",
              "      <td>1543402800</td>\n",
              "      <td>42.18</td>\n",
              "      <td>1543420800</td>\n",
              "      <td>29.11</td>\n",
              "      <td>1543392000</td>\n",
              "      <td>35.75</td>\n",
              "      <td>1543420800</td>\n",
              "    </tr>\n",
              "  </tbody>\n",
              "</table>\n",
              "</div>"
            ],
            "text/plain": [
              "                                     id  ...  apparentTemperatureMaxTime\n",
              "0  424553bb-7174-41ea-aeb4-fe06d4f4b9d7  ...                  1544958000\n",
              "1  4bd23055-6827-41c6-b23b-3c491f24e74d  ...                  1543251600\n",
              "2  981a3613-77af-4620-a42a-0c0866077d1e  ...                  1543320000\n",
              "3  c2d88af2-d278-4bfd-a8d0-29ca77cc5512  ...                  1543510800\n",
              "4  e0126e1f-8ca9-4f2e-82b3-50505a09db9a  ...                  1543420800\n",
              "\n",
              "[5 rows x 57 columns]"
            ]
          },
          "metadata": {},
          "execution_count": 4
        }
      ]
    },
    {
      "cell_type": "markdown",
      "metadata": {
        "id": "900d4e50"
      },
      "source": [
        "#### Melihat 5 data terbawah "
      ],
      "id": "900d4e50"
    },
    {
      "cell_type": "code",
      "metadata": {
        "colab": {
          "base_uri": "https://localhost:8080/",
          "height": 479
        },
        "id": "eaf5aa90",
        "outputId": "a2aff744-2275-40fb-8646-96d96448aedf"
      },
      "source": [
        "df.tail()"
      ],
      "id": "eaf5aa90",
      "execution_count": 5,
      "outputs": [
        {
          "output_type": "execute_result",
          "data": {
            "text/html": [
              "<div>\n",
              "<style scoped>\n",
              "    .dataframe tbody tr th:only-of-type {\n",
              "        vertical-align: middle;\n",
              "    }\n",
              "\n",
              "    .dataframe tbody tr th {\n",
              "        vertical-align: top;\n",
              "    }\n",
              "\n",
              "    .dataframe thead th {\n",
              "        text-align: right;\n",
              "    }\n",
              "</style>\n",
              "<table border=\"1\" class=\"dataframe\">\n",
              "  <thead>\n",
              "    <tr style=\"text-align: right;\">\n",
              "      <th></th>\n",
              "      <th>id</th>\n",
              "      <th>timestamp</th>\n",
              "      <th>hour</th>\n",
              "      <th>day</th>\n",
              "      <th>month</th>\n",
              "      <th>datetime</th>\n",
              "      <th>timezone</th>\n",
              "      <th>source</th>\n",
              "      <th>destination</th>\n",
              "      <th>cab_type</th>\n",
              "      <th>product_id</th>\n",
              "      <th>name</th>\n",
              "      <th>price</th>\n",
              "      <th>distance</th>\n",
              "      <th>surge_multiplier</th>\n",
              "      <th>latitude</th>\n",
              "      <th>longitude</th>\n",
              "      <th>temperature</th>\n",
              "      <th>apparentTemperature</th>\n",
              "      <th>short_summary</th>\n",
              "      <th>long_summary</th>\n",
              "      <th>precipIntensity</th>\n",
              "      <th>precipProbability</th>\n",
              "      <th>humidity</th>\n",
              "      <th>windSpeed</th>\n",
              "      <th>windGust</th>\n",
              "      <th>windGustTime</th>\n",
              "      <th>visibility</th>\n",
              "      <th>temperatureHigh</th>\n",
              "      <th>temperatureHighTime</th>\n",
              "      <th>temperatureLow</th>\n",
              "      <th>temperatureLowTime</th>\n",
              "      <th>apparentTemperatureHigh</th>\n",
              "      <th>apparentTemperatureHighTime</th>\n",
              "      <th>apparentTemperatureLow</th>\n",
              "      <th>apparentTemperatureLowTime</th>\n",
              "      <th>icon</th>\n",
              "      <th>dewPoint</th>\n",
              "      <th>pressure</th>\n",
              "      <th>windBearing</th>\n",
              "      <th>cloudCover</th>\n",
              "      <th>uvIndex</th>\n",
              "      <th>visibility.1</th>\n",
              "      <th>ozone</th>\n",
              "      <th>sunriseTime</th>\n",
              "      <th>sunsetTime</th>\n",
              "      <th>moonPhase</th>\n",
              "      <th>precipIntensityMax</th>\n",
              "      <th>uvIndexTime</th>\n",
              "      <th>temperatureMin</th>\n",
              "      <th>temperatureMinTime</th>\n",
              "      <th>temperatureMax</th>\n",
              "      <th>temperatureMaxTime</th>\n",
              "      <th>apparentTemperatureMin</th>\n",
              "      <th>apparentTemperatureMinTime</th>\n",
              "      <th>apparentTemperatureMax</th>\n",
              "      <th>apparentTemperatureMaxTime</th>\n",
              "    </tr>\n",
              "  </thead>\n",
              "  <tbody>\n",
              "    <tr>\n",
              "      <th>693066</th>\n",
              "      <td>616d3611-1820-450a-9845-a9ff304a4842</td>\n",
              "      <td>1.543708e+09</td>\n",
              "      <td>23</td>\n",
              "      <td>1</td>\n",
              "      <td>12</td>\n",
              "      <td>2018-12-01 23:53:05</td>\n",
              "      <td>America/New_York</td>\n",
              "      <td>West End</td>\n",
              "      <td>North End</td>\n",
              "      <td>Uber</td>\n",
              "      <td>6f72dfc5-27f1-42e8-84db-ccc7a75f6969</td>\n",
              "      <td>UberXL</td>\n",
              "      <td>13.0</td>\n",
              "      <td>1.0</td>\n",
              "      <td>1.0</td>\n",
              "      <td>42.3519</td>\n",
              "      <td>-71.0643</td>\n",
              "      <td>37.05</td>\n",
              "      <td>37.05</td>\n",
              "      <td>Partly Cloudy</td>\n",
              "      <td>Light rain in the morning and overnight.</td>\n",
              "      <td>0.0</td>\n",
              "      <td>0.0</td>\n",
              "      <td>0.74</td>\n",
              "      <td>2.34</td>\n",
              "      <td>2.87</td>\n",
              "      <td>1543672800</td>\n",
              "      <td>9.785</td>\n",
              "      <td>44.76</td>\n",
              "      <td>1543690800</td>\n",
              "      <td>34.83</td>\n",
              "      <td>1543712400</td>\n",
              "      <td>44.09</td>\n",
              "      <td>1543690800</td>\n",
              "      <td>35.48</td>\n",
              "      <td>1543712400</td>\n",
              "      <td>partly-cloudy-night</td>\n",
              "      <td>29.65</td>\n",
              "      <td>1023.57</td>\n",
              "      <td>133</td>\n",
              "      <td>0.31</td>\n",
              "      <td>0</td>\n",
              "      <td>9.785</td>\n",
              "      <td>271.5</td>\n",
              "      <td>1543665331</td>\n",
              "      <td>1543698855</td>\n",
              "      <td>0.82</td>\n",
              "      <td>0.0</td>\n",
              "      <td>1543683600</td>\n",
              "      <td>31.42</td>\n",
              "      <td>1543658400</td>\n",
              "      <td>44.76</td>\n",
              "      <td>1543690800</td>\n",
              "      <td>27.77</td>\n",
              "      <td>1543658400</td>\n",
              "      <td>44.09</td>\n",
              "      <td>1543690800</td>\n",
              "    </tr>\n",
              "    <tr>\n",
              "      <th>693067</th>\n",
              "      <td>633a3fc3-1f86-4b9e-9d48-2b7132112341</td>\n",
              "      <td>1.543708e+09</td>\n",
              "      <td>23</td>\n",
              "      <td>1</td>\n",
              "      <td>12</td>\n",
              "      <td>2018-12-01 23:53:05</td>\n",
              "      <td>America/New_York</td>\n",
              "      <td>West End</td>\n",
              "      <td>North End</td>\n",
              "      <td>Uber</td>\n",
              "      <td>55c66225-fbe7-4fd5-9072-eab1ece5e23e</td>\n",
              "      <td>UberX</td>\n",
              "      <td>9.5</td>\n",
              "      <td>1.0</td>\n",
              "      <td>1.0</td>\n",
              "      <td>42.3519</td>\n",
              "      <td>-71.0643</td>\n",
              "      <td>37.05</td>\n",
              "      <td>37.05</td>\n",
              "      <td>Partly Cloudy</td>\n",
              "      <td>Light rain in the morning and overnight.</td>\n",
              "      <td>0.0</td>\n",
              "      <td>0.0</td>\n",
              "      <td>0.74</td>\n",
              "      <td>2.34</td>\n",
              "      <td>2.87</td>\n",
              "      <td>1543672800</td>\n",
              "      <td>9.785</td>\n",
              "      <td>44.76</td>\n",
              "      <td>1543690800</td>\n",
              "      <td>34.83</td>\n",
              "      <td>1543712400</td>\n",
              "      <td>44.09</td>\n",
              "      <td>1543690800</td>\n",
              "      <td>35.48</td>\n",
              "      <td>1543712400</td>\n",
              "      <td>partly-cloudy-night</td>\n",
              "      <td>29.65</td>\n",
              "      <td>1023.57</td>\n",
              "      <td>133</td>\n",
              "      <td>0.31</td>\n",
              "      <td>0</td>\n",
              "      <td>9.785</td>\n",
              "      <td>271.5</td>\n",
              "      <td>1543665331</td>\n",
              "      <td>1543698855</td>\n",
              "      <td>0.82</td>\n",
              "      <td>0.0</td>\n",
              "      <td>1543683600</td>\n",
              "      <td>31.42</td>\n",
              "      <td>1543658400</td>\n",
              "      <td>44.76</td>\n",
              "      <td>1543690800</td>\n",
              "      <td>27.77</td>\n",
              "      <td>1543658400</td>\n",
              "      <td>44.09</td>\n",
              "      <td>1543690800</td>\n",
              "    </tr>\n",
              "    <tr>\n",
              "      <th>693068</th>\n",
              "      <td>64d451d0-639f-47a4-9b7c-6fd92fbd264f</td>\n",
              "      <td>1.543708e+09</td>\n",
              "      <td>23</td>\n",
              "      <td>1</td>\n",
              "      <td>12</td>\n",
              "      <td>2018-12-01 23:53:05</td>\n",
              "      <td>America/New_York</td>\n",
              "      <td>West End</td>\n",
              "      <td>North End</td>\n",
              "      <td>Uber</td>\n",
              "      <td>8cf7e821-f0d3-49c6-8eba-e679c0ebcf6a</td>\n",
              "      <td>Taxi</td>\n",
              "      <td>NaN</td>\n",
              "      <td>1.0</td>\n",
              "      <td>1.0</td>\n",
              "      <td>42.3519</td>\n",
              "      <td>-71.0643</td>\n",
              "      <td>37.05</td>\n",
              "      <td>37.05</td>\n",
              "      <td>Partly Cloudy</td>\n",
              "      <td>Light rain in the morning and overnight.</td>\n",
              "      <td>0.0</td>\n",
              "      <td>0.0</td>\n",
              "      <td>0.74</td>\n",
              "      <td>2.34</td>\n",
              "      <td>2.87</td>\n",
              "      <td>1543672800</td>\n",
              "      <td>9.785</td>\n",
              "      <td>44.76</td>\n",
              "      <td>1543690800</td>\n",
              "      <td>34.83</td>\n",
              "      <td>1543712400</td>\n",
              "      <td>44.09</td>\n",
              "      <td>1543690800</td>\n",
              "      <td>35.48</td>\n",
              "      <td>1543712400</td>\n",
              "      <td>partly-cloudy-night</td>\n",
              "      <td>29.65</td>\n",
              "      <td>1023.57</td>\n",
              "      <td>133</td>\n",
              "      <td>0.31</td>\n",
              "      <td>0</td>\n",
              "      <td>9.785</td>\n",
              "      <td>271.5</td>\n",
              "      <td>1543665331</td>\n",
              "      <td>1543698855</td>\n",
              "      <td>0.82</td>\n",
              "      <td>0.0</td>\n",
              "      <td>1543683600</td>\n",
              "      <td>31.42</td>\n",
              "      <td>1543658400</td>\n",
              "      <td>44.76</td>\n",
              "      <td>1543690800</td>\n",
              "      <td>27.77</td>\n",
              "      <td>1543658400</td>\n",
              "      <td>44.09</td>\n",
              "      <td>1543690800</td>\n",
              "    </tr>\n",
              "    <tr>\n",
              "      <th>693069</th>\n",
              "      <td>727e5f07-a96b-4ad1-a2c7-9abc3ad55b4e</td>\n",
              "      <td>1.543708e+09</td>\n",
              "      <td>23</td>\n",
              "      <td>1</td>\n",
              "      <td>12</td>\n",
              "      <td>2018-12-01 23:53:05</td>\n",
              "      <td>America/New_York</td>\n",
              "      <td>West End</td>\n",
              "      <td>North End</td>\n",
              "      <td>Uber</td>\n",
              "      <td>6d318bcc-22a3-4af6-bddd-b409bfce1546</td>\n",
              "      <td>Black SUV</td>\n",
              "      <td>27.0</td>\n",
              "      <td>1.0</td>\n",
              "      <td>1.0</td>\n",
              "      <td>42.3519</td>\n",
              "      <td>-71.0643</td>\n",
              "      <td>37.05</td>\n",
              "      <td>37.05</td>\n",
              "      <td>Partly Cloudy</td>\n",
              "      <td>Light rain in the morning and overnight.</td>\n",
              "      <td>0.0</td>\n",
              "      <td>0.0</td>\n",
              "      <td>0.74</td>\n",
              "      <td>2.34</td>\n",
              "      <td>2.87</td>\n",
              "      <td>1543672800</td>\n",
              "      <td>9.785</td>\n",
              "      <td>44.76</td>\n",
              "      <td>1543690800</td>\n",
              "      <td>34.83</td>\n",
              "      <td>1543712400</td>\n",
              "      <td>44.09</td>\n",
              "      <td>1543690800</td>\n",
              "      <td>35.48</td>\n",
              "      <td>1543712400</td>\n",
              "      <td>partly-cloudy-night</td>\n",
              "      <td>29.65</td>\n",
              "      <td>1023.57</td>\n",
              "      <td>133</td>\n",
              "      <td>0.31</td>\n",
              "      <td>0</td>\n",
              "      <td>9.785</td>\n",
              "      <td>271.5</td>\n",
              "      <td>1543665331</td>\n",
              "      <td>1543698855</td>\n",
              "      <td>0.82</td>\n",
              "      <td>0.0</td>\n",
              "      <td>1543683600</td>\n",
              "      <td>31.42</td>\n",
              "      <td>1543658400</td>\n",
              "      <td>44.76</td>\n",
              "      <td>1543690800</td>\n",
              "      <td>27.77</td>\n",
              "      <td>1543658400</td>\n",
              "      <td>44.09</td>\n",
              "      <td>1543690800</td>\n",
              "    </tr>\n",
              "    <tr>\n",
              "      <th>693070</th>\n",
              "      <td>e7fdc087-fe86-40a5-a3c3-3b2a8badcbda</td>\n",
              "      <td>1.543708e+09</td>\n",
              "      <td>23</td>\n",
              "      <td>1</td>\n",
              "      <td>12</td>\n",
              "      <td>2018-12-01 23:53:05</td>\n",
              "      <td>America/New_York</td>\n",
              "      <td>West End</td>\n",
              "      <td>North End</td>\n",
              "      <td>Uber</td>\n",
              "      <td>997acbb5-e102-41e1-b155-9df7de0a73f2</td>\n",
              "      <td>UberPool</td>\n",
              "      <td>10.0</td>\n",
              "      <td>1.0</td>\n",
              "      <td>1.0</td>\n",
              "      <td>42.3519</td>\n",
              "      <td>-71.0643</td>\n",
              "      <td>37.05</td>\n",
              "      <td>37.05</td>\n",
              "      <td>Partly Cloudy</td>\n",
              "      <td>Light rain in the morning and overnight.</td>\n",
              "      <td>0.0</td>\n",
              "      <td>0.0</td>\n",
              "      <td>0.74</td>\n",
              "      <td>2.34</td>\n",
              "      <td>2.87</td>\n",
              "      <td>1543672800</td>\n",
              "      <td>9.785</td>\n",
              "      <td>44.76</td>\n",
              "      <td>1543690800</td>\n",
              "      <td>34.83</td>\n",
              "      <td>1543712400</td>\n",
              "      <td>44.09</td>\n",
              "      <td>1543690800</td>\n",
              "      <td>35.48</td>\n",
              "      <td>1543712400</td>\n",
              "      <td>partly-cloudy-night</td>\n",
              "      <td>29.65</td>\n",
              "      <td>1023.57</td>\n",
              "      <td>133</td>\n",
              "      <td>0.31</td>\n",
              "      <td>0</td>\n",
              "      <td>9.785</td>\n",
              "      <td>271.5</td>\n",
              "      <td>1543665331</td>\n",
              "      <td>1543698855</td>\n",
              "      <td>0.82</td>\n",
              "      <td>0.0</td>\n",
              "      <td>1543683600</td>\n",
              "      <td>31.42</td>\n",
              "      <td>1543658400</td>\n",
              "      <td>44.76</td>\n",
              "      <td>1543690800</td>\n",
              "      <td>27.77</td>\n",
              "      <td>1543658400</td>\n",
              "      <td>44.09</td>\n",
              "      <td>1543690800</td>\n",
              "    </tr>\n",
              "  </tbody>\n",
              "</table>\n",
              "</div>"
            ],
            "text/plain": [
              "                                          id  ...  apparentTemperatureMaxTime\n",
              "693066  616d3611-1820-450a-9845-a9ff304a4842  ...                  1543690800\n",
              "693067  633a3fc3-1f86-4b9e-9d48-2b7132112341  ...                  1543690800\n",
              "693068  64d451d0-639f-47a4-9b7c-6fd92fbd264f  ...                  1543690800\n",
              "693069  727e5f07-a96b-4ad1-a2c7-9abc3ad55b4e  ...                  1543690800\n",
              "693070  e7fdc087-fe86-40a5-a3c3-3b2a8badcbda  ...                  1543690800\n",
              "\n",
              "[5 rows x 57 columns]"
            ]
          },
          "metadata": {},
          "execution_count": 5
        }
      ]
    },
    {
      "cell_type": "markdown",
      "metadata": {
        "id": "37fe934a"
      },
      "source": [
        "#### Melihat nilai statistika dari dataset"
      ],
      "id": "37fe934a"
    },
    {
      "cell_type": "code",
      "metadata": {
        "colab": {
          "base_uri": "https://localhost:8080/",
          "height": 317
        },
        "id": "4fafa6cf",
        "outputId": "25d9c522-6e9e-4172-92d0-c7ce6debba81"
      },
      "source": [
        "df.describe()"
      ],
      "id": "4fafa6cf",
      "execution_count": 6,
      "outputs": [
        {
          "output_type": "execute_result",
          "data": {
            "text/html": [
              "<div>\n",
              "<style scoped>\n",
              "    .dataframe tbody tr th:only-of-type {\n",
              "        vertical-align: middle;\n",
              "    }\n",
              "\n",
              "    .dataframe tbody tr th {\n",
              "        vertical-align: top;\n",
              "    }\n",
              "\n",
              "    .dataframe thead th {\n",
              "        text-align: right;\n",
              "    }\n",
              "</style>\n",
              "<table border=\"1\" class=\"dataframe\">\n",
              "  <thead>\n",
              "    <tr style=\"text-align: right;\">\n",
              "      <th></th>\n",
              "      <th>timestamp</th>\n",
              "      <th>hour</th>\n",
              "      <th>day</th>\n",
              "      <th>month</th>\n",
              "      <th>price</th>\n",
              "      <th>distance</th>\n",
              "      <th>surge_multiplier</th>\n",
              "      <th>latitude</th>\n",
              "      <th>longitude</th>\n",
              "      <th>temperature</th>\n",
              "      <th>apparentTemperature</th>\n",
              "      <th>precipIntensity</th>\n",
              "      <th>precipProbability</th>\n",
              "      <th>humidity</th>\n",
              "      <th>windSpeed</th>\n",
              "      <th>windGust</th>\n",
              "      <th>windGustTime</th>\n",
              "      <th>visibility</th>\n",
              "      <th>temperatureHigh</th>\n",
              "      <th>temperatureHighTime</th>\n",
              "      <th>temperatureLow</th>\n",
              "      <th>temperatureLowTime</th>\n",
              "      <th>apparentTemperatureHigh</th>\n",
              "      <th>apparentTemperatureHighTime</th>\n",
              "      <th>apparentTemperatureLow</th>\n",
              "      <th>apparentTemperatureLowTime</th>\n",
              "      <th>dewPoint</th>\n",
              "      <th>pressure</th>\n",
              "      <th>windBearing</th>\n",
              "      <th>cloudCover</th>\n",
              "      <th>uvIndex</th>\n",
              "      <th>visibility.1</th>\n",
              "      <th>ozone</th>\n",
              "      <th>sunriseTime</th>\n",
              "      <th>sunsetTime</th>\n",
              "      <th>moonPhase</th>\n",
              "      <th>precipIntensityMax</th>\n",
              "      <th>uvIndexTime</th>\n",
              "      <th>temperatureMin</th>\n",
              "      <th>temperatureMinTime</th>\n",
              "      <th>temperatureMax</th>\n",
              "      <th>temperatureMaxTime</th>\n",
              "      <th>apparentTemperatureMin</th>\n",
              "      <th>apparentTemperatureMinTime</th>\n",
              "      <th>apparentTemperatureMax</th>\n",
              "      <th>apparentTemperatureMaxTime</th>\n",
              "    </tr>\n",
              "  </thead>\n",
              "  <tbody>\n",
              "    <tr>\n",
              "      <th>count</th>\n",
              "      <td>6.930710e+05</td>\n",
              "      <td>693071.000000</td>\n",
              "      <td>693071.000000</td>\n",
              "      <td>693071.000000</td>\n",
              "      <td>637976.000000</td>\n",
              "      <td>693071.000000</td>\n",
              "      <td>693071.000000</td>\n",
              "      <td>693071.000000</td>\n",
              "      <td>693071.000000</td>\n",
              "      <td>693071.000000</td>\n",
              "      <td>693071.000000</td>\n",
              "      <td>693071.000000</td>\n",
              "      <td>693071.000000</td>\n",
              "      <td>693071.000000</td>\n",
              "      <td>693071.000000</td>\n",
              "      <td>693071.000000</td>\n",
              "      <td>6.930710e+05</td>\n",
              "      <td>693071.000000</td>\n",
              "      <td>693071.000000</td>\n",
              "      <td>6.930710e+05</td>\n",
              "      <td>693071.000000</td>\n",
              "      <td>6.930710e+05</td>\n",
              "      <td>693071.000000</td>\n",
              "      <td>6.930710e+05</td>\n",
              "      <td>693071.000000</td>\n",
              "      <td>6.930710e+05</td>\n",
              "      <td>693071.000000</td>\n",
              "      <td>693071.000000</td>\n",
              "      <td>693071.000000</td>\n",
              "      <td>693071.000000</td>\n",
              "      <td>693071.000000</td>\n",
              "      <td>693071.000000</td>\n",
              "      <td>693071.000000</td>\n",
              "      <td>6.930710e+05</td>\n",
              "      <td>6.930710e+05</td>\n",
              "      <td>693071.000000</td>\n",
              "      <td>693071.000000</td>\n",
              "      <td>6.930710e+05</td>\n",
              "      <td>693071.000000</td>\n",
              "      <td>6.930710e+05</td>\n",
              "      <td>693071.000000</td>\n",
              "      <td>6.930710e+05</td>\n",
              "      <td>693071.000000</td>\n",
              "      <td>6.930710e+05</td>\n",
              "      <td>693071.000000</td>\n",
              "      <td>6.930710e+05</td>\n",
              "    </tr>\n",
              "    <tr>\n",
              "      <th>mean</th>\n",
              "      <td>1.544046e+09</td>\n",
              "      <td>11.619137</td>\n",
              "      <td>17.794365</td>\n",
              "      <td>11.586684</td>\n",
              "      <td>16.545125</td>\n",
              "      <td>2.189430</td>\n",
              "      <td>1.013870</td>\n",
              "      <td>42.338172</td>\n",
              "      <td>-71.066151</td>\n",
              "      <td>39.584388</td>\n",
              "      <td>35.881222</td>\n",
              "      <td>0.008922</td>\n",
              "      <td>0.146076</td>\n",
              "      <td>0.741119</td>\n",
              "      <td>6.186253</td>\n",
              "      <td>8.469860</td>\n",
              "      <td>1.544049e+09</td>\n",
              "      <td>8.467970</td>\n",
              "      <td>45.040982</td>\n",
              "      <td>1.544050e+09</td>\n",
              "      <td>34.150736</td>\n",
              "      <td>1.544102e+09</td>\n",
              "      <td>41.614054</td>\n",
              "      <td>1.544050e+09</td>\n",
              "      <td>30.139824</td>\n",
              "      <td>1.544099e+09</td>\n",
              "      <td>31.656256</td>\n",
              "      <td>1010.094766</td>\n",
              "      <td>220.055853</td>\n",
              "      <td>0.686502</td>\n",
              "      <td>0.248908</td>\n",
              "      <td>8.467970</td>\n",
              "      <td>313.513635</td>\n",
              "      <td>1.544027e+09</td>\n",
              "      <td>1.544060e+09</td>\n",
              "      <td>0.579066</td>\n",
              "      <td>0.037374</td>\n",
              "      <td>1.544044e+09</td>\n",
              "      <td>33.457774</td>\n",
              "      <td>1.544042e+09</td>\n",
              "      <td>45.261313</td>\n",
              "      <td>1.544047e+09</td>\n",
              "      <td>29.731002</td>\n",
              "      <td>1.544048e+09</td>\n",
              "      <td>41.997343</td>\n",
              "      <td>1.544048e+09</td>\n",
              "    </tr>\n",
              "    <tr>\n",
              "      <th>std</th>\n",
              "      <td>6.891925e+05</td>\n",
              "      <td>6.948114</td>\n",
              "      <td>9.982286</td>\n",
              "      <td>0.492429</td>\n",
              "      <td>9.324359</td>\n",
              "      <td>1.138937</td>\n",
              "      <td>0.091641</td>\n",
              "      <td>0.047840</td>\n",
              "      <td>0.020302</td>\n",
              "      <td>6.726084</td>\n",
              "      <td>7.918707</td>\n",
              "      <td>0.026901</td>\n",
              "      <td>0.328938</td>\n",
              "      <td>0.138595</td>\n",
              "      <td>3.148223</td>\n",
              "      <td>5.289179</td>\n",
              "      <td>6.928244e+05</td>\n",
              "      <td>2.602888</td>\n",
              "      <td>5.996541</td>\n",
              "      <td>6.937921e+05</td>\n",
              "      <td>6.383163</td>\n",
              "      <td>6.922923e+05</td>\n",
              "      <td>7.666138</td>\n",
              "      <td>6.941699e+05</td>\n",
              "      <td>8.057468</td>\n",
              "      <td>6.927378e+05</td>\n",
              "      <td>9.142355</td>\n",
              "      <td>13.472899</td>\n",
              "      <td>99.102736</td>\n",
              "      <td>0.358534</td>\n",
              "      <td>0.474097</td>\n",
              "      <td>2.602888</td>\n",
              "      <td>27.953061</td>\n",
              "      <td>6.911393e+05</td>\n",
              "      <td>6.906634e+05</td>\n",
              "      <td>0.244705</td>\n",
              "      <td>0.055214</td>\n",
              "      <td>6.912028e+05</td>\n",
              "      <td>6.467224</td>\n",
              "      <td>6.901954e+05</td>\n",
              "      <td>5.645046</td>\n",
              "      <td>6.901353e+05</td>\n",
              "      <td>7.110494</td>\n",
              "      <td>6.871862e+05</td>\n",
              "      <td>6.936841</td>\n",
              "      <td>6.910777e+05</td>\n",
              "    </tr>\n",
              "    <tr>\n",
              "      <th>min</th>\n",
              "      <td>1.543204e+09</td>\n",
              "      <td>0.000000</td>\n",
              "      <td>1.000000</td>\n",
              "      <td>11.000000</td>\n",
              "      <td>2.500000</td>\n",
              "      <td>0.020000</td>\n",
              "      <td>1.000000</td>\n",
              "      <td>42.214800</td>\n",
              "      <td>-71.105400</td>\n",
              "      <td>18.910000</td>\n",
              "      <td>12.130000</td>\n",
              "      <td>0.000000</td>\n",
              "      <td>0.000000</td>\n",
              "      <td>0.380000</td>\n",
              "      <td>0.450000</td>\n",
              "      <td>0.800000</td>\n",
              "      <td>1.543151e+09</td>\n",
              "      <td>0.717000</td>\n",
              "      <td>32.680000</td>\n",
              "      <td>1.543154e+09</td>\n",
              "      <td>17.850000</td>\n",
              "      <td>1.543234e+09</td>\n",
              "      <td>22.620000</td>\n",
              "      <td>1.543187e+09</td>\n",
              "      <td>11.810000</td>\n",
              "      <td>1.543234e+09</td>\n",
              "      <td>4.390000</td>\n",
              "      <td>988.090000</td>\n",
              "      <td>2.000000</td>\n",
              "      <td>0.000000</td>\n",
              "      <td>0.000000</td>\n",
              "      <td>0.717000</td>\n",
              "      <td>269.400000</td>\n",
              "      <td>1.543147e+09</td>\n",
              "      <td>1.543181e+09</td>\n",
              "      <td>0.090000</td>\n",
              "      <td>0.000000</td>\n",
              "      <td>1.543162e+09</td>\n",
              "      <td>15.630000</td>\n",
              "      <td>1.543122e+09</td>\n",
              "      <td>33.510000</td>\n",
              "      <td>1.543154e+09</td>\n",
              "      <td>11.810000</td>\n",
              "      <td>1.543136e+09</td>\n",
              "      <td>28.950000</td>\n",
              "      <td>1.543187e+09</td>\n",
              "    </tr>\n",
              "    <tr>\n",
              "      <th>25%</th>\n",
              "      <td>1.543444e+09</td>\n",
              "      <td>6.000000</td>\n",
              "      <td>13.000000</td>\n",
              "      <td>11.000000</td>\n",
              "      <td>9.000000</td>\n",
              "      <td>1.280000</td>\n",
              "      <td>1.000000</td>\n",
              "      <td>42.350300</td>\n",
              "      <td>-71.081000</td>\n",
              "      <td>36.450000</td>\n",
              "      <td>31.910000</td>\n",
              "      <td>0.000000</td>\n",
              "      <td>0.000000</td>\n",
              "      <td>0.640000</td>\n",
              "      <td>3.410000</td>\n",
              "      <td>4.060000</td>\n",
              "      <td>1.543432e+09</td>\n",
              "      <td>8.432000</td>\n",
              "      <td>42.570000</td>\n",
              "      <td>1.543439e+09</td>\n",
              "      <td>30.170000</td>\n",
              "      <td>1.543489e+09</td>\n",
              "      <td>36.570000</td>\n",
              "      <td>1.543439e+09</td>\n",
              "      <td>27.700000</td>\n",
              "      <td>1.543478e+09</td>\n",
              "      <td>27.490000</td>\n",
              "      <td>999.820000</td>\n",
              "      <td>124.000000</td>\n",
              "      <td>0.370000</td>\n",
              "      <td>0.000000</td>\n",
              "      <td>8.432000</td>\n",
              "      <td>290.900000</td>\n",
              "      <td>1.543406e+09</td>\n",
              "      <td>1.543440e+09</td>\n",
              "      <td>0.300000</td>\n",
              "      <td>0.000000</td>\n",
              "      <td>1.543421e+09</td>\n",
              "      <td>30.170000</td>\n",
              "      <td>1.543399e+09</td>\n",
              "      <td>42.570000</td>\n",
              "      <td>1.543439e+09</td>\n",
              "      <td>27.760000</td>\n",
              "      <td>1.543399e+09</td>\n",
              "      <td>36.570000</td>\n",
              "      <td>1.543439e+09</td>\n",
              "    </tr>\n",
              "    <tr>\n",
              "      <th>50%</th>\n",
              "      <td>1.543737e+09</td>\n",
              "      <td>12.000000</td>\n",
              "      <td>17.000000</td>\n",
              "      <td>12.000000</td>\n",
              "      <td>13.500000</td>\n",
              "      <td>2.160000</td>\n",
              "      <td>1.000000</td>\n",
              "      <td>42.351900</td>\n",
              "      <td>-71.063100</td>\n",
              "      <td>40.490000</td>\n",
              "      <td>35.900000</td>\n",
              "      <td>0.000000</td>\n",
              "      <td>0.000000</td>\n",
              "      <td>0.710000</td>\n",
              "      <td>5.910000</td>\n",
              "      <td>7.550000</td>\n",
              "      <td>1.543756e+09</td>\n",
              "      <td>9.880000</td>\n",
              "      <td>44.680000</td>\n",
              "      <td>1.543788e+09</td>\n",
              "      <td>34.180000</td>\n",
              "      <td>1.543817e+09</td>\n",
              "      <td>40.950000</td>\n",
              "      <td>1.543788e+09</td>\n",
              "      <td>30.030000</td>\n",
              "      <td>1.543817e+09</td>\n",
              "      <td>30.690000</td>\n",
              "      <td>1009.250000</td>\n",
              "      <td>258.000000</td>\n",
              "      <td>0.820000</td>\n",
              "      <td>0.000000</td>\n",
              "      <td>9.880000</td>\n",
              "      <td>307.400000</td>\n",
              "      <td>1.543752e+09</td>\n",
              "      <td>1.543785e+09</td>\n",
              "      <td>0.680000</td>\n",
              "      <td>0.000400</td>\n",
              "      <td>1.543770e+09</td>\n",
              "      <td>34.240000</td>\n",
              "      <td>1.543727e+09</td>\n",
              "      <td>44.680000</td>\n",
              "      <td>1.543788e+09</td>\n",
              "      <td>30.130000</td>\n",
              "      <td>1.543745e+09</td>\n",
              "      <td>40.950000</td>\n",
              "      <td>1.543788e+09</td>\n",
              "    </tr>\n",
              "    <tr>\n",
              "      <th>75%</th>\n",
              "      <td>1.544828e+09</td>\n",
              "      <td>18.000000</td>\n",
              "      <td>28.000000</td>\n",
              "      <td>12.000000</td>\n",
              "      <td>22.500000</td>\n",
              "      <td>2.920000</td>\n",
              "      <td>1.000000</td>\n",
              "      <td>42.364700</td>\n",
              "      <td>-71.054200</td>\n",
              "      <td>43.580000</td>\n",
              "      <td>40.080000</td>\n",
              "      <td>0.000000</td>\n",
              "      <td>0.000000</td>\n",
              "      <td>0.880000</td>\n",
              "      <td>8.410000</td>\n",
              "      <td>11.740000</td>\n",
              "      <td>1.544846e+09</td>\n",
              "      <td>9.996000</td>\n",
              "      <td>46.910000</td>\n",
              "      <td>1.544814e+09</td>\n",
              "      <td>38.730000</td>\n",
              "      <td>1.544836e+09</td>\n",
              "      <td>44.120000</td>\n",
              "      <td>1.544818e+09</td>\n",
              "      <td>35.320000</td>\n",
              "      <td>1.544836e+09</td>\n",
              "      <td>38.120000</td>\n",
              "      <td>1021.860000</td>\n",
              "      <td>303.000000</td>\n",
              "      <td>1.000000</td>\n",
              "      <td>0.000000</td>\n",
              "      <td>9.996000</td>\n",
              "      <td>331.800000</td>\n",
              "      <td>1.544789e+09</td>\n",
              "      <td>1.544822e+09</td>\n",
              "      <td>0.790000</td>\n",
              "      <td>0.091600</td>\n",
              "      <td>1.544807e+09</td>\n",
              "      <td>38.880000</td>\n",
              "      <td>1.544789e+09</td>\n",
              "      <td>46.910000</td>\n",
              "      <td>1.544814e+09</td>\n",
              "      <td>35.710000</td>\n",
              "      <td>1.544789e+09</td>\n",
              "      <td>44.120000</td>\n",
              "      <td>1.544818e+09</td>\n",
              "    </tr>\n",
              "    <tr>\n",
              "      <th>max</th>\n",
              "      <td>1.545161e+09</td>\n",
              "      <td>23.000000</td>\n",
              "      <td>30.000000</td>\n",
              "      <td>12.000000</td>\n",
              "      <td>97.500000</td>\n",
              "      <td>7.860000</td>\n",
              "      <td>3.000000</td>\n",
              "      <td>42.366100</td>\n",
              "      <td>-71.033000</td>\n",
              "      <td>57.220000</td>\n",
              "      <td>57.220000</td>\n",
              "      <td>0.144700</td>\n",
              "      <td>1.000000</td>\n",
              "      <td>0.960000</td>\n",
              "      <td>15.000000</td>\n",
              "      <td>27.250000</td>\n",
              "      <td>1.545127e+09</td>\n",
              "      <td>10.000000</td>\n",
              "      <td>57.870000</td>\n",
              "      <td>1.545160e+09</td>\n",
              "      <td>46.600000</td>\n",
              "      <td>1.545221e+09</td>\n",
              "      <td>57.200000</td>\n",
              "      <td>1.545160e+09</td>\n",
              "      <td>47.250000</td>\n",
              "      <td>1.545199e+09</td>\n",
              "      <td>50.670000</td>\n",
              "      <td>1035.550000</td>\n",
              "      <td>356.000000</td>\n",
              "      <td>1.000000</td>\n",
              "      <td>2.000000</td>\n",
              "      <td>10.000000</td>\n",
              "      <td>378.900000</td>\n",
              "      <td>1.545135e+09</td>\n",
              "      <td>1.545168e+09</td>\n",
              "      <td>0.930000</td>\n",
              "      <td>0.145900</td>\n",
              "      <td>1.545152e+09</td>\n",
              "      <td>43.100000</td>\n",
              "      <td>1.545192e+09</td>\n",
              "      <td>57.870000</td>\n",
              "      <td>1.545109e+09</td>\n",
              "      <td>40.050000</td>\n",
              "      <td>1.545134e+09</td>\n",
              "      <td>57.200000</td>\n",
              "      <td>1.545109e+09</td>\n",
              "    </tr>\n",
              "  </tbody>\n",
              "</table>\n",
              "</div>"
            ],
            "text/plain": [
              "          timestamp  ...  apparentTemperatureMaxTime\n",
              "count  6.930710e+05  ...                6.930710e+05\n",
              "mean   1.544046e+09  ...                1.544048e+09\n",
              "std    6.891925e+05  ...                6.910777e+05\n",
              "min    1.543204e+09  ...                1.543187e+09\n",
              "25%    1.543444e+09  ...                1.543439e+09\n",
              "50%    1.543737e+09  ...                1.543788e+09\n",
              "75%    1.544828e+09  ...                1.544818e+09\n",
              "max    1.545161e+09  ...                1.545109e+09\n",
              "\n",
              "[8 rows x 46 columns]"
            ]
          },
          "metadata": {},
          "execution_count": 6
        }
      ]
    },
    {
      "cell_type": "markdown",
      "metadata": {
        "id": "3bc13e50"
      },
      "source": [
        "#### Melihat Informasi mengenai dataset"
      ],
      "id": "3bc13e50"
    },
    {
      "cell_type": "code",
      "metadata": {
        "colab": {
          "base_uri": "https://localhost:8080/"
        },
        "id": "1aef3f6c",
        "outputId": "782ef73a-833c-4b0f-afe3-bccb4eb37950"
      },
      "source": [
        "df.info()"
      ],
      "id": "1aef3f6c",
      "execution_count": 7,
      "outputs": [
        {
          "output_type": "stream",
          "name": "stdout",
          "text": [
            "<class 'pandas.core.frame.DataFrame'>\n",
            "RangeIndex: 693071 entries, 0 to 693070\n",
            "Data columns (total 57 columns):\n",
            " #   Column                       Non-Null Count   Dtype  \n",
            "---  ------                       --------------   -----  \n",
            " 0   id                           693071 non-null  object \n",
            " 1   timestamp                    693071 non-null  float64\n",
            " 2   hour                         693071 non-null  int64  \n",
            " 3   day                          693071 non-null  int64  \n",
            " 4   month                        693071 non-null  int64  \n",
            " 5   datetime                     693071 non-null  object \n",
            " 6   timezone                     693071 non-null  object \n",
            " 7   source                       693071 non-null  object \n",
            " 8   destination                  693071 non-null  object \n",
            " 9   cab_type                     693071 non-null  object \n",
            " 10  product_id                   693071 non-null  object \n",
            " 11  name                         693071 non-null  object \n",
            " 12  price                        637976 non-null  float64\n",
            " 13  distance                     693071 non-null  float64\n",
            " 14  surge_multiplier             693071 non-null  float64\n",
            " 15  latitude                     693071 non-null  float64\n",
            " 16  longitude                    693071 non-null  float64\n",
            " 17  temperature                  693071 non-null  float64\n",
            " 18  apparentTemperature          693071 non-null  float64\n",
            " 19  short_summary                693071 non-null  object \n",
            " 20  long_summary                 693071 non-null  object \n",
            " 21  precipIntensity              693071 non-null  float64\n",
            " 22  precipProbability            693071 non-null  float64\n",
            " 23  humidity                     693071 non-null  float64\n",
            " 24  windSpeed                    693071 non-null  float64\n",
            " 25  windGust                     693071 non-null  float64\n",
            " 26  windGustTime                 693071 non-null  int64  \n",
            " 27  visibility                   693071 non-null  float64\n",
            " 28  temperatureHigh              693071 non-null  float64\n",
            " 29  temperatureHighTime          693071 non-null  int64  \n",
            " 30  temperatureLow               693071 non-null  float64\n",
            " 31  temperatureLowTime           693071 non-null  int64  \n",
            " 32  apparentTemperatureHigh      693071 non-null  float64\n",
            " 33  apparentTemperatureHighTime  693071 non-null  int64  \n",
            " 34  apparentTemperatureLow       693071 non-null  float64\n",
            " 35  apparentTemperatureLowTime   693071 non-null  int64  \n",
            " 36  icon                         693071 non-null  object \n",
            " 37  dewPoint                     693071 non-null  float64\n",
            " 38  pressure                     693071 non-null  float64\n",
            " 39  windBearing                  693071 non-null  int64  \n",
            " 40  cloudCover                   693071 non-null  float64\n",
            " 41  uvIndex                      693071 non-null  int64  \n",
            " 42  visibility.1                 693071 non-null  float64\n",
            " 43  ozone                        693071 non-null  float64\n",
            " 44  sunriseTime                  693071 non-null  int64  \n",
            " 45  sunsetTime                   693071 non-null  int64  \n",
            " 46  moonPhase                    693071 non-null  float64\n",
            " 47  precipIntensityMax           693071 non-null  float64\n",
            " 48  uvIndexTime                  693071 non-null  int64  \n",
            " 49  temperatureMin               693071 non-null  float64\n",
            " 50  temperatureMinTime           693071 non-null  int64  \n",
            " 51  temperatureMax               693071 non-null  float64\n",
            " 52  temperatureMaxTime           693071 non-null  int64  \n",
            " 53  apparentTemperatureMin       693071 non-null  float64\n",
            " 54  apparentTemperatureMinTime   693071 non-null  int64  \n",
            " 55  apparentTemperatureMax       693071 non-null  float64\n",
            " 56  apparentTemperatureMaxTime   693071 non-null  int64  \n",
            "dtypes: float64(29), int64(17), object(11)\n",
            "memory usage: 301.4+ MB\n"
          ]
        }
      ]
    },
    {
      "cell_type": "markdown",
      "metadata": {
        "id": "9c7326ae"
      },
      "source": [
        "#### Melihat shape dari dataset "
      ],
      "id": "9c7326ae"
    },
    {
      "cell_type": "code",
      "metadata": {
        "colab": {
          "base_uri": "https://localhost:8080/"
        },
        "id": "809dd099",
        "outputId": "c8df84d7-0aa9-4cea-f55f-a7f90ef5c57f"
      },
      "source": [
        "df.shape"
      ],
      "id": "809dd099",
      "execution_count": 8,
      "outputs": [
        {
          "output_type": "execute_result",
          "data": {
            "text/plain": [
              "(693071, 57)"
            ]
          },
          "metadata": {},
          "execution_count": 8
        }
      ]
    },
    {
      "cell_type": "markdown",
      "metadata": {
        "id": "UkaHzic66xSA"
      },
      "source": [
        "dataset terdiri atas 57 columns dan 693071 rows"
      ],
      "id": "UkaHzic66xSA"
    },
    {
      "cell_type": "markdown",
      "metadata": {
        "id": "hvvVqgRn6s2C"
      },
      "source": [
        "# 4. Data Cleaning"
      ],
      "id": "hvvVqgRn6s2C"
    },
    {
      "cell_type": "markdown",
      "metadata": {
        "id": "IQ6dt_sw66FQ"
      },
      "source": [
        ""
      ],
      "id": "IQ6dt_sw66FQ"
    },
    {
      "cell_type": "code",
      "metadata": {
        "colab": {
          "base_uri": "https://localhost:8080/",
          "height": 204
        },
        "id": "_v-7d5Iu66Yq",
        "outputId": "93a52e13-f7a4-42a1-948a-420e346c3240"
      },
      "source": [
        "cols_to_use = ['hour', 'source', 'destination', 'cab_type', 'name', 'distance', 'price']\n",
        "\n",
        "dataset = df.copy()\n",
        "dataset = df[cols_to_use]\n",
        "dataset.head()"
      ],
      "id": "_v-7d5Iu66Yq",
      "execution_count": 9,
      "outputs": [
        {
          "output_type": "execute_result",
          "data": {
            "text/html": [
              "<div>\n",
              "<style scoped>\n",
              "    .dataframe tbody tr th:only-of-type {\n",
              "        vertical-align: middle;\n",
              "    }\n",
              "\n",
              "    .dataframe tbody tr th {\n",
              "        vertical-align: top;\n",
              "    }\n",
              "\n",
              "    .dataframe thead th {\n",
              "        text-align: right;\n",
              "    }\n",
              "</style>\n",
              "<table border=\"1\" class=\"dataframe\">\n",
              "  <thead>\n",
              "    <tr style=\"text-align: right;\">\n",
              "      <th></th>\n",
              "      <th>hour</th>\n",
              "      <th>source</th>\n",
              "      <th>destination</th>\n",
              "      <th>cab_type</th>\n",
              "      <th>name</th>\n",
              "      <th>distance</th>\n",
              "      <th>price</th>\n",
              "    </tr>\n",
              "  </thead>\n",
              "  <tbody>\n",
              "    <tr>\n",
              "      <th>0</th>\n",
              "      <td>9</td>\n",
              "      <td>Haymarket Square</td>\n",
              "      <td>North Station</td>\n",
              "      <td>Lyft</td>\n",
              "      <td>Shared</td>\n",
              "      <td>0.44</td>\n",
              "      <td>5.0</td>\n",
              "    </tr>\n",
              "    <tr>\n",
              "      <th>1</th>\n",
              "      <td>2</td>\n",
              "      <td>Haymarket Square</td>\n",
              "      <td>North Station</td>\n",
              "      <td>Lyft</td>\n",
              "      <td>Lux</td>\n",
              "      <td>0.44</td>\n",
              "      <td>11.0</td>\n",
              "    </tr>\n",
              "    <tr>\n",
              "      <th>2</th>\n",
              "      <td>1</td>\n",
              "      <td>Haymarket Square</td>\n",
              "      <td>North Station</td>\n",
              "      <td>Lyft</td>\n",
              "      <td>Lyft</td>\n",
              "      <td>0.44</td>\n",
              "      <td>7.0</td>\n",
              "    </tr>\n",
              "    <tr>\n",
              "      <th>3</th>\n",
              "      <td>4</td>\n",
              "      <td>Haymarket Square</td>\n",
              "      <td>North Station</td>\n",
              "      <td>Lyft</td>\n",
              "      <td>Lux Black XL</td>\n",
              "      <td>0.44</td>\n",
              "      <td>26.0</td>\n",
              "    </tr>\n",
              "    <tr>\n",
              "      <th>4</th>\n",
              "      <td>3</td>\n",
              "      <td>Haymarket Square</td>\n",
              "      <td>North Station</td>\n",
              "      <td>Lyft</td>\n",
              "      <td>Lyft XL</td>\n",
              "      <td>0.44</td>\n",
              "      <td>9.0</td>\n",
              "    </tr>\n",
              "  </tbody>\n",
              "</table>\n",
              "</div>"
            ],
            "text/plain": [
              "   hour            source    destination  ...          name distance  price\n",
              "0     9  Haymarket Square  North Station  ...        Shared     0.44    5.0\n",
              "1     2  Haymarket Square  North Station  ...           Lux     0.44   11.0\n",
              "2     1  Haymarket Square  North Station  ...          Lyft     0.44    7.0\n",
              "3     4  Haymarket Square  North Station  ...  Lux Black XL     0.44   26.0\n",
              "4     3  Haymarket Square  North Station  ...       Lyft XL     0.44    9.0\n",
              "\n",
              "[5 rows x 7 columns]"
            ]
          },
          "metadata": {},
          "execution_count": 9
        }
      ]
    },
    {
      "cell_type": "markdown",
      "metadata": {
        "id": "a6798ed7"
      },
      "source": [
        "# 5. Explorasi Data"
      ],
      "id": "a6798ed7"
    },
    {
      "cell_type": "code",
      "metadata": {
        "colab": {
          "base_uri": "https://localhost:8080/",
          "height": 311
        },
        "id": "MfSaxBSjkWNY",
        "outputId": "b902ebcd-ec9f-44e8-fcac-3720fa067d7a"
      },
      "source": [
        "sns.heatmap(dataset.isnull(), yticklabels = False, cbar = False, cmap=\"Blues\");"
      ],
      "id": "MfSaxBSjkWNY",
      "execution_count": 10,
      "outputs": [
        {
          "output_type": "display_data",
          "data": {
            "image/png": "[encoded data removed]",
            "text/plain": [
              "<Figure size 432x288 with 1 Axes>"
            ]
          },
          "metadata": {
            "needs_background": "light"
          }
        }
      ]
    },
    {
      "cell_type": "markdown",
      "metadata": {
        "id": "yysRMiB5kg_N"
      },
      "source": [
        "Dari visualisasi terlihat bahwa feature price memiliki missing values"
      ],
      "id": "yysRMiB5kg_N"
    },
    {
      "cell_type": "code",
      "metadata": {
        "colab": {
          "base_uri": "https://localhost:8080/",
          "height": 1000
        },
        "id": "670447e5",
        "outputId": "18a08b89-15ea-474c-e9c2-1616e01ceba2"
      },
      "source": [
        "dataset.hist(bins = 30, figsize = (20,20), color = 'blue');"
      ],
      "id": "670447e5",
      "execution_count": 11,
      "outputs": [
        {
          "output_type": "display_data",
          "data": {
            "image/png": "[encoded data removed]",
            "text/plain": [
              "<Figure size 1440x1440 with 4 Axes>"
            ]
          },
          "metadata": {
            "needs_background": "light"
          }
        }
      ]
    },
    {
      "cell_type": "markdown",
      "metadata": {
        "id": "y4XVODsFk0ph"
      },
      "source": [
        "### Visualisasi Numerical Features"
      ],
      "id": "y4XVODsFk0ph"
    },
    {
      "cell_type": "code",
      "metadata": {
        "colab": {
          "base_uri": "https://localhost:8080/"
        },
        "id": "bGStFLt8k4aW",
        "outputId": "4c93098c-f45f-46fa-d6d2-eca05c8e335e"
      },
      "source": [
        "Numerical_features = [feature for feature in dataset.columns if dataset[feature].dtypes!='O']\n",
        "\n",
        "print(\"Jumlah Numerical Features {}\".format(len(Numerical_features)))"
      ],
      "id": "bGStFLt8k4aW",
      "execution_count": 12,
      "outputs": [
        {
          "output_type": "stream",
          "name": "stdout",
          "text": [
            "Jumlah Numerical Features 3\n"
          ]
        }
      ]
    },
    {
      "cell_type": "markdown",
      "metadata": {
        "id": "EMM-E2fYlCTC"
      },
      "source": [
        "#### Visualisasi Features Destination Terhadap Features Price"
      ],
      "id": "EMM-E2fYlCTC"
    },
    {
      "cell_type": "code",
      "metadata": {
        "colab": {
          "base_uri": "https://localhost:8080/",
          "height": 588
        },
        "id": "5327e84b",
        "outputId": "86f3b404-2b20-45fa-b451-4a8c9472dcb4"
      },
      "source": [
        "plt.figure(figsize=(20,8))\n",
        "sns.barplot(x='destination',y='price',data=dataset);\n",
        "plt.xticks(rotation = 60);"
      ],
      "id": "5327e84b",
      "execution_count": 13,
      "outputs": [
        {
          "output_type": "display_data",
          "data": {
            "image/png": "[encoded data removed]",
            "text/plain": [
              "<Figure size 1440x576 with 1 Axes>"
            ]
          },
          "metadata": {
            "needs_background": "light"
          }
        }
      ]
    },
    {
      "cell_type": "markdown",
      "metadata": {
        "id": "e3042986"
      },
      "source": [
        "Dari hasil visualisasi terlihat bahwa price rata-rata tertinggi adalah untuk tempat tujuan 'Boston University', 'Fenway'  dan 'Financial District'"
      ],
      "id": "e3042986"
    },
    {
      "cell_type": "markdown",
      "metadata": {
        "id": "ag_KK9LtmKv-"
      },
      "source": [
        "#### Visualisasi Features Source Terhadap Features Price"
      ],
      "id": "ag_KK9LtmKv-"
    },
    {
      "cell_type": "code",
      "metadata": {
        "colab": {
          "base_uri": "https://localhost:8080/",
          "height": 588
        },
        "id": "83201e5a",
        "outputId": "f08377a6-ef1c-48d2-f23a-d309caf00ea7"
      },
      "source": [
        "plt.figure(figsize=(20,8))\n",
        "sns.barplot(x='source',y='price',data=dataset);\n",
        "plt.xticks(rotation = 60);"
      ],
      "id": "83201e5a",
      "execution_count": 14,
      "outputs": [
        {
          "output_type": "display_data",
          "data": {
            "image/png": "[encoded data removed]",
            "text/plain": [
              "<Figure size 1440x576 with 1 Axes>"
            ]
          },
          "metadata": {
            "needs_background": "light"
          }
        }
      ]
    },
    {
      "cell_type": "markdown",
      "metadata": {
        "id": "0decf505"
      },
      "source": [
        "Dari hasil visualisasi terlihat bahwa price rata-rata tertinggi adalah untuk keberangkatan dari 'Boston University', 'Fenway'  dan 'Financial District'"
      ],
      "id": "0decf505"
    },
    {
      "cell_type": "markdown",
      "metadata": {
        "id": "f00Hpvqpml1k"
      },
      "source": [
        "#### Visualisasi Features Name Terhadap Features Price"
      ],
      "id": "f00Hpvqpml1k"
    },
    {
      "cell_type": "code",
      "metadata": {
        "colab": {
          "base_uri": "https://localhost:8080/",
          "height": 544
        },
        "id": "8ca7ca06",
        "outputId": "e7e843ad-2c91-4a44-a3d6-f933bba55f36"
      },
      "source": [
        "plt.figure(figsize=(20,8))\n",
        "sns.barplot(x='name',y='price',data=dataset);\n",
        "plt.xticks(rotation = 60);"
      ],
      "id": "8ca7ca06",
      "execution_count": 15,
      "outputs": [
        {
          "output_type": "display_data",
          "data": {
            "image/png": "[encoded data removed]",
            "text/plain": [
              "<Figure size 1440x576 with 1 Axes>"
            ]
          },
          "metadata": {
            "needs_background": "light"
          }
        }
      ]
    },
    {
      "cell_type": "markdown",
      "metadata": {
        "id": "KHyoeCUboYvZ"
      },
      "source": [
        "Dari hasil visualisasi terlihat bahwa price rata-rata tertinggi adalah untuk layanan 'Black SUV' dan 'Lux Black XL' "
      ],
      "id": "KHyoeCUboYvZ"
    },
    {
      "cell_type": "markdown",
      "metadata": {
        "id": "gtAk-gS1nb3p"
      },
      "source": [
        "## 5. Features Engineering"
      ],
      "id": "gtAk-gS1nb3p"
    },
    {
      "cell_type": "markdown",
      "metadata": {
        "id": "GRDXlpJxvMuk"
      },
      "source": [
        "#### Membagi data terlebih dahulu sebelum menerapkan Rekayasa Fitur (Feature Engineering)"
      ],
      "id": "GRDXlpJxvMuk"
    },
    {
      "cell_type": "code",
      "metadata": {
        "id": "sjEtOOeDvNXZ"
      },
      "source": [
        "X_train, X_test, y_train, y_test = train_test_split(dataset, dataset['price'],test_size=0.1,random_state=0)"
      ],
      "id": "sjEtOOeDvNXZ",
      "execution_count": 16,
      "outputs": []
    },
    {
      "cell_type": "code",
      "metadata": {
        "colab": {
          "base_uri": "https://localhost:8080/",
          "height": 419
        },
        "id": "NXSFyKdSvXDr",
        "outputId": "f7a31a16-ea0b-48e1-e47e-96d0cd6e1776"
      },
      "source": [
        "X_train"
      ],
      "id": "NXSFyKdSvXDr",
      "execution_count": 17,
      "outputs": [
        {
          "output_type": "execute_result",
          "data": {
            "text/html": [
              "<div>\n",
              "<style scoped>\n",
              "    .dataframe tbody tr th:only-of-type {\n",
              "        vertical-align: middle;\n",
              "    }\n",
              "\n",
              "    .dataframe tbody tr th {\n",
              "        vertical-align: top;\n",
              "    }\n",
              "\n",
              "    .dataframe thead th {\n",
              "        text-align: right;\n",
              "    }\n",
              "</style>\n",
              "<table border=\"1\" class=\"dataframe\">\n",
              "  <thead>\n",
              "    <tr style=\"text-align: right;\">\n",
              "      <th></th>\n",
              "      <th>hour</th>\n",
              "      <th>source</th>\n",
              "      <th>destination</th>\n",
              "      <th>cab_type</th>\n",
              "      <th>name</th>\n",
              "      <th>distance</th>\n",
              "      <th>price</th>\n",
              "    </tr>\n",
              "  </thead>\n",
              "  <tbody>\n",
              "    <tr>\n",
              "      <th>21664</th>\n",
              "      <td>18</td>\n",
              "      <td>Financial District</td>\n",
              "      <td>Northeastern University</td>\n",
              "      <td>Lyft</td>\n",
              "      <td>Shared</td>\n",
              "      <td>3.17</td>\n",
              "      <td>9.0</td>\n",
              "    </tr>\n",
              "    <tr>\n",
              "      <th>126265</th>\n",
              "      <td>17</td>\n",
              "      <td>Theatre District</td>\n",
              "      <td>Fenway</td>\n",
              "      <td>Lyft</td>\n",
              "      <td>Lux Black XL</td>\n",
              "      <td>3.18</td>\n",
              "      <td>38.0</td>\n",
              "    </tr>\n",
              "    <tr>\n",
              "      <th>606306</th>\n",
              "      <td>13</td>\n",
              "      <td>Financial District</td>\n",
              "      <td>Northeastern University</td>\n",
              "      <td>Uber</td>\n",
              "      <td>Black</td>\n",
              "      <td>3.30</td>\n",
              "      <td>27.0</td>\n",
              "    </tr>\n",
              "    <tr>\n",
              "      <th>93020</th>\n",
              "      <td>1</td>\n",
              "      <td>Boston University</td>\n",
              "      <td>Theatre District</td>\n",
              "      <td>Lyft</td>\n",
              "      <td>Lux</td>\n",
              "      <td>2.93</td>\n",
              "      <td>19.5</td>\n",
              "    </tr>\n",
              "    <tr>\n",
              "      <th>471469</th>\n",
              "      <td>21</td>\n",
              "      <td>Back Bay</td>\n",
              "      <td>Boston University</td>\n",
              "      <td>Uber</td>\n",
              "      <td>Black</td>\n",
              "      <td>1.44</td>\n",
              "      <td>16.0</td>\n",
              "    </tr>\n",
              "    <tr>\n",
              "      <th>...</th>\n",
              "      <td>...</td>\n",
              "      <td>...</td>\n",
              "      <td>...</td>\n",
              "      <td>...</td>\n",
              "      <td>...</td>\n",
              "      <td>...</td>\n",
              "      <td>...</td>\n",
              "    </tr>\n",
              "    <tr>\n",
              "      <th>359783</th>\n",
              "      <td>22</td>\n",
              "      <td>Back Bay</td>\n",
              "      <td>South Station</td>\n",
              "      <td>Uber</td>\n",
              "      <td>UberXL</td>\n",
              "      <td>3.45</td>\n",
              "      <td>18.0</td>\n",
              "    </tr>\n",
              "    <tr>\n",
              "      <th>152315</th>\n",
              "      <td>5</td>\n",
              "      <td>Fenway</td>\n",
              "      <td>West End</td>\n",
              "      <td>Lyft</td>\n",
              "      <td>Lux Black</td>\n",
              "      <td>2.87</td>\n",
              "      <td>26.0</td>\n",
              "    </tr>\n",
              "    <tr>\n",
              "      <th>117952</th>\n",
              "      <td>18</td>\n",
              "      <td>West End</td>\n",
              "      <td>Northeastern University</td>\n",
              "      <td>Uber</td>\n",
              "      <td>UberXL</td>\n",
              "      <td>3.08</td>\n",
              "      <td>18.5</td>\n",
              "    </tr>\n",
              "    <tr>\n",
              "      <th>435829</th>\n",
              "      <td>2</td>\n",
              "      <td>Theatre District</td>\n",
              "      <td>Fenway</td>\n",
              "      <td>Lyft</td>\n",
              "      <td>Lyft XL</td>\n",
              "      <td>3.17</td>\n",
              "      <td>16.5</td>\n",
              "    </tr>\n",
              "    <tr>\n",
              "      <th>305711</th>\n",
              "      <td>1</td>\n",
              "      <td>North End</td>\n",
              "      <td>Beacon Hill</td>\n",
              "      <td>Uber</td>\n",
              "      <td>UberX</td>\n",
              "      <td>2.67</td>\n",
              "      <td>10.5</td>\n",
              "    </tr>\n",
              "  </tbody>\n",
              "</table>\n",
              "<p>623763 rows × 7 columns</p>\n",
              "</div>"
            ],
            "text/plain": [
              "        hour              source  ... distance price\n",
              "21664     18  Financial District  ...     3.17   9.0\n",
              "126265    17    Theatre District  ...     3.18  38.0\n",
              "606306    13  Financial District  ...     3.30  27.0\n",
              "93020      1   Boston University  ...     2.93  19.5\n",
              "471469    21            Back Bay  ...     1.44  16.0\n",
              "...      ...                 ...  ...      ...   ...\n",
              "359783    22            Back Bay  ...     3.45  18.0\n",
              "152315     5              Fenway  ...     2.87  26.0\n",
              "117952    18            West End  ...     3.08  18.5\n",
              "435829     2    Theatre District  ...     3.17  16.5\n",
              "305711     1           North End  ...     2.67  10.5\n",
              "\n",
              "[623763 rows x 7 columns]"
            ]
          },
          "metadata": {},
          "execution_count": 17
        }
      ]
    },
    {
      "cell_type": "markdown",
      "metadata": {
        "id": "nxOXDknrv8h6"
      },
      "source": [
        "untuk menghindari adanya kemungkinan kebocoran data sehingga kita perlu membagi data terlebih dahulu dan kemudian menerapkan fitur engineering"
      ],
      "id": "nxOXDknrv8h6"
    },
    {
      "cell_type": "markdown",
      "metadata": {
        "id": "adaOx4TswCOd"
      },
      "source": [
        "#### Mempersiapkan data untuk dilakukan feature engineering"
      ],
      "id": "adaOx4TswCOd"
    },
    {
      "cell_type": "code",
      "metadata": {
        "id": "RSVLXrFVwC5Z"
      },
      "source": [
        "dataset = X_train"
      ],
      "id": "RSVLXrFVwC5Z",
      "execution_count": 18,
      "outputs": []
    },
    {
      "cell_type": "code",
      "metadata": {
        "colab": {
          "base_uri": "https://localhost:8080/",
          "height": 204
        },
        "id": "2krkpPuCwM1r",
        "outputId": "f1426653-ea71-4f5b-a5ef-1e19fbb9e13f"
      },
      "source": [
        "dataset.head()"
      ],
      "id": "2krkpPuCwM1r",
      "execution_count": 19,
      "outputs": [
        {
          "output_type": "execute_result",
          "data": {
            "text/html": [
              "<div>\n",
              "<style scoped>\n",
              "    .dataframe tbody tr th:only-of-type {\n",
              "        vertical-align: middle;\n",
              "    }\n",
              "\n",
              "    .dataframe tbody tr th {\n",
              "        vertical-align: top;\n",
              "    }\n",
              "\n",
              "    .dataframe thead th {\n",
              "        text-align: right;\n",
              "    }\n",
              "</style>\n",
              "<table border=\"1\" class=\"dataframe\">\n",
              "  <thead>\n",
              "    <tr style=\"text-align: right;\">\n",
              "      <th></th>\n",
              "      <th>hour</th>\n",
              "      <th>source</th>\n",
              "      <th>destination</th>\n",
              "      <th>cab_type</th>\n",
              "      <th>name</th>\n",
              "      <th>distance</th>\n",
              "      <th>price</th>\n",
              "    </tr>\n",
              "  </thead>\n",
              "  <tbody>\n",
              "    <tr>\n",
              "      <th>21664</th>\n",
              "      <td>18</td>\n",
              "      <td>Financial District</td>\n",
              "      <td>Northeastern University</td>\n",
              "      <td>Lyft</td>\n",
              "      <td>Shared</td>\n",
              "      <td>3.17</td>\n",
              "      <td>9.0</td>\n",
              "    </tr>\n",
              "    <tr>\n",
              "      <th>126265</th>\n",
              "      <td>17</td>\n",
              "      <td>Theatre District</td>\n",
              "      <td>Fenway</td>\n",
              "      <td>Lyft</td>\n",
              "      <td>Lux Black XL</td>\n",
              "      <td>3.18</td>\n",
              "      <td>38.0</td>\n",
              "    </tr>\n",
              "    <tr>\n",
              "      <th>606306</th>\n",
              "      <td>13</td>\n",
              "      <td>Financial District</td>\n",
              "      <td>Northeastern University</td>\n",
              "      <td>Uber</td>\n",
              "      <td>Black</td>\n",
              "      <td>3.30</td>\n",
              "      <td>27.0</td>\n",
              "    </tr>\n",
              "    <tr>\n",
              "      <th>93020</th>\n",
              "      <td>1</td>\n",
              "      <td>Boston University</td>\n",
              "      <td>Theatre District</td>\n",
              "      <td>Lyft</td>\n",
              "      <td>Lux</td>\n",
              "      <td>2.93</td>\n",
              "      <td>19.5</td>\n",
              "    </tr>\n",
              "    <tr>\n",
              "      <th>471469</th>\n",
              "      <td>21</td>\n",
              "      <td>Back Bay</td>\n",
              "      <td>Boston University</td>\n",
              "      <td>Uber</td>\n",
              "      <td>Black</td>\n",
              "      <td>1.44</td>\n",
              "      <td>16.0</td>\n",
              "    </tr>\n",
              "  </tbody>\n",
              "</table>\n",
              "</div>"
            ],
            "text/plain": [
              "        hour              source  ... distance price\n",
              "21664     18  Financial District  ...     3.17   9.0\n",
              "126265    17    Theatre District  ...     3.18  38.0\n",
              "606306    13  Financial District  ...     3.30  27.0\n",
              "93020      1   Boston University  ...     2.93  19.5\n",
              "471469    21            Back Bay  ...     1.44  16.0\n",
              "\n",
              "[5 rows x 7 columns]"
            ]
          },
          "metadata": {},
          "execution_count": 19
        }
      ]
    },
    {
      "cell_type": "markdown",
      "metadata": {
        "id": "6baa68ee"
      },
      "source": [
        "#### Melihat missing data"
      ],
      "id": "6baa68ee"
    },
    {
      "cell_type": "code",
      "metadata": {
        "colab": {
          "base_uri": "https://localhost:8080/"
        },
        "id": "f891a8fc",
        "outputId": "e09e8841-1219-4df6-ae04-6ba24ad2c434"
      },
      "source": [
        "dataset.shape"
      ],
      "id": "f891a8fc",
      "execution_count": 20,
      "outputs": [
        {
          "output_type": "execute_result",
          "data": {
            "text/plain": [
              "(623763, 7)"
            ]
          },
          "metadata": {},
          "execution_count": 20
        }
      ]
    },
    {
      "cell_type": "code",
      "metadata": {
        "colab": {
          "base_uri": "https://localhost:8080/"
        },
        "id": "8fd3f68a",
        "outputId": "748b6d9b-dca0-4b73-8de7-f4540dd07f8b"
      },
      "source": [
        "dataset.isna().sum()"
      ],
      "id": "8fd3f68a",
      "execution_count": 21,
      "outputs": [
        {
          "output_type": "execute_result",
          "data": {
            "text/plain": [
              "hour               0\n",
              "source             0\n",
              "destination        0\n",
              "cab_type           0\n",
              "name               0\n",
              "distance           0\n",
              "price          49610\n",
              "dtype: int64"
            ]
          },
          "metadata": {},
          "execution_count": 21
        }
      ]
    },
    {
      "cell_type": "markdown",
      "metadata": {
        "id": "79b50726"
      },
      "source": [
        "terlihat bahwa terdapat 49610 missing values pada variabel price"
      ],
      "id": "79b50726"
    },
    {
      "cell_type": "code",
      "metadata": {
        "colab": {
          "base_uri": "https://localhost:8080/"
        },
        "id": "f8fd4d43",
        "outputId": "cb3f64d2-9552-48ea-9471-d887a384307d"
      },
      "source": [
        "dataset.dropna(inplace=True)\n",
        "dataset.isna().sum()"
      ],
      "id": "f8fd4d43",
      "execution_count": 22,
      "outputs": [
        {
          "output_type": "execute_result",
          "data": {
            "text/plain": [
              "hour           0\n",
              "source         0\n",
              "destination    0\n",
              "cab_type       0\n",
              "name           0\n",
              "distance       0\n",
              "price          0\n",
              "dtype: int64"
            ]
          },
          "metadata": {},
          "execution_count": 22
        }
      ]
    },
    {
      "cell_type": "markdown",
      "metadata": {
        "id": "849e517d"
      },
      "source": [
        "melakukan proses dropna atau menghapus rows dalam mengatasi missing values variabel price, hal tersebut dilakukan karena variabel value merupakan variabel dependent"
      ],
      "id": "849e517d"
    },
    {
      "cell_type": "markdown",
      "metadata": {
        "id": "NFo5Nwg1xH4G"
      },
      "source": [
        "### Mengubah categorical menjadi numerical"
      ],
      "id": "NFo5Nwg1xH4G"
    },
    {
      "cell_type": "code",
      "metadata": {
        "id": "a5vu6qfaxNYs"
      },
      "source": [
        "dataset = pd.get_dummies(dataset, drop_first=True)\n"
      ],
      "id": "a5vu6qfaxNYs",
      "execution_count": 23,
      "outputs": []
    },
    {
      "cell_type": "code",
      "metadata": {
        "colab": {
          "base_uri": "https://localhost:8080/",
          "height": 241
        },
        "id": "YD_HopY1xeT_",
        "outputId": "36ff89e5-efe0-46b7-bf45-8d6c0c76b517"
      },
      "source": [
        "dataset.head()"
      ],
      "id": "YD_HopY1xeT_",
      "execution_count": 24,
      "outputs": [
        {
          "output_type": "execute_result",
          "data": {
            "text/html": [
              "<div>\n",
              "<style scoped>\n",
              "    .dataframe tbody tr th:only-of-type {\n",
              "        vertical-align: middle;\n",
              "    }\n",
              "\n",
              "    .dataframe tbody tr th {\n",
              "        vertical-align: top;\n",
              "    }\n",
              "\n",
              "    .dataframe thead th {\n",
              "        text-align: right;\n",
              "    }\n",
              "</style>\n",
              "<table border=\"1\" class=\"dataframe\">\n",
              "  <thead>\n",
              "    <tr style=\"text-align: right;\">\n",
              "      <th></th>\n",
              "      <th>hour</th>\n",
              "      <th>distance</th>\n",
              "      <th>price</th>\n",
              "      <th>source_Beacon Hill</th>\n",
              "      <th>source_Boston University</th>\n",
              "      <th>source_Fenway</th>\n",
              "      <th>source_Financial District</th>\n",
              "      <th>source_Haymarket Square</th>\n",
              "      <th>source_North End</th>\n",
              "      <th>source_North Station</th>\n",
              "      <th>source_Northeastern University</th>\n",
              "      <th>source_South Station</th>\n",
              "      <th>source_Theatre District</th>\n",
              "      <th>source_West End</th>\n",
              "      <th>destination_Beacon Hill</th>\n",
              "      <th>destination_Boston University</th>\n",
              "      <th>destination_Fenway</th>\n",
              "      <th>destination_Financial District</th>\n",
              "      <th>destination_Haymarket Square</th>\n",
              "      <th>destination_North End</th>\n",
              "      <th>destination_North Station</th>\n",
              "      <th>destination_Northeastern University</th>\n",
              "      <th>destination_South Station</th>\n",
              "      <th>destination_Theatre District</th>\n",
              "      <th>destination_West End</th>\n",
              "      <th>cab_type_Uber</th>\n",
              "      <th>name_Black SUV</th>\n",
              "      <th>name_Lux</th>\n",
              "      <th>name_Lux Black</th>\n",
              "      <th>name_Lux Black XL</th>\n",
              "      <th>name_Lyft</th>\n",
              "      <th>name_Lyft XL</th>\n",
              "      <th>name_Shared</th>\n",
              "      <th>name_UberPool</th>\n",
              "      <th>name_UberX</th>\n",
              "      <th>name_UberXL</th>\n",
              "      <th>name_WAV</th>\n",
              "    </tr>\n",
              "  </thead>\n",
              "  <tbody>\n",
              "    <tr>\n",
              "      <th>21664</th>\n",
              "      <td>18</td>\n",
              "      <td>3.17</td>\n",
              "      <td>9.0</td>\n",
              "      <td>0</td>\n",
              "      <td>0</td>\n",
              "      <td>0</td>\n",
              "      <td>1</td>\n",
              "      <td>0</td>\n",
              "      <td>0</td>\n",
              "      <td>0</td>\n",
              "      <td>0</td>\n",
              "      <td>0</td>\n",
              "      <td>0</td>\n",
              "      <td>0</td>\n",
              "      <td>0</td>\n",
              "      <td>0</td>\n",
              "      <td>0</td>\n",
              "      <td>0</td>\n",
              "      <td>0</td>\n",
              "      <td>0</td>\n",
              "      <td>0</td>\n",
              "      <td>1</td>\n",
              "      <td>0</td>\n",
              "      <td>0</td>\n",
              "      <td>0</td>\n",
              "      <td>0</td>\n",
              "      <td>0</td>\n",
              "      <td>0</td>\n",
              "      <td>0</td>\n",
              "      <td>0</td>\n",
              "      <td>0</td>\n",
              "      <td>0</td>\n",
              "      <td>1</td>\n",
              "      <td>0</td>\n",
              "      <td>0</td>\n",
              "      <td>0</td>\n",
              "      <td>0</td>\n",
              "    </tr>\n",
              "    <tr>\n",
              "      <th>126265</th>\n",
              "      <td>17</td>\n",
              "      <td>3.18</td>\n",
              "      <td>38.0</td>\n",
              "      <td>0</td>\n",
              "      <td>0</td>\n",
              "      <td>0</td>\n",
              "      <td>0</td>\n",
              "      <td>0</td>\n",
              "      <td>0</td>\n",
              "      <td>0</td>\n",
              "      <td>0</td>\n",
              "      <td>0</td>\n",
              "      <td>1</td>\n",
              "      <td>0</td>\n",
              "      <td>0</td>\n",
              "      <td>0</td>\n",
              "      <td>1</td>\n",
              "      <td>0</td>\n",
              "      <td>0</td>\n",
              "      <td>0</td>\n",
              "      <td>0</td>\n",
              "      <td>0</td>\n",
              "      <td>0</td>\n",
              "      <td>0</td>\n",
              "      <td>0</td>\n",
              "      <td>0</td>\n",
              "      <td>0</td>\n",
              "      <td>0</td>\n",
              "      <td>0</td>\n",
              "      <td>1</td>\n",
              "      <td>0</td>\n",
              "      <td>0</td>\n",
              "      <td>0</td>\n",
              "      <td>0</td>\n",
              "      <td>0</td>\n",
              "      <td>0</td>\n",
              "      <td>0</td>\n",
              "    </tr>\n",
              "    <tr>\n",
              "      <th>606306</th>\n",
              "      <td>13</td>\n",
              "      <td>3.30</td>\n",
              "      <td>27.0</td>\n",
              "      <td>0</td>\n",
              "      <td>0</td>\n",
              "      <td>0</td>\n",
              "      <td>1</td>\n",
              "      <td>0</td>\n",
              "      <td>0</td>\n",
              "      <td>0</td>\n",
              "      <td>0</td>\n",
              "      <td>0</td>\n",
              "      <td>0</td>\n",
              "      <td>0</td>\n",
              "      <td>0</td>\n",
              "      <td>0</td>\n",
              "      <td>0</td>\n",
              "      <td>0</td>\n",
              "      <td>0</td>\n",
              "      <td>0</td>\n",
              "      <td>0</td>\n",
              "      <td>1</td>\n",
              "      <td>0</td>\n",
              "      <td>0</td>\n",
              "      <td>0</td>\n",
              "      <td>1</td>\n",
              "      <td>0</td>\n",
              "      <td>0</td>\n",
              "      <td>0</td>\n",
              "      <td>0</td>\n",
              "      <td>0</td>\n",
              "      <td>0</td>\n",
              "      <td>0</td>\n",
              "      <td>0</td>\n",
              "      <td>0</td>\n",
              "      <td>0</td>\n",
              "      <td>0</td>\n",
              "    </tr>\n",
              "    <tr>\n",
              "      <th>93020</th>\n",
              "      <td>1</td>\n",
              "      <td>2.93</td>\n",
              "      <td>19.5</td>\n",
              "      <td>0</td>\n",
              "      <td>1</td>\n",
              "      <td>0</td>\n",
              "      <td>0</td>\n",
              "      <td>0</td>\n",
              "      <td>0</td>\n",
              "      <td>0</td>\n",
              "      <td>0</td>\n",
              "      <td>0</td>\n",
              "      <td>0</td>\n",
              "      <td>0</td>\n",
              "      <td>0</td>\n",
              "      <td>0</td>\n",
              "      <td>0</td>\n",
              "      <td>0</td>\n",
              "      <td>0</td>\n",
              "      <td>0</td>\n",
              "      <td>0</td>\n",
              "      <td>0</td>\n",
              "      <td>0</td>\n",
              "      <td>1</td>\n",
              "      <td>0</td>\n",
              "      <td>0</td>\n",
              "      <td>0</td>\n",
              "      <td>1</td>\n",
              "      <td>0</td>\n",
              "      <td>0</td>\n",
              "      <td>0</td>\n",
              "      <td>0</td>\n",
              "      <td>0</td>\n",
              "      <td>0</td>\n",
              "      <td>0</td>\n",
              "      <td>0</td>\n",
              "      <td>0</td>\n",
              "    </tr>\n",
              "    <tr>\n",
              "      <th>471469</th>\n",
              "      <td>21</td>\n",
              "      <td>1.44</td>\n",
              "      <td>16.0</td>\n",
              "      <td>0</td>\n",
              "      <td>0</td>\n",
              "      <td>0</td>\n",
              "      <td>0</td>\n",
              "      <td>0</td>\n",
              "      <td>0</td>\n",
              "      <td>0</td>\n",
              "      <td>0</td>\n",
              "      <td>0</td>\n",
              "      <td>0</td>\n",
              "      <td>0</td>\n",
              "      <td>0</td>\n",
              "      <td>1</td>\n",
              "      <td>0</td>\n",
              "      <td>0</td>\n",
              "      <td>0</td>\n",
              "      <td>0</td>\n",
              "      <td>0</td>\n",
              "      <td>0</td>\n",
              "      <td>0</td>\n",
              "      <td>0</td>\n",
              "      <td>0</td>\n",
              "      <td>1</td>\n",
              "      <td>0</td>\n",
              "      <td>0</td>\n",
              "      <td>0</td>\n",
              "      <td>0</td>\n",
              "      <td>0</td>\n",
              "      <td>0</td>\n",
              "      <td>0</td>\n",
              "      <td>0</td>\n",
              "      <td>0</td>\n",
              "      <td>0</td>\n",
              "      <td>0</td>\n",
              "    </tr>\n",
              "  </tbody>\n",
              "</table>\n",
              "</div>"
            ],
            "text/plain": [
              "        hour  distance  price  ...  name_UberX  name_UberXL  name_WAV\n",
              "21664     18      3.17    9.0  ...           0            0         0\n",
              "126265    17      3.18   38.0  ...           0            0         0\n",
              "606306    13      3.30   27.0  ...           0            0         0\n",
              "93020      1      2.93   19.5  ...           0            0         0\n",
              "471469    21      1.44   16.0  ...           0            0         0\n",
              "\n",
              "[5 rows x 37 columns]"
            ]
          },
          "metadata": {},
          "execution_count": 24
        }
      ]
    },
    {
      "cell_type": "markdown",
      "metadata": {
        "id": "87596bc5"
      },
      "source": [
        "# 7. Pendefinisian Model"
      ],
      "id": "87596bc5"
    },
    {
      "cell_type": "markdown",
      "metadata": {
        "id": "f0edc843"
      },
      "source": [
        "#### Melakukan pendefinisian variabel independent(X) dan variabel dependent (y)"
      ],
      "id": "f0edc843"
    },
    {
      "cell_type": "code",
      "metadata": {
        "id": "f8ce83bd"
      },
      "source": [
        "X = dataset.drop(['price'], axis=1)\n",
        "y = dataset['price']"
      ],
      "id": "f8ce83bd",
      "execution_count": 25,
      "outputs": []
    },
    {
      "cell_type": "markdown",
      "metadata": {
        "id": "6a82edd0"
      },
      "source": [
        "# 8. Pelatihan Model"
      ],
      "id": "6a82edd0"
    },
    {
      "cell_type": "markdown",
      "metadata": {
        "id": "c02590ac"
      },
      "source": [
        "#### Melakukan Split data"
      ],
      "id": "c02590ac"
    },
    {
      "cell_type": "code",
      "metadata": {
        "id": "09f794d3"
      },
      "source": [
        "X_train, X_val, y_train, y_val = train_test_split(X, y, test_size=0.2, random_state=42)"
      ],
      "id": "09f794d3",
      "execution_count": 26,
      "outputs": []
    },
    {
      "cell_type": "markdown",
      "metadata": {
        "id": "a2242a60"
      },
      "source": [
        "membagi data training sebesar 0.8 dan data test sebesar 0.2 dengan random state 42"
      ],
      "id": "a2242a60"
    },
    {
      "cell_type": "markdown",
      "metadata": {
        "id": "bd5b1e24"
      },
      "source": [
        "#### Melakukan Standarisasi Data"
      ],
      "id": "bd5b1e24"
    },
    {
      "cell_type": "code",
      "metadata": {
        "id": "53a43055"
      },
      "source": [
        "scaler = StandardScaler()\n",
        "scaler.fit(X_train)\n",
        "X_train_trf = scaler.transform(X_train) "
      ],
      "id": "53a43055",
      "execution_count": 27,
      "outputs": []
    },
    {
      "cell_type": "markdown",
      "metadata": {
        "id": "e332a1fb"
      },
      "source": [
        "#### Create model and train (Linear Regression)"
      ],
      "id": "e332a1fb"
    },
    {
      "cell_type": "code",
      "metadata": {
        "colab": {
          "base_uri": "https://localhost:8080/"
        },
        "id": "1cacc4b8",
        "outputId": "7eadc4ba-46b0-42ac-e684-bcd7093a63e0"
      },
      "source": [
        "linear_reg = LinearRegression(fit_intercept=True)\n",
        "\n",
        "%time linear_reg.fit(X_train_trf, y_train)"
      ],
      "id": "1cacc4b8",
      "execution_count": 28,
      "outputs": [
        {
          "output_type": "stream",
          "name": "stdout",
          "text": [
            "CPU times: user 1.19 s, sys: 352 ms, total: 1.54 s\n",
            "Wall time: 1.03 s\n"
          ]
        },
        {
          "output_type": "execute_result",
          "data": {
            "text/plain": [
              "LinearRegression(copy_X=True, fit_intercept=True, n_jobs=None, normalize=False)"
            ]
          },
          "metadata": {},
          "execution_count": 28
        }
      ]
    },
    {
      "cell_type": "markdown",
      "metadata": {
        "id": "1c5415dc"
      },
      "source": [
        "#### Create model and train (Lasso Regression)"
      ],
      "id": "1c5415dc"
    },
    {
      "cell_type": "code",
      "metadata": {
        "colab": {
          "base_uri": "https://localhost:8080/"
        },
        "id": "d739e656",
        "outputId": "862e740e-e773-4217-95b4-a14b53a9d6da"
      },
      "source": [
        "lasso_reg = linear_model.Lasso(alpha=0.001, max_iter=100, tol=0.01)\n",
        "\n",
        "%time lasso_reg.fit(X_train_trf, y_train)"
      ],
      "id": "d739e656",
      "execution_count": 29,
      "outputs": [
        {
          "output_type": "stream",
          "name": "stdout",
          "text": [
            "CPU times: user 2.2 s, sys: 139 ms, total: 2.34 s\n",
            "Wall time: 1.29 s\n"
          ]
        },
        {
          "output_type": "execute_result",
          "data": {
            "text/plain": [
              "Lasso(alpha=0.001, copy_X=True, fit_intercept=True, max_iter=100,\n",
              "      normalize=False, positive=False, precompute=False, random_state=None,\n",
              "      selection='cyclic', tol=0.01, warm_start=False)"
            ]
          },
          "metadata": {},
          "execution_count": 29
        }
      ]
    },
    {
      "cell_type": "markdown",
      "metadata": {
        "id": "f724b893"
      },
      "source": [
        "#### Create model and train (Ridge Regression)"
      ],
      "id": "f724b893"
    },
    {
      "cell_type": "code",
      "metadata": {
        "colab": {
          "base_uri": "https://localhost:8080/"
        },
        "id": "92893874",
        "outputId": "5fe45d4c-743a-4870-b25a-e93a457a31fd"
      },
      "source": [
        "ridge_reg = Ridge(alpha=0.1, max_iter=1000, tol=0.001)\n",
        "\n",
        "%time ridge_reg.fit(X_train_trf, y_train)"
      ],
      "id": "92893874",
      "execution_count": 30,
      "outputs": [
        {
          "output_type": "stream",
          "name": "stdout",
          "text": [
            "CPU times: user 208 ms, sys: 140 ms, total: 348 ms\n",
            "Wall time: 184 ms\n"
          ]
        },
        {
          "output_type": "execute_result",
          "data": {
            "text/plain": [
              "Ridge(alpha=0.1, copy_X=True, fit_intercept=True, max_iter=1000,\n",
              "      normalize=False, random_state=None, solver='auto', tol=0.001)"
            ]
          },
          "metadata": {},
          "execution_count": 30
        }
      ]
    },
    {
      "cell_type": "markdown",
      "metadata": {
        "id": "96c5f814"
      },
      "source": [
        "# 9. Evaluasi Model"
      ],
      "id": "96c5f814"
    },
    {
      "cell_type": "markdown",
      "metadata": {
        "id": "993543d1"
      },
      "source": [
        "#### Melakukan standarisasi X_val"
      ],
      "id": "993543d1"
    },
    {
      "cell_type": "code",
      "metadata": {
        "id": "a4fc9e55"
      },
      "source": [
        "X_val_trf = scaler.transform(X_val)"
      ],
      "id": "a4fc9e55",
      "execution_count": 31,
      "outputs": []
    },
    {
      "cell_type": "markdown",
      "metadata": {
        "id": "618a8b0c"
      },
      "source": [
        "#### Linear Regression"
      ],
      "id": "618a8b0c"
    },
    {
      "cell_type": "code",
      "metadata": {
        "colab": {
          "base_uri": "https://localhost:8080/"
        },
        "id": "adb8d3d4",
        "outputId": "261f7a53-c4b0-4cba-b1e8-ea0287fef9b9"
      },
      "source": [
        "%time y_preds = linear_reg.predict(X_val_trf)"
      ],
      "id": "adb8d3d4",
      "execution_count": 32,
      "outputs": [
        {
          "output_type": "stream",
          "name": "stdout",
          "text": [
            "CPU times: user 7.83 ms, sys: 5.91 ms, total: 13.7 ms\n",
            "Wall time: 16.6 ms\n"
          ]
        }
      ]
    },
    {
      "cell_type": "code",
      "metadata": {
        "colab": {
          "base_uri": "https://localhost:8080/"
        },
        "id": "onEL3M-Opm1M",
        "outputId": "79e32b0b-ad30-44ae-982c-fbe844cc7702"
      },
      "source": [
        "linear_reg.score(X_val_trf, y_val)"
      ],
      "id": "onEL3M-Opm1M",
      "execution_count": 33,
      "outputs": [
        {
          "output_type": "execute_result",
          "data": {
            "text/plain": [
              "0.8950328374124507"
            ]
          },
          "metadata": {},
          "execution_count": 33
        }
      ]
    },
    {
      "cell_type": "code",
      "metadata": {
        "colab": {
          "base_uri": "https://localhost:8080/"
        },
        "id": "5PSI0U_xpqPS",
        "outputId": "cb28643e-449c-4abc-b7a0-df923610c150"
      },
      "source": [
        "linear_reg.score(X_train_trf, y_train)"
      ],
      "id": "5PSI0U_xpqPS",
      "execution_count": 34,
      "outputs": [
        {
          "output_type": "execute_result",
          "data": {
            "text/plain": [
              "0.8943492844655905"
            ]
          },
          "metadata": {},
          "execution_count": 34
        }
      ]
    },
    {
      "cell_type": "code",
      "metadata": {
        "colab": {
          "base_uri": "https://localhost:8080/"
        },
        "id": "bf6c1b82",
        "outputId": "4bb8a940-ac35-4adc-daeb-8cef9dd2efdc"
      },
      "source": [
        "R2_score_lin = r2_score(y_val, y_preds)\n",
        "print(f'R2_score : {R2_score_lin: .2f}')\n",
        "\n",
        "MAE = mean_absolute_error(y_val, y_preds)\n",
        "print(f'MAE: {MAE:.2f}')\n",
        "\n",
        "MSE = mean_squared_error(y_val, y_preds)\n",
        "print(f'MSE: {MSE:.2f}') "
      ],
      "id": "bf6c1b82",
      "execution_count": 35,
      "outputs": [
        {
          "output_type": "stream",
          "name": "stdout",
          "text": [
            "R2_score :  0.90\n",
            "MAE: 1.93\n",
            "MSE: 9.12\n"
          ]
        }
      ]
    },
    {
      "cell_type": "markdown",
      "metadata": {
        "id": "1c8e479c"
      },
      "source": [
        "#### Lasso Regression"
      ],
      "id": "1c8e479c"
    },
    {
      "cell_type": "code",
      "metadata": {
        "colab": {
          "base_uri": "https://localhost:8080/"
        },
        "id": "724a4dee",
        "outputId": "3f24293f-114b-4248-98d8-6ff60d9a8ebe"
      },
      "source": [
        "%time y_preds_lasso = lasso_reg.predict(X_val_trf)"
      ],
      "id": "724a4dee",
      "execution_count": 36,
      "outputs": [
        {
          "output_type": "stream",
          "name": "stdout",
          "text": [
            "CPU times: user 8.96 ms, sys: 5 ms, total: 14 ms\n",
            "Wall time: 14.2 ms\n"
          ]
        }
      ]
    },
    {
      "cell_type": "code",
      "metadata": {
        "colab": {
          "base_uri": "https://localhost:8080/"
        },
        "id": "3a92f901",
        "outputId": "71772f78-12f5-4bc7-bf4a-f197be3d6a06"
      },
      "source": [
        "lasso_reg.score(X_val_trf, y_val)"
      ],
      "id": "3a92f901",
      "execution_count": 37,
      "outputs": [
        {
          "output_type": "execute_result",
          "data": {
            "text/plain": [
              "0.8950399928237013"
            ]
          },
          "metadata": {},
          "execution_count": 37
        }
      ]
    },
    {
      "cell_type": "code",
      "metadata": {
        "colab": {
          "base_uri": "https://localhost:8080/"
        },
        "id": "251ae908",
        "outputId": "15e6acb8-b7b8-4752-f764-c302aac2e0b2"
      },
      "source": [
        "lasso_reg.score(X_train_trf, y_train)"
      ],
      "id": "251ae908",
      "execution_count": 38,
      "outputs": [
        {
          "output_type": "execute_result",
          "data": {
            "text/plain": [
              "0.8943515071580296"
            ]
          },
          "metadata": {},
          "execution_count": 38
        }
      ]
    },
    {
      "cell_type": "code",
      "metadata": {
        "colab": {
          "base_uri": "https://localhost:8080/"
        },
        "id": "c97fac43",
        "outputId": "98f443ea-2656-411c-a0dd-579cc347dbb9"
      },
      "source": [
        "R2_score_lasso = r2_score(y_val, y_preds_lasso)\n",
        "print(f'R2_score : {R2_score_lasso: .2f}')\n",
        "\n",
        "MAE_lasso = mean_absolute_error(y_val, y_preds_lasso)\n",
        "print(f'MAE_lasso: {MAE_lasso:.2f}')\n",
        "\n",
        "MSE_lasso = mean_squared_error(y_val, y_preds_lasso)\n",
        "print(f'MSE_lasso: {MSE_lasso:.2f}') "
      ],
      "id": "c97fac43",
      "execution_count": 39,
      "outputs": [
        {
          "output_type": "stream",
          "name": "stdout",
          "text": [
            "R2_score :  0.90\n",
            "MAE_lasso: 1.93\n",
            "MSE_lasso: 9.12\n"
          ]
        }
      ]
    },
    {
      "cell_type": "markdown",
      "metadata": {
        "id": "15a9970b"
      },
      "source": [
        "#### Ridge Regression"
      ],
      "id": "15a9970b"
    },
    {
      "cell_type": "code",
      "metadata": {
        "colab": {
          "base_uri": "https://localhost:8080/"
        },
        "id": "12eda5b7",
        "outputId": "2f8f2e9d-594c-4441-c493-13b72dfce3e9"
      },
      "source": [
        "%time y_preds_ridge = ridge_reg.predict(X_val_trf)"
      ],
      "id": "12eda5b7",
      "execution_count": 40,
      "outputs": [
        {
          "output_type": "stream",
          "name": "stdout",
          "text": [
            "CPU times: user 10.2 ms, sys: 3.02 ms, total: 13.2 ms\n",
            "Wall time: 6.71 ms\n"
          ]
        }
      ]
    },
    {
      "cell_type": "code",
      "metadata": {
        "colab": {
          "base_uri": "https://localhost:8080/"
        },
        "id": "ce5536d5",
        "outputId": "3277a680-64a6-4d9c-9f38-ca93b7011439"
      },
      "source": [
        "ridge_reg.score(X_val_trf, y_val)"
      ],
      "id": "ce5536d5",
      "execution_count": 41,
      "outputs": [
        {
          "output_type": "execute_result",
          "data": {
            "text/plain": [
              "0.8950354103036816"
            ]
          },
          "metadata": {},
          "execution_count": 41
        }
      ]
    },
    {
      "cell_type": "code",
      "metadata": {
        "colab": {
          "base_uri": "https://localhost:8080/"
        },
        "id": "34e31664",
        "outputId": "3b048c75-6982-4619-d862-661da755eec3"
      },
      "source": [
        "ridge_reg.score(X_train_trf, y_train)"
      ],
      "id": "34e31664",
      "execution_count": 42,
      "outputs": [
        {
          "output_type": "execute_result",
          "data": {
            "text/plain": [
              "0.8943528692404362"
            ]
          },
          "metadata": {},
          "execution_count": 42
        }
      ]
    },
    {
      "cell_type": "code",
      "metadata": {
        "colab": {
          "base_uri": "https://localhost:8080/"
        },
        "id": "dcad8d73",
        "outputId": "78a745e8-6991-418c-e64a-55eab82c87d9"
      },
      "source": [
        "R2_score_ridge = r2_score(y_val, y_preds_ridge)\n",
        "print(f'R2_score : {R2_score_ridge: .2f}')\n",
        "\n",
        "MAE_ridge = mean_absolute_error(y_val, y_preds_ridge)\n",
        "print(f'MAE_ridge: {MAE_ridge:.2f}')\n",
        "\n",
        "MSE_ridge = mean_squared_error(y_val, y_preds_ridge)\n",
        "print(f'MSE_ridge: {MSE_ridge:.2f}') "
      ],
      "id": "dcad8d73",
      "execution_count": 43,
      "outputs": [
        {
          "output_type": "stream",
          "name": "stdout",
          "text": [
            "R2_score :  0.90\n",
            "MAE_ridge: 1.93\n",
            "MSE_ridge: 9.12\n"
          ]
        }
      ]
    },
    {
      "cell_type": "code",
      "metadata": {
        "id": "841b73d4"
      },
      "source": [
        "model = pd.Series(['Linear Regression', 'Lasso', 'Ridge'])"
      ],
      "id": "841b73d4",
      "execution_count": 44,
      "outputs": []
    },
    {
      "cell_type": "code",
      "metadata": {
        "id": "bb7ab69f"
      },
      "source": [
        "R2_score = pd.Series([R2_score_lin, R2_score_lasso, R2_score_ridge ])\n",
        "MAE_score = pd.Series([MAE, MAE_lasso, MAE_ridge ])\n",
        "MSE_score = pd.Series([MSE, MSE_lasso, MSE_ridge ])"
      ],
      "id": "bb7ab69f",
      "execution_count": 45,
      "outputs": []
    },
    {
      "cell_type": "code",
      "metadata": {
        "colab": {
          "base_uri": "https://localhost:8080/",
          "height": 142
        },
        "id": "c43ae39f",
        "outputId": "c47d8c65-2cb1-4f71-cd44-a6ab61a72976"
      },
      "source": [
        "choose_regression = pd.DataFrame({'Regression': model, 'R2_score': R2_score, 'MAE_score': MAE_score, 'MSE_score': MSE_score})\n",
        "choose_regression"
      ],
      "id": "c43ae39f",
      "execution_count": 46,
      "outputs": [
        {
          "output_type": "execute_result",
          "data": {
            "text/html": [
              "<div>\n",
              "<style scoped>\n",
              "    .dataframe tbody tr th:only-of-type {\n",
              "        vertical-align: middle;\n",
              "    }\n",
              "\n",
              "    .dataframe tbody tr th {\n",
              "        vertical-align: top;\n",
              "    }\n",
              "\n",
              "    .dataframe thead th {\n",
              "        text-align: right;\n",
              "    }\n",
              "</style>\n",
              "<table border=\"1\" class=\"dataframe\">\n",
              "  <thead>\n",
              "    <tr style=\"text-align: right;\">\n",
              "      <th></th>\n",
              "      <th>Regression</th>\n",
              "      <th>R2_score</th>\n",
              "      <th>MAE_score</th>\n",
              "      <th>MSE_score</th>\n",
              "    </tr>\n",
              "  </thead>\n",
              "  <tbody>\n",
              "    <tr>\n",
              "      <th>0</th>\n",
              "      <td>Linear Regression</td>\n",
              "      <td>0.895033</td>\n",
              "      <td>1.933733</td>\n",
              "      <td>9.116537</td>\n",
              "    </tr>\n",
              "    <tr>\n",
              "      <th>1</th>\n",
              "      <td>Lasso</td>\n",
              "      <td>0.895040</td>\n",
              "      <td>1.934078</td>\n",
              "      <td>9.115916</td>\n",
              "    </tr>\n",
              "    <tr>\n",
              "      <th>2</th>\n",
              "      <td>Ridge</td>\n",
              "      <td>0.895035</td>\n",
              "      <td>1.934385</td>\n",
              "      <td>9.116314</td>\n",
              "    </tr>\n",
              "  </tbody>\n",
              "</table>\n",
              "</div>"
            ],
            "text/plain": [
              "          Regression  R2_score  MAE_score  MSE_score\n",
              "0  Linear Regression  0.895033   1.933733   9.116537\n",
              "1              Lasso  0.895040   1.934078   9.115916\n",
              "2              Ridge  0.895035   1.934385   9.116314"
            ]
          },
          "metadata": {},
          "execution_count": 46
        }
      ]
    },
    {
      "cell_type": "markdown",
      "metadata": {
        "id": "e69fcc3e"
      },
      "source": [
        "Dari hasil perbandingan model terlihat bahwa ketiga model memiliki Mean Absolute Error relatif yang sama sebesar 1.93 namun dikarenakan waktu training lebih cepat dari model Linear Regression dam Lasso Regression maka diputuskan untuk menggunakan model Ridge Regression "
      ],
      "id": "e69fcc3e"
    },
    {
      "cell_type": "markdown",
      "metadata": {
        "id": "799261a0"
      },
      "source": [
        "# 10. Model Inference"
      ],
      "id": "799261a0"
    },
    {
      "cell_type": "markdown",
      "metadata": {
        "id": "OWLV2KAcqwAI"
      },
      "source": [
        "#### Membuat data baru"
      ],
      "id": "OWLV2KAcqwAI"
    },
    {
      "cell_type": "code",
      "metadata": {
        "id": "xr_1jjWyy4nO"
      },
      "source": [
        "values_1 = [9,\t1.04,\t0, 0,\t0, 0,\t0, 1, 0, 0,\t0, 0, 0, 0,\t0, 0,\t1, 0,\t0, 0, 0, 0,\t0, 0,\t1, 0,\t0, 0,\t0, 0, 0, 0, 1, 0, 0, 0]\n",
        "values_2 = [9,\t3.18,\t0, 0,\t0, 0,\t0, 0,\t1, 0,\t0, 0,\t0, 0,\t1, 0,\t0, 0,\t0, 0,\t0, 0,\t0, 0,\t0, 0,\t0, 0,\t0, 0,\t0, 1,\t0, 0,\t0, 0]"
      ],
      "id": "xr_1jjWyy4nO",
      "execution_count": 48,
      "outputs": []
    },
    {
      "cell_type": "code",
      "metadata": {
        "id": "qR_jmu-N8Iic"
      },
      "source": [
        "values = [ values_1, values_2]"
      ],
      "id": "qR_jmu-N8Iic",
      "execution_count": 49,
      "outputs": []
    },
    {
      "cell_type": "code",
      "metadata": {
        "colab": {
          "base_uri": "https://localhost:8080/"
        },
        "id": "U5baU3bv8JhM",
        "outputId": "d5a81e95-fb2c-4376-fabb-0f6eca1ec47d"
      },
      "source": [
        "dataset.columns"
      ],
      "id": "U5baU3bv8JhM",
      "execution_count": 50,
      "outputs": [
        {
          "output_type": "execute_result",
          "data": {
            "text/plain": [
              "Index(['hour', 'distance', 'price', 'source_Beacon Hill',\n",
              "       'source_Boston University', 'source_Fenway',\n",
              "       'source_Financial District', 'source_Haymarket Square',\n",
              "       'source_North End', 'source_North Station',\n",
              "       'source_Northeastern University', 'source_South Station',\n",
              "       'source_Theatre District', 'source_West End', 'destination_Beacon Hill',\n",
              "       'destination_Boston University', 'destination_Fenway',\n",
              "       'destination_Financial District', 'destination_Haymarket Square',\n",
              "       'destination_North End', 'destination_North Station',\n",
              "       'destination_Northeastern University', 'destination_South Station',\n",
              "       'destination_Theatre District', 'destination_West End', 'cab_type_Uber',\n",
              "       'name_Black SUV', 'name_Lux', 'name_Lux Black', 'name_Lux Black XL',\n",
              "       'name_Lyft', 'name_Lyft XL', 'name_Shared', 'name_UberPool',\n",
              "       'name_UberX', 'name_UberXL', 'name_WAV'],\n",
              "      dtype='object')"
            ]
          },
          "metadata": {},
          "execution_count": 50
        }
      ]
    },
    {
      "cell_type": "code",
      "metadata": {
        "id": "-bI_v2zA8MZE"
      },
      "source": [
        "data_dummies = pd.DataFrame(values, columns=['hour', 'distance', 'source_Beacon Hill',\n",
        "       'source_Boston University', 'source_Fenway',\n",
        "       'source_Financial District', 'source_Haymarket Square',\n",
        "       'source_North End', 'source_North Station',\n",
        "       'source_Northeastern University', 'source_South Station',\n",
        "       'source_Theatre District', 'source_West End', 'destination_Beacon Hill',\n",
        "       'destination_Boston University', 'destination_Fenway',\n",
        "       'destination_Financial District', 'destination_Haymarket Square',\n",
        "       'destination_North End', 'destination_North Station',\n",
        "       'destination_Northeastern University', 'destination_South Station',\n",
        "       'destination_Theatre District', 'destination_West End', 'cab_type_Uber',\n",
        "       'name_Black SUV', 'name_Lux', 'name_Lux Black', 'name_Lux Black XL',\n",
        "       'name_Lyft', 'name_Lyft XL', 'name_Shared', 'name_UberPool',\n",
        "       'name_UberX', 'name_UberXL', 'name_WAV'])"
      ],
      "id": "-bI_v2zA8MZE",
      "execution_count": 51,
      "outputs": []
    },
    {
      "cell_type": "code",
      "metadata": {
        "colab": {
          "base_uri": "https://localhost:8080/",
          "height": 148
        },
        "id": "V73I_7Sh8aO4",
        "outputId": "660bc0c2-dd50-4504-dc61-b0de51a76963"
      },
      "source": [
        "data_dummies"
      ],
      "id": "V73I_7Sh8aO4",
      "execution_count": 52,
      "outputs": [
        {
          "output_type": "execute_result",
          "data": {
            "text/html": [
              "<div>\n",
              "<style scoped>\n",
              "    .dataframe tbody tr th:only-of-type {\n",
              "        vertical-align: middle;\n",
              "    }\n",
              "\n",
              "    .dataframe tbody tr th {\n",
              "        vertical-align: top;\n",
              "    }\n",
              "\n",
              "    .dataframe thead th {\n",
              "        text-align: right;\n",
              "    }\n",
              "</style>\n",
              "<table border=\"1\" class=\"dataframe\">\n",
              "  <thead>\n",
              "    <tr style=\"text-align: right;\">\n",
              "      <th></th>\n",
              "      <th>hour</th>\n",
              "      <th>distance</th>\n",
              "      <th>source_Beacon Hill</th>\n",
              "      <th>source_Boston University</th>\n",
              "      <th>source_Fenway</th>\n",
              "      <th>source_Financial District</th>\n",
              "      <th>source_Haymarket Square</th>\n",
              "      <th>source_North End</th>\n",
              "      <th>source_North Station</th>\n",
              "      <th>source_Northeastern University</th>\n",
              "      <th>source_South Station</th>\n",
              "      <th>source_Theatre District</th>\n",
              "      <th>source_West End</th>\n",
              "      <th>destination_Beacon Hill</th>\n",
              "      <th>destination_Boston University</th>\n",
              "      <th>destination_Fenway</th>\n",
              "      <th>destination_Financial District</th>\n",
              "      <th>destination_Haymarket Square</th>\n",
              "      <th>destination_North End</th>\n",
              "      <th>destination_North Station</th>\n",
              "      <th>destination_Northeastern University</th>\n",
              "      <th>destination_South Station</th>\n",
              "      <th>destination_Theatre District</th>\n",
              "      <th>destination_West End</th>\n",
              "      <th>cab_type_Uber</th>\n",
              "      <th>name_Black SUV</th>\n",
              "      <th>name_Lux</th>\n",
              "      <th>name_Lux Black</th>\n",
              "      <th>name_Lux Black XL</th>\n",
              "      <th>name_Lyft</th>\n",
              "      <th>name_Lyft XL</th>\n",
              "      <th>name_Shared</th>\n",
              "      <th>name_UberPool</th>\n",
              "      <th>name_UberX</th>\n",
              "      <th>name_UberXL</th>\n",
              "      <th>name_WAV</th>\n",
              "    </tr>\n",
              "  </thead>\n",
              "  <tbody>\n",
              "    <tr>\n",
              "      <th>0</th>\n",
              "      <td>9</td>\n",
              "      <td>1.04</td>\n",
              "      <td>0</td>\n",
              "      <td>0</td>\n",
              "      <td>0</td>\n",
              "      <td>0</td>\n",
              "      <td>0</td>\n",
              "      <td>1</td>\n",
              "      <td>0</td>\n",
              "      <td>0</td>\n",
              "      <td>0</td>\n",
              "      <td>0</td>\n",
              "      <td>0</td>\n",
              "      <td>0</td>\n",
              "      <td>0</td>\n",
              "      <td>0</td>\n",
              "      <td>1</td>\n",
              "      <td>0</td>\n",
              "      <td>0</td>\n",
              "      <td>0</td>\n",
              "      <td>0</td>\n",
              "      <td>0</td>\n",
              "      <td>0</td>\n",
              "      <td>0</td>\n",
              "      <td>1</td>\n",
              "      <td>0</td>\n",
              "      <td>0</td>\n",
              "      <td>0</td>\n",
              "      <td>0</td>\n",
              "      <td>0</td>\n",
              "      <td>0</td>\n",
              "      <td>0</td>\n",
              "      <td>1</td>\n",
              "      <td>0</td>\n",
              "      <td>0</td>\n",
              "      <td>0</td>\n",
              "    </tr>\n",
              "    <tr>\n",
              "      <th>1</th>\n",
              "      <td>9</td>\n",
              "      <td>3.18</td>\n",
              "      <td>0</td>\n",
              "      <td>0</td>\n",
              "      <td>0</td>\n",
              "      <td>0</td>\n",
              "      <td>0</td>\n",
              "      <td>0</td>\n",
              "      <td>1</td>\n",
              "      <td>0</td>\n",
              "      <td>0</td>\n",
              "      <td>0</td>\n",
              "      <td>0</td>\n",
              "      <td>0</td>\n",
              "      <td>1</td>\n",
              "      <td>0</td>\n",
              "      <td>0</td>\n",
              "      <td>0</td>\n",
              "      <td>0</td>\n",
              "      <td>0</td>\n",
              "      <td>0</td>\n",
              "      <td>0</td>\n",
              "      <td>0</td>\n",
              "      <td>0</td>\n",
              "      <td>0</td>\n",
              "      <td>0</td>\n",
              "      <td>0</td>\n",
              "      <td>0</td>\n",
              "      <td>0</td>\n",
              "      <td>0</td>\n",
              "      <td>0</td>\n",
              "      <td>1</td>\n",
              "      <td>0</td>\n",
              "      <td>0</td>\n",
              "      <td>0</td>\n",
              "      <td>0</td>\n",
              "    </tr>\n",
              "  </tbody>\n",
              "</table>\n",
              "</div>"
            ],
            "text/plain": [
              "   hour  distance  source_Beacon Hill  ...  name_UberX  name_UberXL  name_WAV\n",
              "0     9      1.04                   0  ...           0            0         0\n",
              "1     9      3.18                   0  ...           0            0         0\n",
              "\n",
              "[2 rows x 36 columns]"
            ]
          },
          "metadata": {},
          "execution_count": 52
        }
      ]
    },
    {
      "cell_type": "code",
      "metadata": {
        "colab": {
          "base_uri": "https://localhost:8080/"
        },
        "id": "rEYeUja-8dpk",
        "outputId": "4ad96148-0fe4-420c-8d6b-0509c2e567db"
      },
      "source": [
        "data_dummies_trf = scaler.transform(data_dummies)\n",
        "data_dummies_trf"
      ],
      "id": "rEYeUja-8dpk",
      "execution_count": 53,
      "outputs": [
        {
          "output_type": "execute_result",
          "data": {
            "text/plain": [
              "array([[-0.37882042, -1.01187812, -0.30046678, -0.30170966, -0.30131008,\n",
              "        -0.30452686, -0.3011897 ,  3.31784634, -0.29966935, -0.30171396,\n",
              "        -0.30188142, -0.30193722, -0.30088862, -0.3002557 , -0.3012198 ,\n",
              "        -0.30209602,  3.2798306 , -0.3015808 , -0.30171396, -0.29991088,\n",
              "        -0.3011725 , -0.3011467 , -0.30140463, -0.30073801,  0.9646076 ,\n",
              "        -0.30744998, -0.29590433, -0.29566495, -0.29507682, -0.29527731,\n",
              "        -0.29555174, -0.29581294,  3.26383138, -0.30764081, -0.30778071,\n",
              "        -0.30753056],\n",
              "       [-0.37882042,  0.87160854, -0.30046678, -0.30170966, -0.30131008,\n",
              "        -0.30452686, -0.3011897 , -0.30140034,  3.33701128, -0.30171396,\n",
              "        -0.30188142, -0.30193722, -0.30088862, -0.3002557 ,  3.31983492,\n",
              "        -0.30209602, -0.3048938 , -0.3015808 , -0.30171396, -0.29991088,\n",
              "        -0.3011725 , -0.3011467 , -0.30140463, -0.30073801, -1.03669098,\n",
              "        -0.30744998, -0.29590433, -0.29566495, -0.29507682, -0.29527731,\n",
              "        -0.29555174,  3.38051469, -0.30638838, -0.30764081, -0.30778071,\n",
              "        -0.30753056]])"
            ]
          },
          "metadata": {},
          "execution_count": 53
        }
      ]
    },
    {
      "cell_type": "markdown",
      "metadata": {
        "id": "4894cc9f"
      },
      "source": [
        "#### Mencoba prediksi dengan data X"
      ],
      "id": "4894cc9f"
    },
    {
      "cell_type": "code",
      "metadata": {
        "colab": {
          "base_uri": "https://localhost:8080/"
        },
        "id": "54524127",
        "outputId": "67a80dc9-3f92-4ddd-f6e3-9a208c4228d4"
      },
      "source": [
        "predictions = ridge_reg.predict(data_dummies_trf)\n",
        "\n",
        "print(\"Hasil Prediksi harga dengan model Ridge Regression: \\n\")\n",
        "print('Prediksi Harga untuk rute Perjalanan 1 adalah {}'.format(round(predictions[0],2)))\n",
        "print('Prediksi Harga untuk rute Perjalanan 2 adalah {} '.format(round(predictions[1],2)))"
      ],
      "id": "54524127",
      "execution_count": 54,
      "outputs": [
        {
          "output_type": "stream",
          "name": "stdout",
          "text": [
            "Hasil Prediksi harga dengan model Ridge Regression: \n",
            "\n",
            "Prediksi Harga untuk rute Perjalanan 1 adalah 6.03\n",
            "Prediksi Harga untuk rute Perjalanan 2 adalah 8.65 \n"
          ]
        }
      ]
    },
    {
      "cell_type": "markdown",
      "metadata": {
        "id": "7e58b541"
      },
      "source": [
        "# 11. Kesimpulan"
      ],
      "id": "7e58b541"
    },
    {
      "cell_type": "markdown",
      "metadata": {
        "id": "3fa410e2"
      },
      "source": [
        "### 11.1 Model Analysis"
      ],
      "id": "3fa410e2"
    },
    {
      "cell_type": "code",
      "metadata": {
        "id": "8522d060"
      },
      "source": [
        "params = pd.Series(ridge_reg.coef_, index=X.columns)"
      ],
      "id": "8522d060",
      "execution_count": 55,
      "outputs": []
    },
    {
      "cell_type": "code",
      "metadata": {
        "colab": {
          "base_uri": "https://localhost:8080/",
          "height": 1000
        },
        "id": "b7bb513f",
        "outputId": "00d43d7f-d3fa-46bf-8938-255d7675d644"
      },
      "source": [
        "analisis = pd.DataFrame(params.round(0),X.columns,columns=['Coeff'])\n",
        "analisis"
      ],
      "id": "b7bb513f",
      "execution_count": 56,
      "outputs": [
        {
          "output_type": "execute_result",
          "data": {
            "text/html": [
              "<div>\n",
              "<style scoped>\n",
              "    .dataframe tbody tr th:only-of-type {\n",
              "        vertical-align: middle;\n",
              "    }\n",
              "\n",
              "    .dataframe tbody tr th {\n",
              "        vertical-align: top;\n",
              "    }\n",
              "\n",
              "    .dataframe thead th {\n",
              "        text-align: right;\n",
              "    }\n",
              "</style>\n",
              "<table border=\"1\" class=\"dataframe\">\n",
              "  <thead>\n",
              "    <tr style=\"text-align: right;\">\n",
              "      <th></th>\n",
              "      <th>Coeff</th>\n",
              "    </tr>\n",
              "  </thead>\n",
              "  <tbody>\n",
              "    <tr>\n",
              "      <th>hour</th>\n",
              "      <td>0.0</td>\n",
              "    </tr>\n",
              "    <tr>\n",
              "      <th>distance</th>\n",
              "      <td>3.0</td>\n",
              "    </tr>\n",
              "    <tr>\n",
              "      <th>source_Beacon Hill</th>\n",
              "      <td>-0.0</td>\n",
              "    </tr>\n",
              "    <tr>\n",
              "      <th>source_Boston University</th>\n",
              "      <td>-0.0</td>\n",
              "    </tr>\n",
              "    <tr>\n",
              "      <th>source_Fenway</th>\n",
              "      <td>-0.0</td>\n",
              "    </tr>\n",
              "    <tr>\n",
              "      <th>source_Financial District</th>\n",
              "      <td>0.0</td>\n",
              "    </tr>\n",
              "    <tr>\n",
              "      <th>source_Haymarket Square</th>\n",
              "      <td>0.0</td>\n",
              "    </tr>\n",
              "    <tr>\n",
              "      <th>source_North End</th>\n",
              "      <td>0.0</td>\n",
              "    </tr>\n",
              "    <tr>\n",
              "      <th>source_North Station</th>\n",
              "      <td>-0.0</td>\n",
              "    </tr>\n",
              "    <tr>\n",
              "      <th>source_Northeastern University</th>\n",
              "      <td>-0.0</td>\n",
              "    </tr>\n",
              "    <tr>\n",
              "      <th>source_South Station</th>\n",
              "      <td>0.0</td>\n",
              "    </tr>\n",
              "    <tr>\n",
              "      <th>source_Theatre District</th>\n",
              "      <td>0.0</td>\n",
              "    </tr>\n",
              "    <tr>\n",
              "      <th>source_West End</th>\n",
              "      <td>-0.0</td>\n",
              "    </tr>\n",
              "    <tr>\n",
              "      <th>destination_Beacon Hill</th>\n",
              "      <td>-0.0</td>\n",
              "    </tr>\n",
              "    <tr>\n",
              "      <th>destination_Boston University</th>\n",
              "      <td>0.0</td>\n",
              "    </tr>\n",
              "    <tr>\n",
              "      <th>destination_Fenway</th>\n",
              "      <td>-0.0</td>\n",
              "    </tr>\n",
              "    <tr>\n",
              "      <th>destination_Financial District</th>\n",
              "      <td>0.0</td>\n",
              "    </tr>\n",
              "    <tr>\n",
              "      <th>destination_Haymarket Square</th>\n",
              "      <td>0.0</td>\n",
              "    </tr>\n",
              "    <tr>\n",
              "      <th>destination_North End</th>\n",
              "      <td>0.0</td>\n",
              "    </tr>\n",
              "    <tr>\n",
              "      <th>destination_North Station</th>\n",
              "      <td>0.0</td>\n",
              "    </tr>\n",
              "    <tr>\n",
              "      <th>destination_Northeastern University</th>\n",
              "      <td>0.0</td>\n",
              "    </tr>\n",
              "    <tr>\n",
              "      <th>destination_South Station</th>\n",
              "      <td>0.0</td>\n",
              "    </tr>\n",
              "    <tr>\n",
              "      <th>destination_Theatre District</th>\n",
              "      <td>0.0</td>\n",
              "    </tr>\n",
              "    <tr>\n",
              "      <th>destination_West End</th>\n",
              "      <td>-0.0</td>\n",
              "    </tr>\n",
              "    <tr>\n",
              "      <th>cab_type_Uber</th>\n",
              "      <td>1.0</td>\n",
              "    </tr>\n",
              "    <tr>\n",
              "      <th>name_Black SUV</th>\n",
              "      <td>3.0</td>\n",
              "    </tr>\n",
              "    <tr>\n",
              "      <th>name_Lux</th>\n",
              "      <td>-0.0</td>\n",
              "    </tr>\n",
              "    <tr>\n",
              "      <th>name_Lux Black</th>\n",
              "      <td>1.0</td>\n",
              "    </tr>\n",
              "    <tr>\n",
              "      <th>name_Lux Black XL</th>\n",
              "      <td>4.0</td>\n",
              "    </tr>\n",
              "    <tr>\n",
              "      <th>name_Lyft</th>\n",
              "      <td>-2.0</td>\n",
              "    </tr>\n",
              "    <tr>\n",
              "      <th>name_Lyft XL</th>\n",
              "      <td>-1.0</td>\n",
              "    </tr>\n",
              "    <tr>\n",
              "      <th>name_Shared</th>\n",
              "      <td>-3.0</td>\n",
              "    </tr>\n",
              "    <tr>\n",
              "      <th>name_UberPool</th>\n",
              "      <td>-3.0</td>\n",
              "    </tr>\n",
              "    <tr>\n",
              "      <th>name_UberX</th>\n",
              "      <td>-3.0</td>\n",
              "    </tr>\n",
              "    <tr>\n",
              "      <th>name_UberXL</th>\n",
              "      <td>-1.0</td>\n",
              "    </tr>\n",
              "    <tr>\n",
              "      <th>name_WAV</th>\n",
              "      <td>-3.0</td>\n",
              "    </tr>\n",
              "  </tbody>\n",
              "</table>\n",
              "</div>"
            ],
            "text/plain": [
              "                                     Coeff\n",
              "hour                                   0.0\n",
              "distance                               3.0\n",
              "source_Beacon Hill                    -0.0\n",
              "source_Boston University              -0.0\n",
              "source_Fenway                         -0.0\n",
              "source_Financial District              0.0\n",
              "source_Haymarket Square                0.0\n",
              "source_North End                       0.0\n",
              "source_North Station                  -0.0\n",
              "source_Northeastern University        -0.0\n",
              "source_South Station                   0.0\n",
              "source_Theatre District                0.0\n",
              "source_West End                       -0.0\n",
              "destination_Beacon Hill               -0.0\n",
              "destination_Boston University          0.0\n",
              "destination_Fenway                    -0.0\n",
              "destination_Financial District         0.0\n",
              "destination_Haymarket Square           0.0\n",
              "destination_North End                  0.0\n",
              "destination_North Station              0.0\n",
              "destination_Northeastern University    0.0\n",
              "destination_South Station              0.0\n",
              "destination_Theatre District           0.0\n",
              "destination_West End                  -0.0\n",
              "cab_type_Uber                          1.0\n",
              "name_Black SUV                         3.0\n",
              "name_Lux                              -0.0\n",
              "name_Lux Black                         1.0\n",
              "name_Lux Black XL                      4.0\n",
              "name_Lyft                             -2.0\n",
              "name_Lyft XL                          -1.0\n",
              "name_Shared                           -3.0\n",
              "name_UberPool                         -3.0\n",
              "name_UberX                            -3.0\n",
              "name_UberXL                           -1.0\n",
              "name_WAV                              -3.0"
            ]
          },
          "metadata": {},
          "execution_count": 56
        }
      ]
    },
    {
      "cell_type": "markdown",
      "metadata": {
        "id": "5dfb912a"
      },
      "source": [
        "#### Model Analysis :\n",
        "\n",
        "Dengan menggunakan Model Ridge Regression terdapat beberapa variabel yang memiliki relasi positif terhadap varibel price, yaitu:\n",
        "\n",
        "* Dengan memegang semua fitur lainnya tetap, peningkatan rata-rata 1 unit feature distance akan menyebabkan peningkatan total 3 unit feature price.\n",
        "\n",
        "* Dengan memegang semua fitur lainnya tetap, peningkatan rata-rata 1 unit feature cab_type_Uber akan menyebabkan peningkatan total 1 unit variabel price.\n",
        "\n",
        "* Dengan memegang semua fitur lainnya tetap, peningkatan rata-rata 1 unit feature name_Black SUV akan menyebabkan peningkatan total 3 unit feature price.\n",
        "\n",
        "* Dengan memegang semua fitur lainnya tetap, peningkatan rata-rata 1 unit feature name_Lux Black akan menyebabkan peningkatan total 1 unit feature price.\n",
        "\n",
        "* Dengan memegang semua fitur lainnya tetap, peningkatan rata-rata 1 unit feature name_Lux Black XL akan menyebabkan peningkatan total 4 unit variabel price."
      ],
      "id": "5dfb912a"
    },
    {
      "cell_type": "markdown",
      "metadata": {
        "id": "08abae02"
      },
      "source": [
        "### 11.2 Overall Analysis"
      ],
      "id": "08abae02"
    },
    {
      "cell_type": "markdown",
      "metadata": {
        "id": "1472938b"
      },
      "source": [
        "Analisa secara keseluruhan:\n",
        "* Dataset merupakan kumpulan data untuk layanan Uber dan Lyft.\n",
        "* Objective yang ingin didapat adalah memprediksi variabel price\n",
        "* Secara keseluruhan dataset terdiri dari 57 columns dan 693071 rows\n",
        "* Dalam data preprocessing dilakukan pemilihan variabel 'hour', 'source', 'destination', 'cab_type', 'name', 'distance' karena kemungkinan memiliki pengaruh dalam melakukan prediksi variabel 'price'\n",
        "* Dari explorasi data dapat terlihat bahwa:\n",
        "    * Dari visualisasi terlihat bahwa Variabel Distance memiliki korelasi terbesar terhadap variabel price yaitu sebesar 0.35\n",
        "    * Dari hasil visualisasi terlihat bahwa price rata-rata tertinggi adalah untuk tempat tujuan 'Boston University', 'Fenway' dan 'Financial District'\n",
        "    * Dari hasil visualisasi terlihat bahwa price rata-rata tertinggi adalah untuk keberangkatan dari 'Boston University', 'Fenway' dan 'Financial District'\n",
        "    * Dari hasil visualisasi terlihat bahwa price rata-rata tertinggi adalah untuk layanan 'Black SUV' dan 'Lux Black XL'\n",
        "* Melakukan proses get dummies untuk mengubah variabel categorical yaitu variabel 'source', 'destination', 'cab_type', 'name' menjadi numeric\n",
        "* Dalam proses data cleaning terlihat bahwa terdapat 55095 missing values pada variabel price, dan untuk mengatasi missing values tersebut dilakukan proses dropna atau menghapus rows dalam mengatasi missing values variabel price, hal tersebut dilakukan karena variabel value merupakan variabel dependent\n",
        "* Menggunakan model Regression Karena Objective yang ingin dicapai adalah melakukan prediksi terhadap variabel price, untuk itu kita akan coba menggunakan Linear Regression, Lasso Regression, dan Ridge Regression dan membandingkan performa dari ketiga model tersebut\n",
        "* Dalam melakukan split data dilakukan dengan membagi data training sebesar 0.7 dan data test sebesar 0.3 dengan random state 42\n",
        "* Dari hasil perbandingan model terlihat bahwa ketiga model memiliki Mean Absolute Error relatif yang sama sebesar 1.93 namun dikarenakan waktu training lebih cepat dari model Linear Regression dam Lasso Regression maka diputuskan untuk menggunakan model Ridge Regression \n",
        "* Dari hasil prediksi variabel price dengan menggunakan model Ridge Regression didapatkan hasil R2_score :  0.89, MAE_ridge: 1.93, MSE_ridge: 9.24"
      ],
      "id": "1472938b"
    },
    {
      "cell_type": "code",
      "metadata": {
        "id": "tiGS78VqIbkJ"
      },
      "source": [
        ""
      ],
      "id": "tiGS78VqIbkJ",
      "execution_count": 56,
      "outputs": []
    }
  ]
}